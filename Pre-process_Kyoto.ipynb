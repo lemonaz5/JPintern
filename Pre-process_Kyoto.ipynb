{
 "cells": [
  {
   "cell_type": "markdown",
   "metadata": {},
   "source": [
    "# Pre-Process Kyoto"
   ]
  },
  {
   "cell_type": "markdown",
   "metadata": {},
   "source": [
    "## Import zone"
   ]
  },
  {
   "cell_type": "code",
   "execution_count": 1,
   "metadata": {},
   "outputs": [],
   "source": [
    "import pandas as pd\n",
    "from mtranslate import translate\n",
    "import pickle\n",
    "import json_lines\n",
    "import numpy as np\n",
    "import os"
   ]
  },
  {
   "cell_type": "markdown",
   "metadata": {},
   "source": [
    "## function zone "
   ]
  },
  {
   "cell_type": "code",
   "execution_count": 2,
   "metadata": {},
   "outputs": [],
   "source": [
    "def save_obj(file, obj):\n",
    "    with open(file, 'wb') as f:\n",
    "        pickle.dump(obj, f)\n",
    "\n",
    "def load_obj(file):\n",
    "    with open(file, 'rb') as f:\n",
    "        return pickle.load(f)"
   ]
  },
  {
   "cell_type": "code",
   "execution_count": 3,
   "metadata": {},
   "outputs": [],
   "source": [
    "path = r\"C:\\Users\\sociocom\\Desktop\\Crawler\\tweet_location\""
   ]
  },
  {
   "cell_type": "markdown",
   "metadata": {},
   "source": [
    "## Data zone"
   ]
  },
  {
   "cell_type": "code",
   "execution_count": 4,
   "metadata": {},
   "outputs": [],
   "source": [
    "#path = r\"C:\\Users\\sociocom\\Desktop\\Crawler\\tweet_location\\2\"\n",
    "#list_tweets = []\n",
    "#for filename in os.listdir(path):\n",
    "#    with open(path + \"\\\\\" + filename, \"rb\") as f:\n",
    "#        print(path + \"\\\\\" + filename)\n",
    "#        for tweet in json_lines.reader(f):\n",
    "#            list_tweets.append(tweet)"
   ]
  },
  {
   "cell_type": "code",
   "execution_count": 507,
   "metadata": {},
   "outputs": [],
   "source": [
    "list_tweets = []\n",
    "with open(r\"C:\\Users\\sociocom\\Desktop\\Crawler\\tweet_location\\filter-2018-06-17.jsonl\", \"rb\") as f:\n",
    "    for tweet in json_lines.reader(f):\n",
    "        list_tweets.append(tweet)"
   ]
  },
  {
   "cell_type": "code",
   "execution_count": 508,
   "metadata": {},
   "outputs": [],
   "source": [
    "list_tweets_je = []\n",
    "list_places = []\n",
    "list_users = []\n",
    "list_coor = []\n",
    "for tweet in list_tweets:\n",
    "    if tweet['lang'] != None:\n",
    "        if (tweet['lang'] in ['ja','en']) and (tweet['place']!=None) and (tweet['place']['country_code']==\"JP\"):\n",
    "            list_users.append(tweet['user'])\n",
    "            d={}\n",
    "            if tweet['coordinates']!=None: \n",
    "                d['ex_long'] = tweet['coordinates']['coordinates'][0]            \n",
    "                d['ex_lat'] = tweet['coordinates']['coordinates'][1]\n",
    "                list_coor.append(d)\n",
    "            else:\n",
    "                d['ex_long'] = None\n",
    "                d['ex_lat'] = None\n",
    "                list_coor.append(d)\n",
    "            p = {}\n",
    "            if tweet['place']!=None:\n",
    "                p['place'] = tweet['place']['name']\n",
    "                if tweet['place']['bounding_box']!=None and tweet['place']['bounding_box']['coordinates']!=None:\n",
    "                    p['lot_sw'] = str(tweet['place']['bounding_box']['coordinates'][0][0])[1:-1]\n",
    "                    p['lot_ne'] = str(tweet['place']['bounding_box']['coordinates'][0][2])[1:-1]\n",
    "                else:\n",
    "                    p['lot_sw'] = None\n",
    "                    p['lot_ne'] = None\n",
    "                list_places.append(p)\n",
    "            else:\n",
    "                p['place'] = None\n",
    "                p['lot_sw'] = None\n",
    "                p['lot_ne'] = None\n",
    "            list_tweets_je.append(tweet)"
   ]
  },
  {
   "cell_type": "code",
   "execution_count": 509,
   "metadata": {},
   "outputs": [],
   "source": [
    "df_tweet = pd.DataFrame(list_tweets_je)\n",
    "df_place = pd.DataFrame(list_places)\n",
    "df_user = pd.DataFrame(list_users)\n",
    "df_coor = pd.DataFrame(list_coor)"
   ]
  },
  {
   "cell_type": "code",
   "execution_count": 510,
   "metadata": {},
   "outputs": [],
   "source": [
    "df_user.rename(columns={\"id_str\":\"id_user_str\"}, inplace=True)"
   ]
  },
  {
   "cell_type": "code",
   "execution_count": 511,
   "metadata": {},
   "outputs": [],
   "source": [
    "tweet_df = df_tweet.filter(['id_str','text','created_at','in_reply_to_status_id_str','in_reply_to_user_id_str','in_reply_to_screen_name','lang'],axis=1)"
   ]
  },
  {
   "cell_type": "code",
   "execution_count": 512,
   "metadata": {},
   "outputs": [],
   "source": [
    "tweets_kyoto = pd.concat([df_user['screen_name'], df_user['id_user_str'],tweet_df, df_coor, df_place],axis=1)"
   ]
  },
  {
   "cell_type": "code",
   "execution_count": 513,
   "metadata": {},
   "outputs": [],
   "source": [
    "tweets_kyoto = tweets_kyoto[np.isfinite(tweets_kyoto['ex_lat'])]"
   ]
  },
  {
   "cell_type": "code",
   "execution_count": 514,
   "metadata": {},
   "outputs": [],
   "source": [
    "tweets_kyoto_filter = tweets_kyoto[tweets_kyoto['ex_lat']<35.055205]\n",
    "tweets_kyoto_filter = tweets_kyoto_filter[tweets_kyoto_filter['ex_lat']>34.955205]\n",
    "tweets_kyoto_filter = tweets_kyoto_filter[tweets_kyoto_filter['ex_long']<135.795300]\n",
    "tweets_kyoto_filter = tweets_kyoto_filter[tweets_kyoto_filter['ex_long']>135.675300]"
   ]
  },
  {
   "cell_type": "code",
   "execution_count": 515,
   "metadata": {},
   "outputs": [
    {
     "data": {
      "text/plain": [
       "1305"
      ]
     },
     "execution_count": 515,
     "metadata": {},
     "output_type": "execute_result"
    }
   ],
   "source": [
    "len(tweets_kyoto_filter)"
   ]
  },
  {
   "cell_type": "code",
   "execution_count": 516,
   "metadata": {},
   "outputs": [],
   "source": [
    "save_obj(path + '\\mura_kyoto_tweet47', tweets_kyoto_filter)"
   ]
  },
  {
   "cell_type": "code",
   "execution_count": 17,
   "metadata": {},
   "outputs": [],
   "source": [
    "tweets_kyoto_filter = load_obj(path + '\\mura_kyoto_tweet3')"
   ]
  },
  {
   "cell_type": "code",
   "execution_count": 391,
   "metadata": {},
   "outputs": [],
   "source": [
    "tweets_kyoto_filter.reset_index(inplace=True, drop=\"index\")"
   ]
  },
  {
   "cell_type": "code",
   "execution_count": 392,
   "metadata": {},
   "outputs": [
    {
     "data": {
      "text/html": [
       "<div>\n",
       "<style scoped>\n",
       "    .dataframe tbody tr th:only-of-type {\n",
       "        vertical-align: middle;\n",
       "    }\n",
       "\n",
       "    .dataframe tbody tr th {\n",
       "        vertical-align: top;\n",
       "    }\n",
       "\n",
       "    .dataframe thead th {\n",
       "        text-align: right;\n",
       "    }\n",
       "</style>\n",
       "<table border=\"1\" class=\"dataframe\">\n",
       "  <thead>\n",
       "    <tr style=\"text-align: right;\">\n",
       "      <th></th>\n",
       "      <th>screen_name</th>\n",
       "      <th>id_user_str</th>\n",
       "      <th>id_str</th>\n",
       "      <th>text</th>\n",
       "      <th>created_at</th>\n",
       "      <th>in_reply_to_status_id_str</th>\n",
       "      <th>in_reply_to_user_id_str</th>\n",
       "      <th>in_reply_to_screen_name</th>\n",
       "      <th>lang</th>\n",
       "      <th>ex_lat</th>\n",
       "      <th>ex_long</th>\n",
       "      <th>lot_ne</th>\n",
       "      <th>lot_sw</th>\n",
       "      <th>place</th>\n",
       "    </tr>\n",
       "  </thead>\n",
       "  <tbody>\n",
       "    <tr>\n",
       "      <th>0</th>\n",
       "      <td>kouki_R750</td>\n",
       "      <td>964407677387292673</td>\n",
       "      <td>1001479162161500166</td>\n",
       "      <td>I'm at Starbucks Coffee 京都リサーチパーク店 - @starbuck...</td>\n",
       "      <td>Tue May 29 15:03:33 +0000 2018</td>\n",
       "      <td>None</td>\n",
       "      <td>None</td>\n",
       "      <td>None</td>\n",
       "      <td>ja</td>\n",
       "      <td>34.995875</td>\n",
       "      <td>135.738674</td>\n",
       "      <td>136.987745, 35.779334</td>\n",
       "      <td>134.252598, 33.433256</td>\n",
       "      <td>Kansai</td>\n",
       "    </tr>\n",
       "    <tr>\n",
       "      <th>1</th>\n",
       "      <td>mgn_kyoto</td>\n",
       "      <td>487389327</td>\n",
       "      <td>1001481861720256512</td>\n",
       "      <td>【24:00時点 22.6℃ 65％】\\n28.5~20.9℃\\n＝京都府京都市 #kyot...</td>\n",
       "      <td>Tue May 29 15:14:17 +0000 2018</td>\n",
       "      <td>None</td>\n",
       "      <td>None</td>\n",
       "      <td>None</td>\n",
       "      <td>ja</td>\n",
       "      <td>35.013333</td>\n",
       "      <td>135.731667</td>\n",
       "      <td>135.779805, 35.018685</td>\n",
       "      <td>135.730513, 34.99342</td>\n",
       "      <td>京都市 中京区</td>\n",
       "    </tr>\n",
       "    <tr>\n",
       "      <th>2</th>\n",
       "      <td>amds_kyotoKyoto</td>\n",
       "      <td>482601329</td>\n",
       "      <td>1001483466972676096</td>\n",
       "      <td>京都(京都府) 24:00の 気温 22.6℃ 東北東の風,1.8m/s 湿度 65%RH ...</td>\n",
       "      <td>Tue May 29 15:20:39 +0000 2018</td>\n",
       "      <td>None</td>\n",
       "      <td>None</td>\n",
       "      <td>None</td>\n",
       "      <td>ja</td>\n",
       "      <td>35.013333</td>\n",
       "      <td>135.731667</td>\n",
       "      <td>135.779805, 35.018685</td>\n",
       "      <td>135.730513, 34.99342</td>\n",
       "      <td>京都市 中京区</td>\n",
       "    </tr>\n",
       "    <tr>\n",
       "      <th>3</th>\n",
       "      <td>Wish__AZ</td>\n",
       "      <td>2741161340</td>\n",
       "      <td>1001483834083414016</td>\n",
       "      <td>I'm at ラーメン荘 地球規模で考えろ in 京都市, 京都府 https://t.co...</td>\n",
       "      <td>Tue May 29 15:22:07 +0000 2018</td>\n",
       "      <td>None</td>\n",
       "      <td>None</td>\n",
       "      <td>None</td>\n",
       "      <td>ja</td>\n",
       "      <td>34.945372</td>\n",
       "      <td>135.765441</td>\n",
       "      <td>135.877331, 34.973724</td>\n",
       "      <td>135.710465, 34.870748</td>\n",
       "      <td>京都市 伏見区</td>\n",
       "    </tr>\n",
       "    <tr>\n",
       "      <th>4</th>\n",
       "      <td>nn_arl</td>\n",
       "      <td>67044796</td>\n",
       "      <td>1001486868150673409</td>\n",
       "      <td>I'm at 近鉄 竹田駅 in Fushimi, 京都府 https://t.co/YFM...</td>\n",
       "      <td>Tue May 29 15:34:10 +0000 2018</td>\n",
       "      <td>None</td>\n",
       "      <td>None</td>\n",
       "      <td>None</td>\n",
       "      <td>ja</td>\n",
       "      <td>34.956265</td>\n",
       "      <td>135.756188</td>\n",
       "      <td>135.774048, 34.981071</td>\n",
       "      <td>135.70897, 34.937016</td>\n",
       "      <td>京都市 南区</td>\n",
       "    </tr>\n",
       "  </tbody>\n",
       "</table>\n",
       "</div>"
      ],
      "text/plain": [
       "       screen_name         id_user_str               id_str  \\\n",
       "0       kouki_R750  964407677387292673  1001479162161500166   \n",
       "1        mgn_kyoto           487389327  1001481861720256512   \n",
       "2  amds_kyotoKyoto           482601329  1001483466972676096   \n",
       "3         Wish__AZ          2741161340  1001483834083414016   \n",
       "4           nn_arl            67044796  1001486868150673409   \n",
       "\n",
       "                                                text  \\\n",
       "0  I'm at Starbucks Coffee 京都リサーチパーク店 - @starbuck...   \n",
       "1  【24:00時点 22.6℃ 65％】\\n28.5~20.9℃\\n＝京都府京都市 #kyot...   \n",
       "2  京都(京都府) 24:00の 気温 22.6℃ 東北東の風,1.8m/s 湿度 65%RH ...   \n",
       "3  I'm at ラーメン荘 地球規模で考えろ in 京都市, 京都府 https://t.co...   \n",
       "4  I'm at 近鉄 竹田駅 in Fushimi, 京都府 https://t.co/YFM...   \n",
       "\n",
       "                       created_at in_reply_to_status_id_str  \\\n",
       "0  Tue May 29 15:03:33 +0000 2018                      None   \n",
       "1  Tue May 29 15:14:17 +0000 2018                      None   \n",
       "2  Tue May 29 15:20:39 +0000 2018                      None   \n",
       "3  Tue May 29 15:22:07 +0000 2018                      None   \n",
       "4  Tue May 29 15:34:10 +0000 2018                      None   \n",
       "\n",
       "  in_reply_to_user_id_str in_reply_to_screen_name lang     ex_lat     ex_long  \\\n",
       "0                    None                    None   ja  34.995875  135.738674   \n",
       "1                    None                    None   ja  35.013333  135.731667   \n",
       "2                    None                    None   ja  35.013333  135.731667   \n",
       "3                    None                    None   ja  34.945372  135.765441   \n",
       "4                    None                    None   ja  34.956265  135.756188   \n",
       "\n",
       "                  lot_ne                 lot_sw    place  \n",
       "0  136.987745, 35.779334  134.252598, 33.433256   Kansai  \n",
       "1  135.779805, 35.018685   135.730513, 34.99342  京都市 中京区  \n",
       "2  135.779805, 35.018685   135.730513, 34.99342  京都市 中京区  \n",
       "3  135.877331, 34.973724  135.710465, 34.870748  京都市 伏見区  \n",
       "4  135.774048, 34.981071   135.70897, 34.937016   京都市 南区  "
      ]
     },
     "execution_count": 392,
     "metadata": {},
     "output_type": "execute_result"
    }
   ],
   "source": [
    "tweets_kyoto_filter.head()"
   ]
  },
  {
   "cell_type": "markdown",
   "metadata": {},
   "source": [
    "## combine all"
   ]
  },
  {
   "cell_type": "code",
   "execution_count": 517,
   "metadata": {},
   "outputs": [],
   "source": [
    "df_kyoto = pd.DataFrame()"
   ]
  },
  {
   "cell_type": "code",
   "execution_count": 518,
   "metadata": {},
   "outputs": [],
   "source": [
    "path_all = path + \"\\kyoto_June1\""
   ]
  },
  {
   "cell_type": "code",
   "execution_count": 519,
   "metadata": {
    "scrolled": true
   },
   "outputs": [
    {
     "name": "stdout",
     "output_type": "stream",
     "text": [
      "C:\\Users\\sociocom\\Desktop\\Crawler\\tweet_location\\kyoto_June1\\mura_kyoto_tweet33\n",
      "C:\\Users\\sociocom\\Desktop\\Crawler\\tweet_location\\kyoto_June1\\mura_kyoto_tweet34\n",
      "C:\\Users\\sociocom\\Desktop\\Crawler\\tweet_location\\kyoto_June1\\mura_kyoto_tweet35\n",
      "C:\\Users\\sociocom\\Desktop\\Crawler\\tweet_location\\kyoto_June1\\mura_kyoto_tweet36\n",
      "C:\\Users\\sociocom\\Desktop\\Crawler\\tweet_location\\kyoto_June1\\mura_kyoto_tweet37\n",
      "C:\\Users\\sociocom\\Desktop\\Crawler\\tweet_location\\kyoto_June1\\mura_kyoto_tweet38\n",
      "C:\\Users\\sociocom\\Desktop\\Crawler\\tweet_location\\kyoto_June1\\mura_kyoto_tweet39\n",
      "C:\\Users\\sociocom\\Desktop\\Crawler\\tweet_location\\kyoto_June1\\mura_kyoto_tweet40\n",
      "C:\\Users\\sociocom\\Desktop\\Crawler\\tweet_location\\kyoto_June1\\mura_kyoto_tweet41\n",
      "C:\\Users\\sociocom\\Desktop\\Crawler\\tweet_location\\kyoto_June1\\mura_kyoto_tweet42\n",
      "C:\\Users\\sociocom\\Desktop\\Crawler\\tweet_location\\kyoto_June1\\mura_kyoto_tweet43\n",
      "C:\\Users\\sociocom\\Desktop\\Crawler\\tweet_location\\kyoto_June1\\mura_kyoto_tweet44\n",
      "C:\\Users\\sociocom\\Desktop\\Crawler\\tweet_location\\kyoto_June1\\mura_kyoto_tweet45\n",
      "C:\\Users\\sociocom\\Desktop\\Crawler\\tweet_location\\kyoto_June1\\mura_kyoto_tweet46\n",
      "C:\\Users\\sociocom\\Desktop\\Crawler\\tweet_location\\kyoto_June1\\mura_kyoto_tweet47\n"
     ]
    }
   ],
   "source": [
    "list_df = []\n",
    "for filename in os.listdir(path_all):\n",
    "    with open(path_all + \"\\\\\" + filename, \"rb\") as f:\n",
    "        in_path = path_all + \"\\\\\" + filename\n",
    "        print(in_path)\n",
    "        df = load_obj(in_path)\n",
    "        df.reset_index(inplace=True, drop=\"index\")\n",
    "        list_df.append(df)"
   ]
  },
  {
   "cell_type": "code",
   "execution_count": 520,
   "metadata": {},
   "outputs": [],
   "source": [
    "df_kyoto = pd.concat(list_df)"
   ]
  },
  {
   "cell_type": "code",
   "execution_count": 521,
   "metadata": {},
   "outputs": [],
   "source": [
    "df_kyoto.reset_index(inplace=True, drop=\"index\")"
   ]
  },
  {
   "cell_type": "code",
   "execution_count": 522,
   "metadata": {},
   "outputs": [
    {
     "data": {
      "text/html": [
       "<div>\n",
       "<style scoped>\n",
       "    .dataframe tbody tr th:only-of-type {\n",
       "        vertical-align: middle;\n",
       "    }\n",
       "\n",
       "    .dataframe tbody tr th {\n",
       "        vertical-align: top;\n",
       "    }\n",
       "\n",
       "    .dataframe thead th {\n",
       "        text-align: right;\n",
       "    }\n",
       "</style>\n",
       "<table border=\"1\" class=\"dataframe\">\n",
       "  <thead>\n",
       "    <tr style=\"text-align: right;\">\n",
       "      <th></th>\n",
       "      <th>screen_name</th>\n",
       "      <th>id_user_str</th>\n",
       "      <th>id_str</th>\n",
       "      <th>text</th>\n",
       "      <th>created_at</th>\n",
       "      <th>in_reply_to_status_id_str</th>\n",
       "      <th>in_reply_to_user_id_str</th>\n",
       "      <th>in_reply_to_screen_name</th>\n",
       "      <th>lang</th>\n",
       "      <th>ex_lat</th>\n",
       "      <th>ex_long</th>\n",
       "      <th>lot_ne</th>\n",
       "      <th>lot_sw</th>\n",
       "      <th>place</th>\n",
       "    </tr>\n",
       "  </thead>\n",
       "  <tbody>\n",
       "    <tr>\n",
       "      <th>0</th>\n",
       "      <td>anti_satsuki</td>\n",
       "      <td>903659715921567744</td>\n",
       "      <td>1002203935950692352</td>\n",
       "      <td>I'm at JR 京都駅 in 京都市, 京都府 https://t.co/7Zy4sD6K8W</td>\n",
       "      <td>Thu May 31 15:03:33 +0000 2018</td>\n",
       "      <td>None</td>\n",
       "      <td>None</td>\n",
       "      <td>None</td>\n",
       "      <td>ja</td>\n",
       "      <td>34.985353</td>\n",
       "      <td>135.758295</td>\n",
       "      <td>135.778292, 35.000701</td>\n",
       "      <td>135.734405, 34.977134</td>\n",
       "      <td>京都市 下京区</td>\n",
       "    </tr>\n",
       "    <tr>\n",
       "      <th>1</th>\n",
       "      <td>syohe8027</td>\n",
       "      <td>2282624300</td>\n",
       "      <td>1002204274707886082</td>\n",
       "      <td>I'm at Starbucks Coffee 京都リサーチパーク店 - @starbuck...</td>\n",
       "      <td>Thu May 31 15:04:53 +0000 2018</td>\n",
       "      <td>None</td>\n",
       "      <td>None</td>\n",
       "      <td>None</td>\n",
       "      <td>ja</td>\n",
       "      <td>34.995875</td>\n",
       "      <td>135.738674</td>\n",
       "      <td>136.987745, 35.779334</td>\n",
       "      <td>134.252598, 33.433256</td>\n",
       "      <td>近畿地方</td>\n",
       "    </tr>\n",
       "    <tr>\n",
       "      <th>2</th>\n",
       "      <td>Wish__AZ</td>\n",
       "      <td>2741161340</td>\n",
       "      <td>1002204735355674624</td>\n",
       "      <td>I'm at ラーメン横綱 一乗寺店 in 京都市, 京都府 https://t.co/Ei...</td>\n",
       "      <td>Thu May 31 15:06:43 +0000 2018</td>\n",
       "      <td>None</td>\n",
       "      <td>None</td>\n",
       "      <td>None</td>\n",
       "      <td>ja</td>\n",
       "      <td>35.041635</td>\n",
       "      <td>135.782933</td>\n",
       "      <td>135.860702, 35.32117</td>\n",
       "      <td>135.725501, 35.00634</td>\n",
       "      <td>左京区</td>\n",
       "    </tr>\n",
       "    <tr>\n",
       "      <th>3</th>\n",
       "      <td>mgn_kyoto</td>\n",
       "      <td>487389327</td>\n",
       "      <td>1002206619072004096</td>\n",
       "      <td>【24:00時点 17.5℃ 92％】\\n21.3~16.3℃\\n＝京都府京都市 #kyot...</td>\n",
       "      <td>Thu May 31 15:14:12 +0000 2018</td>\n",
       "      <td>None</td>\n",
       "      <td>None</td>\n",
       "      <td>None</td>\n",
       "      <td>ja</td>\n",
       "      <td>35.013333</td>\n",
       "      <td>135.731667</td>\n",
       "      <td>135.779805, 35.018685</td>\n",
       "      <td>135.730513, 34.99342</td>\n",
       "      <td>京都市 中京区</td>\n",
       "    </tr>\n",
       "    <tr>\n",
       "      <th>4</th>\n",
       "      <td>amds_kyotoKyoto</td>\n",
       "      <td>482601329</td>\n",
       "      <td>1002208198625869825</td>\n",
       "      <td>京都(京都府) 24:00の 気温 17.5℃ 西南西の風,0.9m/s 湿度 92%RH ...</td>\n",
       "      <td>Thu May 31 15:20:29 +0000 2018</td>\n",
       "      <td>None</td>\n",
       "      <td>None</td>\n",
       "      <td>None</td>\n",
       "      <td>ja</td>\n",
       "      <td>35.013333</td>\n",
       "      <td>135.731667</td>\n",
       "      <td>135.779805, 35.018685</td>\n",
       "      <td>135.730513, 34.99342</td>\n",
       "      <td>京都市 中京区</td>\n",
       "    </tr>\n",
       "  </tbody>\n",
       "</table>\n",
       "</div>"
      ],
      "text/plain": [
       "       screen_name         id_user_str               id_str  \\\n",
       "0     anti_satsuki  903659715921567744  1002203935950692352   \n",
       "1        syohe8027          2282624300  1002204274707886082   \n",
       "2         Wish__AZ          2741161340  1002204735355674624   \n",
       "3        mgn_kyoto           487389327  1002206619072004096   \n",
       "4  amds_kyotoKyoto           482601329  1002208198625869825   \n",
       "\n",
       "                                                text  \\\n",
       "0  I'm at JR 京都駅 in 京都市, 京都府 https://t.co/7Zy4sD6K8W   \n",
       "1  I'm at Starbucks Coffee 京都リサーチパーク店 - @starbuck...   \n",
       "2  I'm at ラーメン横綱 一乗寺店 in 京都市, 京都府 https://t.co/Ei...   \n",
       "3  【24:00時点 17.5℃ 92％】\\n21.3~16.3℃\\n＝京都府京都市 #kyot...   \n",
       "4  京都(京都府) 24:00の 気温 17.5℃ 西南西の風,0.9m/s 湿度 92%RH ...   \n",
       "\n",
       "                       created_at in_reply_to_status_id_str  \\\n",
       "0  Thu May 31 15:03:33 +0000 2018                      None   \n",
       "1  Thu May 31 15:04:53 +0000 2018                      None   \n",
       "2  Thu May 31 15:06:43 +0000 2018                      None   \n",
       "3  Thu May 31 15:14:12 +0000 2018                      None   \n",
       "4  Thu May 31 15:20:29 +0000 2018                      None   \n",
       "\n",
       "  in_reply_to_user_id_str in_reply_to_screen_name lang     ex_lat     ex_long  \\\n",
       "0                    None                    None   ja  34.985353  135.758295   \n",
       "1                    None                    None   ja  34.995875  135.738674   \n",
       "2                    None                    None   ja  35.041635  135.782933   \n",
       "3                    None                    None   ja  35.013333  135.731667   \n",
       "4                    None                    None   ja  35.013333  135.731667   \n",
       "\n",
       "                  lot_ne                 lot_sw    place  \n",
       "0  135.778292, 35.000701  135.734405, 34.977134  京都市 下京区  \n",
       "1  136.987745, 35.779334  134.252598, 33.433256     近畿地方  \n",
       "2   135.860702, 35.32117   135.725501, 35.00634      左京区  \n",
       "3  135.779805, 35.018685   135.730513, 34.99342  京都市 中京区  \n",
       "4  135.779805, 35.018685   135.730513, 34.99342  京都市 中京区  "
      ]
     },
     "execution_count": 522,
     "metadata": {},
     "output_type": "execute_result"
    }
   ],
   "source": [
    "df_kyoto.head()"
   ]
  },
  {
   "cell_type": "code",
   "execution_count": 523,
   "metadata": {},
   "outputs": [
    {
     "data": {
      "text/plain": [
       "12048"
      ]
     },
     "execution_count": 523,
     "metadata": {},
     "output_type": "execute_result"
    }
   ],
   "source": [
    "len(df_kyoto)"
   ]
  },
  {
   "cell_type": "code",
   "execution_count": 524,
   "metadata": {},
   "outputs": [],
   "source": [
    "save_obj(path_all + \"\\\\kyoto_all\", df_kyoto)"
   ]
  },
  {
   "cell_type": "code",
   "execution_count": 525,
   "metadata": {},
   "outputs": [],
   "source": [
    "df_kyoto = load_obj(path_all + \"\\\\kyoto_all\")"
   ]
  },
  {
   "cell_type": "code",
   "execution_count": 526,
   "metadata": {},
   "outputs": [
    {
     "data": {
      "text/html": [
       "<div>\n",
       "<style scoped>\n",
       "    .dataframe tbody tr th:only-of-type {\n",
       "        vertical-align: middle;\n",
       "    }\n",
       "\n",
       "    .dataframe tbody tr th {\n",
       "        vertical-align: top;\n",
       "    }\n",
       "\n",
       "    .dataframe thead th {\n",
       "        text-align: right;\n",
       "    }\n",
       "</style>\n",
       "<table border=\"1\" class=\"dataframe\">\n",
       "  <thead>\n",
       "    <tr style=\"text-align: right;\">\n",
       "      <th></th>\n",
       "      <th>screen_name</th>\n",
       "      <th>id_user_str</th>\n",
       "      <th>id_str</th>\n",
       "      <th>text</th>\n",
       "      <th>created_at</th>\n",
       "      <th>in_reply_to_status_id_str</th>\n",
       "      <th>in_reply_to_user_id_str</th>\n",
       "      <th>in_reply_to_screen_name</th>\n",
       "      <th>lang</th>\n",
       "      <th>ex_lat</th>\n",
       "      <th>ex_long</th>\n",
       "      <th>lot_ne</th>\n",
       "      <th>lot_sw</th>\n",
       "      <th>place</th>\n",
       "    </tr>\n",
       "  </thead>\n",
       "  <tbody>\n",
       "    <tr>\n",
       "      <th>0</th>\n",
       "      <td>anti_satsuki</td>\n",
       "      <td>903659715921567744</td>\n",
       "      <td>1002203935950692352</td>\n",
       "      <td>I'm at JR 京都駅 in 京都市, 京都府 https://t.co/7Zy4sD6K8W</td>\n",
       "      <td>Thu May 31 15:03:33 +0000 2018</td>\n",
       "      <td>None</td>\n",
       "      <td>None</td>\n",
       "      <td>None</td>\n",
       "      <td>ja</td>\n",
       "      <td>34.985353</td>\n",
       "      <td>135.758295</td>\n",
       "      <td>135.778292, 35.000701</td>\n",
       "      <td>135.734405, 34.977134</td>\n",
       "      <td>京都市 下京区</td>\n",
       "    </tr>\n",
       "    <tr>\n",
       "      <th>1</th>\n",
       "      <td>syohe8027</td>\n",
       "      <td>2282624300</td>\n",
       "      <td>1002204274707886082</td>\n",
       "      <td>I'm at Starbucks Coffee 京都リサーチパーク店 - @starbuck...</td>\n",
       "      <td>Thu May 31 15:04:53 +0000 2018</td>\n",
       "      <td>None</td>\n",
       "      <td>None</td>\n",
       "      <td>None</td>\n",
       "      <td>ja</td>\n",
       "      <td>34.995875</td>\n",
       "      <td>135.738674</td>\n",
       "      <td>136.987745, 35.779334</td>\n",
       "      <td>134.252598, 33.433256</td>\n",
       "      <td>近畿地方</td>\n",
       "    </tr>\n",
       "    <tr>\n",
       "      <th>2</th>\n",
       "      <td>Wish__AZ</td>\n",
       "      <td>2741161340</td>\n",
       "      <td>1002204735355674624</td>\n",
       "      <td>I'm at ラーメン横綱 一乗寺店 in 京都市, 京都府 https://t.co/Ei...</td>\n",
       "      <td>Thu May 31 15:06:43 +0000 2018</td>\n",
       "      <td>None</td>\n",
       "      <td>None</td>\n",
       "      <td>None</td>\n",
       "      <td>ja</td>\n",
       "      <td>35.041635</td>\n",
       "      <td>135.782933</td>\n",
       "      <td>135.860702, 35.32117</td>\n",
       "      <td>135.725501, 35.00634</td>\n",
       "      <td>左京区</td>\n",
       "    </tr>\n",
       "    <tr>\n",
       "      <th>3</th>\n",
       "      <td>mgn_kyoto</td>\n",
       "      <td>487389327</td>\n",
       "      <td>1002206619072004096</td>\n",
       "      <td>【24:00時点 17.5℃ 92％】\\n21.3~16.3℃\\n＝京都府京都市 #kyot...</td>\n",
       "      <td>Thu May 31 15:14:12 +0000 2018</td>\n",
       "      <td>None</td>\n",
       "      <td>None</td>\n",
       "      <td>None</td>\n",
       "      <td>ja</td>\n",
       "      <td>35.013333</td>\n",
       "      <td>135.731667</td>\n",
       "      <td>135.779805, 35.018685</td>\n",
       "      <td>135.730513, 34.99342</td>\n",
       "      <td>京都市 中京区</td>\n",
       "    </tr>\n",
       "    <tr>\n",
       "      <th>4</th>\n",
       "      <td>amds_kyotoKyoto</td>\n",
       "      <td>482601329</td>\n",
       "      <td>1002208198625869825</td>\n",
       "      <td>京都(京都府) 24:00の 気温 17.5℃ 西南西の風,0.9m/s 湿度 92%RH ...</td>\n",
       "      <td>Thu May 31 15:20:29 +0000 2018</td>\n",
       "      <td>None</td>\n",
       "      <td>None</td>\n",
       "      <td>None</td>\n",
       "      <td>ja</td>\n",
       "      <td>35.013333</td>\n",
       "      <td>135.731667</td>\n",
       "      <td>135.779805, 35.018685</td>\n",
       "      <td>135.730513, 34.99342</td>\n",
       "      <td>京都市 中京区</td>\n",
       "    </tr>\n",
       "  </tbody>\n",
       "</table>\n",
       "</div>"
      ],
      "text/plain": [
       "       screen_name         id_user_str               id_str  \\\n",
       "0     anti_satsuki  903659715921567744  1002203935950692352   \n",
       "1        syohe8027          2282624300  1002204274707886082   \n",
       "2         Wish__AZ          2741161340  1002204735355674624   \n",
       "3        mgn_kyoto           487389327  1002206619072004096   \n",
       "4  amds_kyotoKyoto           482601329  1002208198625869825   \n",
       "\n",
       "                                                text  \\\n",
       "0  I'm at JR 京都駅 in 京都市, 京都府 https://t.co/7Zy4sD6K8W   \n",
       "1  I'm at Starbucks Coffee 京都リサーチパーク店 - @starbuck...   \n",
       "2  I'm at ラーメン横綱 一乗寺店 in 京都市, 京都府 https://t.co/Ei...   \n",
       "3  【24:00時点 17.5℃ 92％】\\n21.3~16.3℃\\n＝京都府京都市 #kyot...   \n",
       "4  京都(京都府) 24:00の 気温 17.5℃ 西南西の風,0.9m/s 湿度 92%RH ...   \n",
       "\n",
       "                       created_at in_reply_to_status_id_str  \\\n",
       "0  Thu May 31 15:03:33 +0000 2018                      None   \n",
       "1  Thu May 31 15:04:53 +0000 2018                      None   \n",
       "2  Thu May 31 15:06:43 +0000 2018                      None   \n",
       "3  Thu May 31 15:14:12 +0000 2018                      None   \n",
       "4  Thu May 31 15:20:29 +0000 2018                      None   \n",
       "\n",
       "  in_reply_to_user_id_str in_reply_to_screen_name lang     ex_lat     ex_long  \\\n",
       "0                    None                    None   ja  34.985353  135.758295   \n",
       "1                    None                    None   ja  34.995875  135.738674   \n",
       "2                    None                    None   ja  35.041635  135.782933   \n",
       "3                    None                    None   ja  35.013333  135.731667   \n",
       "4                    None                    None   ja  35.013333  135.731667   \n",
       "\n",
       "                  lot_ne                 lot_sw    place  \n",
       "0  135.778292, 35.000701  135.734405, 34.977134  京都市 下京区  \n",
       "1  136.987745, 35.779334  134.252598, 33.433256     近畿地方  \n",
       "2   135.860702, 35.32117   135.725501, 35.00634      左京区  \n",
       "3  135.779805, 35.018685   135.730513, 34.99342  京都市 中京区  \n",
       "4  135.779805, 35.018685   135.730513, 34.99342  京都市 中京区  "
      ]
     },
     "execution_count": 526,
     "metadata": {},
     "output_type": "execute_result"
    }
   ],
   "source": [
    "df_kyoto.head()"
   ]
  },
  {
   "cell_type": "code",
   "execution_count": null,
   "metadata": {},
   "outputs": [],
   "source": [
    "#df_kyoto[\"text\"] = df_kyoto[\"text\"].apply(lambda x: translate(x, \"en\")) "
   ]
  },
  {
   "cell_type": "code",
   "execution_count": null,
   "metadata": {
    "scrolled": true
   },
   "outputs": [],
   "source": [
    "#save_obj(path + \"\\\\kyoto\\\\kyoto_all_transText\", df_kyoto)"
   ]
  },
  {
   "cell_type": "code",
   "execution_count": null,
   "metadata": {},
   "outputs": [],
   "source": [
    "#df_kyoto[\"place\"] = df_kyoto[\"place\"].apply(lambda x: translate(x, \"en\")) "
   ]
  },
  {
   "cell_type": "code",
   "execution_count": null,
   "metadata": {},
   "outputs": [],
   "source": [
    "#save_obj(path + \"\\\\kyoto\\\\kyoto_all_translated\", df_kyoto)"
   ]
  },
  {
   "cell_type": "markdown",
   "metadata": {},
   "source": [
    "## Combine tranlated files"
   ]
  },
  {
   "cell_type": "code",
   "execution_count": 5,
   "metadata": {},
   "outputs": [],
   "source": [
    "df_k1 = load_obj(path+\"\\\\kyoto_June1\\\\kyoto_all_trans_june1\")\n",
    "df_k2 = load_obj(path+\"\\\\kyoto_may\\\\kyoto_all_trans_may\")"
   ]
  },
  {
   "cell_type": "code",
   "execution_count": 6,
   "metadata": {},
   "outputs": [],
   "source": [
    "df_k = pd.concat([df_k1,df_k2])"
   ]
  },
  {
   "cell_type": "code",
   "execution_count": 7,
   "metadata": {},
   "outputs": [
    {
     "data": {
      "text/plain": [
       "41004"
      ]
     },
     "execution_count": 7,
     "metadata": {},
     "output_type": "execute_result"
    }
   ],
   "source": [
    "len(df_k)"
   ]
  },
  {
   "cell_type": "code",
   "execution_count": 8,
   "metadata": {},
   "outputs": [],
   "source": [
    "#save_obj(path+\"\\\\kyoto_translated1\", df_k)"
   ]
  },
  {
   "cell_type": "code",
   "execution_count": null,
   "metadata": {},
   "outputs": [],
   "source": []
  }
 ],
 "metadata": {
  "kernelspec": {
   "display_name": "Python 3",
   "language": "python",
   "name": "python3"
  },
  "language_info": {
   "codemirror_mode": {
    "name": "ipython",
    "version": 3
   },
   "file_extension": ".py",
   "mimetype": "text/x-python",
   "name": "python",
   "nbconvert_exporter": "python",
   "pygments_lexer": "ipython3",
   "version": "3.6.4"
  }
 },
 "nbformat": 4,
 "nbformat_minor": 2
}
