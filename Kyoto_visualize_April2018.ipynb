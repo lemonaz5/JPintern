{
 "cells": [
  {
   "cell_type": "markdown",
   "metadata": {},
   "source": [
    "# Kyoto data April 2018"
   ]
  },
  {
   "cell_type": "markdown",
   "metadata": {},
   "source": [
    "## Import zone"
   ]
  },
  {
   "cell_type": "code",
   "execution_count": 8,
   "metadata": {},
   "outputs": [],
   "source": [
    "import pandas as pd\n",
    "from mtranslate import translate\n",
    "import pickle\n",
    "import plotly\n",
    "plotly.tools.set_credentials_file(username='wannita', api_key='3Ghya98U2uprmZoiZvX8')\n",
    "\n",
    "import json_lines"
   ]
  },
  {
   "cell_type": "markdown",
   "metadata": {},
   "source": [
    "## function zone"
   ]
  },
  {
   "cell_type": "code",
   "execution_count": 16,
   "metadata": {},
   "outputs": [],
   "source": [
    "def trans_to_en(word):\n",
    "    translate(word,'en')"
   ]
  },
  {
   "cell_type": "code",
   "execution_count": 17,
   "metadata": {},
   "outputs": [],
   "source": [
    "def save_obj(file, obj):\n",
    "    with open(file, 'wb') as f:\n",
    "        pickle.dump(obj, f)\n",
    "\n",
    "def load_obj(file, obj):\n",
    "    with open(file, 'rb') as f:\n",
    "        obj = pickle.load(f)"
   ]
  },
  {
   "cell_type": "code",
   "execution_count": null,
   "metadata": {},
   "outputs": [],
   "source": []
  },
  {
   "cell_type": "markdown",
   "metadata": {},
   "source": [
    "## Data zone"
   ]
  },
  {
   "cell_type": "code",
   "execution_count": 15,
   "metadata": {},
   "outputs": [],
   "source": [
    "#tweet_df =  pd.read_json('/tweet_location/filter-2018-04-21.json')\n",
    "list_tweets = []\n",
    "with open(r\"C:\\Users\\sociocom\\Desktop\\Crawler\\tweet_location\\filter-2018-04-21.jsonl\", \"rb\") as f:\n",
    "    for tweet in json_lines.reader(f):\n",
    "        list_tweets.append(tweet)"
   ]
  },
  {
   "cell_type": "code",
   "execution_count": 19,
   "metadata": {},
   "outputs": [
    {
     "data": {
      "text/plain": [
       "{'contributors': None,\n",
       " 'coordinates': None,\n",
       " 'created_at': 'Fri Apr 20 15:01:01 +0000 2018',\n",
       " 'entities': {'hashtags': [], 'symbols': [], 'urls': [], 'user_mentions': []},\n",
       " 'favorite_count': 0,\n",
       " 'favorited': False,\n",
       " 'filter_level': 'low',\n",
       " 'geo': None,\n",
       " 'id': 987345396128075776,\n",
       " 'id_str': '987345396128075776',\n",
       " 'in_reply_to_screen_name': None,\n",
       " 'in_reply_to_status_id': None,\n",
       " 'in_reply_to_status_id_str': None,\n",
       " 'in_reply_to_user_id': None,\n",
       " 'in_reply_to_user_id_str': None,\n",
       " 'is_quote_status': False,\n",
       " 'lang': 'tl',\n",
       " 'place': {'attributes': {},\n",
       "  'bounding_box': {'coordinates': [[[126.954584, 37.560865],\n",
       "     [126.954584, 37.632942],\n",
       "     [127.020042, 37.632942],\n",
       "     [127.020042, 37.560865]]],\n",
       "   'type': 'Polygon'},\n",
       "  'country': 'Republic of Korea',\n",
       "  'country_code': 'KR',\n",
       "  'full_name': 'Jongno-gu, Republic of Korea',\n",
       "  'id': '0082bcf413c3da5b',\n",
       "  'name': 'Jongno-gu',\n",
       "  'place_type': 'city',\n",
       "  'url': 'https://api.twitter.com/1.1/geo/id/0082bcf413c3da5b.json'},\n",
       " 'quote_count': 0,\n",
       " 'reply_count': 0,\n",
       " 'retweet_count': 0,\n",
       " 'retweeted': False,\n",
       " 'source': '<a href=\"http://twitter.com/download/iphone\" rel=\"nofollow\">Twitter for iPhone</a>',\n",
       " 'text': 'buti pa yung Winner na boy group dito sa Korea nakita ko kanina :(((',\n",
       " 'timestamp_ms': '1524236461084',\n",
       " 'truncated': False,\n",
       " 'user': {'contributors_enabled': False,\n",
       "  'created_at': 'Tue Aug 10 11:39:13 +0000 2010',\n",
       "  'default_profile': False,\n",
       "  'default_profile_image': False,\n",
       "  'description': 'bogummy 💙 x bangtan sonyeondan 💣 x djp👽',\n",
       "  'favourites_count': 7523,\n",
       "  'follow_request_sent': None,\n",
       "  'followers_count': 5979,\n",
       "  'following': None,\n",
       "  'friends_count': 727,\n",
       "  'geo_enabled': True,\n",
       "  'id': 176769043,\n",
       "  'id_str': '176769043',\n",
       "  'is_translator': False,\n",
       "  'lang': 'en',\n",
       "  'listed_count': 15,\n",
       "  'location': 'City Of Stars',\n",
       "  'name': 'JA〽️ES 🌈',\n",
       "  'notifications': None,\n",
       "  'profile_background_color': 'FFFFFF',\n",
       "  'profile_background_image_url': 'http://pbs.twimg.com/profile_background_images/584405538919686144/4JcCiAST.png',\n",
       "  'profile_background_image_url_https': 'https://pbs.twimg.com/profile_background_images/584405538919686144/4JcCiAST.png',\n",
       "  'profile_background_tile': False,\n",
       "  'profile_banner_url': 'https://pbs.twimg.com/profile_banners/176769043/1523203309',\n",
       "  'profile_image_url': 'http://pbs.twimg.com/profile_images/890765124704882688/1lIEx3-8_normal.jpg',\n",
       "  'profile_image_url_https': 'https://pbs.twimg.com/profile_images/890765124704882688/1lIEx3-8_normal.jpg',\n",
       "  'profile_link_color': '4A913C',\n",
       "  'profile_sidebar_border_color': '000000',\n",
       "  'profile_sidebar_fill_color': 'FFCCF9',\n",
       "  'profile_text_color': '333333',\n",
       "  'profile_use_background_image': True,\n",
       "  'protected': False,\n",
       "  'screen_name': 'jmsdvr_',\n",
       "  'statuses_count': 39105,\n",
       "  'time_zone': 'Singapore',\n",
       "  'translator_type': 'none',\n",
       "  'url': 'http://Instagram.com/jamesdevera_',\n",
       "  'utc_offset': 28800,\n",
       "  'verified': False}}"
      ]
     },
     "execution_count": 19,
     "metadata": {},
     "output_type": "execute_result"
    }
   ],
   "source": [
    "list_tweets[0]"
   ]
  },
  {
   "cell_type": "code",
   "execution_count": null,
   "metadata": {},
   "outputs": [],
   "source": [
    "list_tweets"
   ]
  }
 ],
 "metadata": {
  "kernelspec": {
   "display_name": "Python 3",
   "language": "python",
   "name": "python3"
  },
  "language_info": {
   "codemirror_mode": {
    "name": "ipython",
    "version": 3
   },
   "file_extension": ".py",
   "mimetype": "text/x-python",
   "name": "python",
   "nbconvert_exporter": "python",
   "pygments_lexer": "ipython3",
   "version": "3.6.4"
  }
 },
 "nbformat": 4,
 "nbformat_minor": 2
}
