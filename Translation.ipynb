{
 "cells": [
  {
   "cell_type": "markdown",
   "metadata": {},
   "source": [
    "# Translation"
   ]
  },
  {
   "cell_type": "markdown",
   "metadata": {},
   "source": [
    "## Import zone"
   ]
  },
  {
   "cell_type": "code",
   "execution_count": 2,
   "metadata": {},
   "outputs": [
    {
     "name": "stderr",
     "output_type": "stream",
     "text": [
      "C:\\Users\\sociocom\\Anaconda3\\lib\\site-packages\\gensim\\utils.py:1197: UserWarning:\n",
      "\n",
      "detected Windows; aliasing chunkize to chunkize_serial\n",
      "\n"
     ]
    }
   ],
   "source": [
    "import pandas as pd\n",
    "from mtranslate import translate\n",
    "import pickle\n",
    "import plotly.plotly as py\n",
    "import plotly\n",
    "plotly.tools.set_credentials_file(username='wannita', api_key='3Ghya98U2uprmZoiZvX8')\n",
    "from gensim import corpora"
   ]
  },
  {
   "cell_type": "markdown",
   "metadata": {},
   "source": [
    "## Function zone"
   ]
  },
  {
   "cell_type": "code",
   "execution_count": 3,
   "metadata": {},
   "outputs": [],
   "source": [
    "def trans_to_en(word):\n",
    "    translate(word,'en')"
   ]
  },
  {
   "cell_type": "code",
   "execution_count": 1,
   "metadata": {},
   "outputs": [],
   "source": [
    "def save_obj(file, obj):\n",
    "    with open(file, 'wb') as f:\n",
    "        pickle.dump(obj, f)\n",
    "\n",
    "def load_obj(file):\n",
    "    with open(file, 'rb') as f:\n",
    "        return pickle.load(f)"
   ]
  },
  {
   "cell_type": "code",
   "execution_count": 4,
   "metadata": {},
   "outputs": [],
   "source": [
    "path = r'C:\\Users\\sociocom\\Desktop\\Crawler\\backup\\31May-4June 2018'"
   ]
  },
  {
   "cell_type": "code",
   "execution_count": 5,
   "metadata": {},
   "outputs": [],
   "source": [
    "def open_to_pandas(spath):\n",
    "    tweets = open(path + spath, \"r\", encoding=\"utf-8\")\n",
    "    tweets_list = []\n",
    "    for line in tweets:\n",
    "        tweets_list.append(line.split('\\t'))\n",
    "    labels = ['acc_id','acc','tweet_id','text','created_time','ex_lat','ex_long','place','lot_sw','lot_ne','tweet_reply_id','tweet_reply_user_id','tweet_reply_username','lang']\n",
    "    name = pd.DataFrame(tweets_list,columns=labels)\n",
    "    filt = ((name[\"lang\"] == \"th\\n\") | (name[\"lang\"] == \"en\\n\") | (name[\"lang\"] == \"ja\\n\") | (name[\"lang\"] == \"de\\n\") | (name[\"lang\"] == \"pt\\n\"))\n",
    "    name = name[filt]\n",
    "    name['lang'] = name['lang'].apply(lambda x: x.strip())\n",
    "    print(\"all data :\" ,len(name), \"tweets\")\n",
    "    return name"
   ]
  },
  {
   "cell_type": "markdown",
   "metadata": {},
   "source": [
    "## Data zone"
   ]
  },
  {
   "cell_type": "code",
   "execution_count": 6,
   "metadata": {},
   "outputs": [
    {
     "name": "stdout",
     "output_type": "stream",
     "text": [
      "all data : 37095 tweets\n",
      "all data : 34869 tweets\n",
      "all data : 6835 tweets\n",
      "all data : 121964 tweets\n",
      "all data : 68534 tweets\n"
     ]
    }
   ],
   "source": [
    "df_bkk = open_to_pandas(\"\\BKK_th-en_tweets.txt\")\n",
    "df_kyt = open_to_pandas(\"\\KYT_ja-en_tweets.txt\")\n",
    "df_ham = open_to_pandas(\"\\HAM_de-en_tweets.txt\")\n",
    "df_spl = open_to_pandas(\"\\SPL_pt-en_tweets.txt\")\n",
    "df_sfc = open_to_pandas(\"\\SFC_en_tweets.txt\")"
   ]
  },
  {
   "cell_type": "code",
   "execution_count": 7,
   "metadata": {},
   "outputs": [
    {
     "data": {
      "text/html": [
       "<div>\n",
       "<style scoped>\n",
       "    .dataframe tbody tr th:only-of-type {\n",
       "        vertical-align: middle;\n",
       "    }\n",
       "\n",
       "    .dataframe tbody tr th {\n",
       "        vertical-align: top;\n",
       "    }\n",
       "\n",
       "    .dataframe thead th {\n",
       "        text-align: right;\n",
       "    }\n",
       "</style>\n",
       "<table border=\"1\" class=\"dataframe\">\n",
       "  <thead>\n",
       "    <tr style=\"text-align: right;\">\n",
       "      <th></th>\n",
       "      <th>acc_id</th>\n",
       "      <th>acc</th>\n",
       "      <th>tweet_id</th>\n",
       "      <th>text</th>\n",
       "      <th>created_time</th>\n",
       "      <th>ex_lat</th>\n",
       "      <th>ex_long</th>\n",
       "      <th>place</th>\n",
       "      <th>lot_sw</th>\n",
       "      <th>lot_ne</th>\n",
       "      <th>tweet_reply_id</th>\n",
       "      <th>tweet_reply_user_id</th>\n",
       "      <th>tweet_reply_username</th>\n",
       "      <th>lang</th>\n",
       "    </tr>\n",
       "  </thead>\n",
       "  <tbody>\n",
       "    <tr>\n",
       "      <th>count</th>\n",
       "      <td>37095</td>\n",
       "      <td>37095</td>\n",
       "      <td>37095</td>\n",
       "      <td>37095</td>\n",
       "      <td>37095</td>\n",
       "      <td>37095</td>\n",
       "      <td>37095</td>\n",
       "      <td>37095</td>\n",
       "      <td>37095</td>\n",
       "      <td>37095</td>\n",
       "      <td>37095</td>\n",
       "      <td>37095</td>\n",
       "      <td>37095</td>\n",
       "      <td>37095</td>\n",
       "    </tr>\n",
       "    <tr>\n",
       "      <th>unique</th>\n",
       "      <td>7501</td>\n",
       "      <td>7514</td>\n",
       "      <td>37095</td>\n",
       "      <td>36963</td>\n",
       "      <td>34861</td>\n",
       "      <td>1399</td>\n",
       "      <td>1390</td>\n",
       "      <td>169</td>\n",
       "      <td>103</td>\n",
       "      <td>101</td>\n",
       "      <td>8699</td>\n",
       "      <td>5330</td>\n",
       "      <td>5332</td>\n",
       "      <td>2</td>\n",
       "    </tr>\n",
       "    <tr>\n",
       "      <th>top</th>\n",
       "      <td>940194643748143104</td>\n",
       "      <td>BaekhyunneeExol</td>\n",
       "      <td>1002571117024796672</td>\n",
       "      <td>@MM_EXOL @B_hundred_Hyun @weareoneEXO I am so ...</td>\n",
       "      <td>2018-06-03 09:18:20</td>\n",
       "      <td>-1</td>\n",
       "      <td>-1</td>\n",
       "      <td>Pathum Wan</td>\n",
       "      <td>100.528375, 13.72951</td>\n",
       "      <td>100.541027, 13.749708</td>\n",
       "      <td>-1</td>\n",
       "      <td>-1</td>\n",
       "      <td>-1</td>\n",
       "      <td>th</td>\n",
       "    </tr>\n",
       "    <tr>\n",
       "      <th>freq</th>\n",
       "      <td>255</td>\n",
       "      <td>255</td>\n",
       "      <td>1</td>\n",
       "      <td>9</td>\n",
       "      <td>5</td>\n",
       "      <td>33985</td>\n",
       "      <td>33985</td>\n",
       "      <td>1855</td>\n",
       "      <td>3129</td>\n",
       "      <td>3129</td>\n",
       "      <td>27716</td>\n",
       "      <td>27313</td>\n",
       "      <td>27313</td>\n",
       "      <td>30186</td>\n",
       "    </tr>\n",
       "  </tbody>\n",
       "</table>\n",
       "</div>"
      ],
      "text/plain": [
       "                    acc_id              acc             tweet_id  \\\n",
       "count                37095            37095                37095   \n",
       "unique                7501             7514                37095   \n",
       "top     940194643748143104  BaekhyunneeExol  1002571117024796672   \n",
       "freq                   255              255                    1   \n",
       "\n",
       "                                                     text  \\\n",
       "count                                               37095   \n",
       "unique                                              36963   \n",
       "top     @MM_EXOL @B_hundred_Hyun @weareoneEXO I am so ...   \n",
       "freq                                                    9   \n",
       "\n",
       "               created_time ex_lat ex_long       place                lot_sw  \\\n",
       "count                 37095  37095   37095       37095                 37095   \n",
       "unique                34861   1399    1390         169                   103   \n",
       "top     2018-06-03 09:18:20     -1      -1  Pathum Wan  100.528375, 13.72951   \n",
       "freq                      5  33985   33985        1855                  3129   \n",
       "\n",
       "                       lot_ne tweet_reply_id tweet_reply_user_id  \\\n",
       "count                   37095          37095               37095   \n",
       "unique                    101           8699                5330   \n",
       "top     100.541027, 13.749708             -1                  -1   \n",
       "freq                     3129          27716               27313   \n",
       "\n",
       "       tweet_reply_username   lang  \n",
       "count                 37095  37095  \n",
       "unique                 5332      2  \n",
       "top                      -1     th  \n",
       "freq                  27313  30186  "
      ]
     },
     "execution_count": 7,
     "metadata": {},
     "output_type": "execute_result"
    }
   ],
   "source": [
    "df_bkk.describe()"
   ]
  },
  {
   "cell_type": "code",
   "execution_count": 8,
   "metadata": {},
   "outputs": [
    {
     "data": {
      "text/html": [
       "<div>\n",
       "<style scoped>\n",
       "    .dataframe tbody tr th:only-of-type {\n",
       "        vertical-align: middle;\n",
       "    }\n",
       "\n",
       "    .dataframe tbody tr th {\n",
       "        vertical-align: top;\n",
       "    }\n",
       "\n",
       "    .dataframe thead th {\n",
       "        text-align: right;\n",
       "    }\n",
       "</style>\n",
       "<table border=\"1\" class=\"dataframe\">\n",
       "  <thead>\n",
       "    <tr style=\"text-align: right;\">\n",
       "      <th></th>\n",
       "      <th>acc_id</th>\n",
       "      <th>acc</th>\n",
       "      <th>tweet_id</th>\n",
       "      <th>text</th>\n",
       "      <th>created_time</th>\n",
       "      <th>ex_lat</th>\n",
       "      <th>ex_long</th>\n",
       "      <th>place</th>\n",
       "      <th>lot_sw</th>\n",
       "      <th>lot_ne</th>\n",
       "      <th>tweet_reply_id</th>\n",
       "      <th>tweet_reply_user_id</th>\n",
       "      <th>tweet_reply_username</th>\n",
       "      <th>lang</th>\n",
       "    </tr>\n",
       "  </thead>\n",
       "  <tbody>\n",
       "    <tr>\n",
       "      <th>0</th>\n",
       "      <td>979626877244489728</td>\n",
       "      <td>B_CLASS_LV</td>\n",
       "      <td>1001817573917364224</td>\n",
       "      <td>@rokonattuk メンツが濃かったわ</td>\n",
       "      <td>2018-05-30 13:28:17</td>\n",
       "      <td>-1</td>\n",
       "      <td>-1</td>\n",
       "      <td>京都市 中京区</td>\n",
       "      <td>135.730513, 34.99342</td>\n",
       "      <td>135.779805, 35.018685</td>\n",
       "      <td>1001817447366840320</td>\n",
       "      <td>987313040281382912</td>\n",
       "      <td>rokonattuk</td>\n",
       "      <td>ja</td>\n",
       "    </tr>\n",
       "    <tr>\n",
       "      <th>1</th>\n",
       "      <td>2917764124</td>\n",
       "      <td>jnsg_0805</td>\n",
       "      <td>1001817576643624966</td>\n",
       "      <td>夏に関ジャニのライブに誘われたので 行く事になりまひたw 超久々っっっ！！！ すばる氏居らんけど…</td>\n",
       "      <td>2018-05-30 13:28:17</td>\n",
       "      <td>-1</td>\n",
       "      <td>-1</td>\n",
       "      <td>京都市 中京区</td>\n",
       "      <td>135.730513, 34.99342</td>\n",
       "      <td>135.779805, 35.018685</td>\n",
       "      <td>-1</td>\n",
       "      <td>-1</td>\n",
       "      <td>-1</td>\n",
       "      <td>ja</td>\n",
       "    </tr>\n",
       "    <tr>\n",
       "      <th>2</th>\n",
       "      <td>968012405757247488</td>\n",
       "      <td>jihyo__614</td>\n",
       "      <td>1001817631173894145</td>\n",
       "      <td>@7NdOkP7T9URUGzD んー、いろいろ</td>\n",
       "      <td>2018-05-30 13:28:30</td>\n",
       "      <td>-1</td>\n",
       "      <td>-1</td>\n",
       "      <td>Japan</td>\n",
       "      <td>122.904034, 24.013343</td>\n",
       "      <td>153.997697, 45.562897</td>\n",
       "      <td>1001817154583318528</td>\n",
       "      <td>981075437450219520</td>\n",
       "      <td>7NdOkP7T9URUGzD</td>\n",
       "      <td>ja</td>\n",
       "    </tr>\n",
       "    <tr>\n",
       "      <th>3</th>\n",
       "      <td>879622055259328513</td>\n",
       "      <td>makotty1008</td>\n",
       "      <td>1001817644738244610</td>\n",
       "      <td>@onikutomichoki は～い 一緒に応援しましょう ミスコン当日まで微力やけど風花...</td>\n",
       "      <td>2018-05-30 13:28:34</td>\n",
       "      <td>-1</td>\n",
       "      <td>-1</td>\n",
       "      <td>京都市 中京区</td>\n",
       "      <td>135.730513, 34.99342</td>\n",
       "      <td>135.779805, 35.018685</td>\n",
       "      <td>1001813093331025921</td>\n",
       "      <td>972014359797891073</td>\n",
       "      <td>onikutomichoki</td>\n",
       "      <td>ja</td>\n",
       "    </tr>\n",
       "    <tr>\n",
       "      <th>4</th>\n",
       "      <td>874659432495435776</td>\n",
       "      <td>savanna3s_rx7</td>\n",
       "      <td>1001817680859553796</td>\n",
       "      <td>こいつも、小林はるかと変わんない…人を突き飛ばしやがって…聾唖だからって、許しはしない…JR...</td>\n",
       "      <td>2018-05-30 13:28:42</td>\n",
       "      <td>-1</td>\n",
       "      <td>-1</td>\n",
       "      <td>大阪</td>\n",
       "      <td>135.091714, 34.271817</td>\n",
       "      <td>135.746799, 35.051352</td>\n",
       "      <td>-1</td>\n",
       "      <td>-1</td>\n",
       "      <td>-1</td>\n",
       "      <td>ja</td>\n",
       "    </tr>\n",
       "  </tbody>\n",
       "</table>\n",
       "</div>"
      ],
      "text/plain": [
       "               acc_id            acc             tweet_id  \\\n",
       "0  979626877244489728     B_CLASS_LV  1001817573917364224   \n",
       "1          2917764124      jnsg_0805  1001817576643624966   \n",
       "2  968012405757247488     jihyo__614  1001817631173894145   \n",
       "3  879622055259328513    makotty1008  1001817644738244610   \n",
       "4  874659432495435776  savanna3s_rx7  1001817680859553796   \n",
       "\n",
       "                                                text         created_time  \\\n",
       "0                              @rokonattuk メンツが濃かったわ  2018-05-30 13:28:17   \n",
       "1  夏に関ジャニのライブに誘われたので 行く事になりまひたw 超久々っっっ！！！ すばる氏居らんけど…  2018-05-30 13:28:17   \n",
       "2                           @7NdOkP7T9URUGzD んー、いろいろ  2018-05-30 13:28:30   \n",
       "3  @onikutomichoki は～い 一緒に応援しましょう ミスコン当日まで微力やけど風花...  2018-05-30 13:28:34   \n",
       "4  こいつも、小林はるかと変わんない…人を突き飛ばしやがって…聾唖だからって、許しはしない…JR...  2018-05-30 13:28:42   \n",
       "\n",
       "  ex_lat ex_long    place                 lot_sw                 lot_ne  \\\n",
       "0     -1      -1  京都市 中京区   135.730513, 34.99342  135.779805, 35.018685   \n",
       "1     -1      -1  京都市 中京区   135.730513, 34.99342  135.779805, 35.018685   \n",
       "2     -1      -1    Japan  122.904034, 24.013343  153.997697, 45.562897   \n",
       "3     -1      -1  京都市 中京区   135.730513, 34.99342  135.779805, 35.018685   \n",
       "4     -1      -1       大阪  135.091714, 34.271817  135.746799, 35.051352   \n",
       "\n",
       "        tweet_reply_id tweet_reply_user_id tweet_reply_username lang  \n",
       "0  1001817447366840320  987313040281382912           rokonattuk   ja  \n",
       "1                   -1                  -1                   -1   ja  \n",
       "2  1001817154583318528  981075437450219520      7NdOkP7T9URUGzD   ja  \n",
       "3  1001813093331025921  972014359797891073       onikutomichoki   ja  \n",
       "4                   -1                  -1                   -1   ja  "
      ]
     },
     "execution_count": 8,
     "metadata": {},
     "output_type": "execute_result"
    }
   ],
   "source": [
    "df_kyt.head()"
   ]
  },
  {
   "cell_type": "markdown",
   "metadata": {},
   "source": [
    "## translating zone"
   ]
  },
  {
   "cell_type": "code",
   "execution_count": null,
   "metadata": {
    "scrolled": false
   },
   "outputs": [],
   "source": [
    "df_bkk['place'] = df_bkk['place'].apply(lambda x: translate(x,'en'))\n",
    "df_bkk['text'] = df_bkk['text'].apply(lambda x: translate(x,'en'))"
   ]
  },
  {
   "cell_type": "code",
   "execution_count": null,
   "metadata": {},
   "outputs": [],
   "source": [
    "save_obj('translated_bkk_tweet', df_bkk)"
   ]
  },
  {
   "cell_type": "code",
   "execution_count": null,
   "metadata": {},
   "outputs": [],
   "source": [
    "df_kyt['place'] = df_kyt['place'].apply(lambda x: translate(x,'en'))\n",
    "df_kyt['text'] = df_kyt['text'].apply(lambda x: translate(x,'en'))"
   ]
  },
  {
   "cell_type": "code",
   "execution_count": null,
   "metadata": {},
   "outputs": [],
   "source": [
    "save_obj('translated_kyt_tweet', df_kyt)"
   ]
  },
  {
   "cell_type": "code",
   "execution_count": 9,
   "metadata": {},
   "outputs": [],
   "source": [
    "df_ham['place'] = df_ham['place'].apply(lambda x: translate(x,'en'))\n",
    "df_ham['text'] = df_ham['text'].apply(lambda x: translate(x,'en'))"
   ]
  },
  {
   "cell_type": "code",
   "execution_count": 10,
   "metadata": {},
   "outputs": [],
   "source": [
    "save_obj('translated_ham_tweet', df_ham)"
   ]
  },
  {
   "cell_type": "code",
   "execution_count": null,
   "metadata": {},
   "outputs": [],
   "source": [
    "df_spl['place'] = df_spl['place'].apply(lambda x: translate(x,'en'))\n",
    "df_spl['text'] = df_spl['text'].apply(lambda x: translate(x,'en'))"
   ]
  },
  {
   "cell_type": "code",
   "execution_count": null,
   "metadata": {},
   "outputs": [],
   "source": [
    "save_obj('translated_spl_tweet', df_spl)"
   ]
  },
  {
   "cell_type": "markdown",
   "metadata": {},
   "source": [
    "## data"
   ]
  },
  {
   "cell_type": "code",
   "execution_count": 13,
   "metadata": {},
   "outputs": [
    {
     "data": {
      "text/plain": [
       "0     Police Düren - driver flung out of the car aft...\n",
       "1     Police Neustadt bei Coburg - Without license o...\n",
       "2     Police Gädheim - gelding with enigmatic neck i...\n",
       "3     Polizeipräsidium Südosthessen - Offenbach - Pr...\n",
       "4     Police Neustadt bei Coburg - Accident Exodus h...\n",
       "5     Police Inspectorate Goslar - Motorcyclist coll...\n",
       "6     Police Inspectorate Cloppenburg / Vechta - Pre...\n",
       "7                         @ John Lennedy No, then not 😂\n",
       "8     @ rainy day Okay, but: is the terminal at each...\n",
       "9     @SH_Polizei Special thanks to the young police...\n",
       "10    🙌🏻🙌🏻 @DizzyWright is coming to play Hamburg in...\n",
       "11    Police Dé - Police Inspectorate https://t.co/x...\n",
       "12    Police Freyung - Wood theft https://t.co/vdGPn...\n",
       "13    Duisburg association \"Zof\" - Hilfeverein execu...\n",
       "14    Police Perlesreut - Alcoholized with cars on t...\n",
       "15    Police Dé - 94078 Freyung https://t.co/tWppG3WoT4\n",
       "16    Hamburg - It's time !: Here is the Hamburg die...\n",
       "17    Police Freyung - Police ensures small amount o...\n",
       "18    @ rainy day The fourth? In Hamburg Hbf there a...\n",
       "19    Hamburg - It's time !: Here is the Hamburg die...\n",
       "Name: text, dtype: object"
      ]
     },
     "execution_count": 13,
     "metadata": {},
     "output_type": "execute_result"
    }
   ],
   "source": [
    "df_ham['text'][:20]"
   ]
  },
  {
   "cell_type": "code",
   "execution_count": 14,
   "metadata": {},
   "outputs": [
    {
     "data": {
      "text/plain": [
       "'Police Inspectorate Cloppenburg / Vechta - Press releases for the Nordkreis https://t.co/OXS7VEauG1'"
      ]
     },
     "execution_count": 14,
     "metadata": {},
     "output_type": "execute_result"
    }
   ],
   "source": [
    "df_ham['text'][20]"
   ]
  },
  {
   "cell_type": "code",
   "execution_count": 6,
   "metadata": {},
   "outputs": [],
   "source": [
    "df_bkk = load_obj(path+\"/translated_bkk_tweet\")"
   ]
  },
  {
   "cell_type": "code",
   "execution_count": 7,
   "metadata": {},
   "outputs": [
    {
     "data": {
      "text/html": [
       "<div>\n",
       "<style scoped>\n",
       "    .dataframe tbody tr th:only-of-type {\n",
       "        vertical-align: middle;\n",
       "    }\n",
       "\n",
       "    .dataframe tbody tr th {\n",
       "        vertical-align: top;\n",
       "    }\n",
       "\n",
       "    .dataframe thead th {\n",
       "        text-align: right;\n",
       "    }\n",
       "</style>\n",
       "<table border=\"1\" class=\"dataframe\">\n",
       "  <thead>\n",
       "    <tr style=\"text-align: right;\">\n",
       "      <th></th>\n",
       "      <th>acc_id</th>\n",
       "      <th>acc</th>\n",
       "      <th>tweet_id</th>\n",
       "      <th>text</th>\n",
       "      <th>created_time</th>\n",
       "      <th>ex_lat</th>\n",
       "      <th>ex_long</th>\n",
       "      <th>place</th>\n",
       "      <th>lot_sw</th>\n",
       "      <th>lot_ne</th>\n",
       "      <th>tweet_reply_id</th>\n",
       "      <th>tweet_reply_user_id</th>\n",
       "      <th>tweet_reply_username</th>\n",
       "      <th>lang</th>\n",
       "    </tr>\n",
       "  </thead>\n",
       "  <tbody>\n",
       "    <tr>\n",
       "      <th>0</th>\n",
       "      <td>137552452</td>\n",
       "      <td>ExpatDanBKK</td>\n",
       "      <td>1001726470962769920</td>\n",
       "      <td>@David_Aamez Hmmm, I suspect Bill Heinecke wou...</td>\n",
       "      <td>2018-05-30 07:26:16</td>\n",
       "      <td>13.742844</td>\n",
       "      <td>100.5682602</td>\n",
       "      <td>Vadhana</td>\n",
       "      <td>100.55007, 13.732979</td>\n",
       "      <td>100.570733, 13.74842</td>\n",
       "      <td>1001725702192824321</td>\n",
       "      <td>710742220681293824</td>\n",
       "      <td>David_Aamez</td>\n",
       "      <td>en</td>\n",
       "    </tr>\n",
       "    <tr>\n",
       "      <th>1</th>\n",
       "      <td>372674276</td>\n",
       "      <td>NeungBellerin</td>\n",
       "      <td>1001726500725456897</td>\n",
       "      <td>Walk through (@Sam Market Market (Wat Phra Kae...</td>\n",
       "      <td>2018-05-30 07:26:23</td>\n",
       "      <td>13.724922</td>\n",
       "      <td>100.52291</td>\n",
       "      <td>Suriya Wong</td>\n",
       "      <td>100.516253, 13.72236</td>\n",
       "      <td>100.536283, 13.730574</td>\n",
       "      <td>-1</td>\n",
       "      <td>-1</td>\n",
       "      <td>-1</td>\n",
       "      <td>th</td>\n",
       "    </tr>\n",
       "    <tr>\n",
       "      <th>2</th>\n",
       "      <td>1030302462</td>\n",
       "      <td>opalopongpang</td>\n",
       "      <td>1001726547160690689</td>\n",
       "      <td>I'm at Penguin Eat Shabu in Vadhana https://t....</td>\n",
       "      <td>2018-05-30 07:26:34</td>\n",
       "      <td>13.7388373</td>\n",
       "      <td>100.56067598</td>\n",
       "      <td>Vadhana</td>\n",
       "      <td>100.55007, 13.732979</td>\n",
       "      <td>100.570733, 13.74842</td>\n",
       "      <td>-1</td>\n",
       "      <td>-1</td>\n",
       "      <td>-1</td>\n",
       "      <td>en</td>\n",
       "    </tr>\n",
       "    <tr>\n",
       "      <th>3</th>\n",
       "      <td>953277866661199872</td>\n",
       "      <td>Poppysuphannee</td>\n",
       "      <td>1001726564550168576</td>\n",
       "      <td>And it's not going to be a school ride. I do n...</td>\n",
       "      <td>2018-05-30 07:26:38</td>\n",
       "      <td>-1</td>\n",
       "      <td>-1</td>\n",
       "      <td>Frown</td>\n",
       "      <td>100.469033, 13.773245</td>\n",
       "      <td>100.49389, 13.789877</td>\n",
       "      <td>-1</td>\n",
       "      <td>-1</td>\n",
       "      <td>-1</td>\n",
       "      <td>th</td>\n",
       "    </tr>\n",
       "    <tr>\n",
       "      <th>4</th>\n",
       "      <td>399872095</td>\n",
       "      <td>StoneSoupBKK</td>\n",
       "      <td>1001726646599041024</td>\n",
       "      <td>@TheMossadIL F@$king morons.</td>\n",
       "      <td>2018-05-30 07:26:58</td>\n",
       "      <td>-1</td>\n",
       "      <td>-1</td>\n",
       "      <td>Phra Khanong Nuea</td>\n",
       "      <td>100.584345, 13.704628</td>\n",
       "      <td>100.606727, 13.729193</td>\n",
       "      <td>1001701922074701824</td>\n",
       "      <td>774174489458331649</td>\n",
       "      <td>TheMossadIL</td>\n",
       "      <td>en</td>\n",
       "    </tr>\n",
       "  </tbody>\n",
       "</table>\n",
       "</div>"
      ],
      "text/plain": [
       "               acc_id             acc             tweet_id  \\\n",
       "0           137552452     ExpatDanBKK  1001726470962769920   \n",
       "1           372674276   NeungBellerin  1001726500725456897   \n",
       "2          1030302462   opalopongpang  1001726547160690689   \n",
       "3  953277866661199872  Poppysuphannee  1001726564550168576   \n",
       "4           399872095    StoneSoupBKK  1001726646599041024   \n",
       "\n",
       "                                                text         created_time  \\\n",
       "0  @David_Aamez Hmmm, I suspect Bill Heinecke wou...  2018-05-30 07:26:16   \n",
       "1  Walk through (@Sam Market Market (Wat Phra Kae...  2018-05-30 07:26:23   \n",
       "2  I'm at Penguin Eat Shabu in Vadhana https://t....  2018-05-30 07:26:34   \n",
       "3  And it's not going to be a school ride. I do n...  2018-05-30 07:26:38   \n",
       "4                       @TheMossadIL F@$king morons.  2018-05-30 07:26:58   \n",
       "\n",
       "        ex_lat       ex_long              place                 lot_sw  \\\n",
       "0    13.742844   100.5682602            Vadhana   100.55007, 13.732979   \n",
       "1    13.724922     100.52291        Suriya Wong   100.516253, 13.72236   \n",
       "2   13.7388373  100.56067598            Vadhana   100.55007, 13.732979   \n",
       "3           -1            -1              Frown  100.469033, 13.773245   \n",
       "4           -1            -1  Phra Khanong Nuea  100.584345, 13.704628   \n",
       "\n",
       "                  lot_ne       tweet_reply_id tweet_reply_user_id  \\\n",
       "0   100.570733, 13.74842  1001725702192824321  710742220681293824   \n",
       "1  100.536283, 13.730574                   -1                  -1   \n",
       "2   100.570733, 13.74842                   -1                  -1   \n",
       "3   100.49389, 13.789877                   -1                  -1   \n",
       "4  100.606727, 13.729193  1001701922074701824  774174489458331649   \n",
       "\n",
       "  tweet_reply_username lang  \n",
       "0          David_Aamez   en  \n",
       "1                   -1   th  \n",
       "2                   -1   en  \n",
       "3                   -1   th  \n",
       "4          TheMossadIL   en  "
      ]
     },
     "execution_count": 7,
     "metadata": {},
     "output_type": "execute_result"
    }
   ],
   "source": [
    "df_bkk.head()"
   ]
  },
  {
   "cell_type": "code",
   "execution_count": 8,
   "metadata": {},
   "outputs": [
    {
     "data": {
      "text/plain": [
       "37095"
      ]
     },
     "execution_count": 8,
     "metadata": {},
     "output_type": "execute_result"
    }
   ],
   "source": [
    "len(df_bkk)"
   ]
  },
  {
   "cell_type": "code",
   "execution_count": 9,
   "metadata": {},
   "outputs": [
    {
     "data": {
      "text/html": [
       "<div>\n",
       "<style scoped>\n",
       "    .dataframe tbody tr th:only-of-type {\n",
       "        vertical-align: middle;\n",
       "    }\n",
       "\n",
       "    .dataframe tbody tr th {\n",
       "        vertical-align: top;\n",
       "    }\n",
       "\n",
       "    .dataframe thead th {\n",
       "        text-align: right;\n",
       "    }\n",
       "</style>\n",
       "<table border=\"1\" class=\"dataframe\">\n",
       "  <thead>\n",
       "    <tr style=\"text-align: right;\">\n",
       "      <th></th>\n",
       "      <th>acc_id</th>\n",
       "      <th>acc</th>\n",
       "      <th>tweet_id</th>\n",
       "      <th>text</th>\n",
       "      <th>created_time</th>\n",
       "      <th>ex_lat</th>\n",
       "      <th>ex_long</th>\n",
       "      <th>place</th>\n",
       "      <th>lot_sw</th>\n",
       "      <th>lot_ne</th>\n",
       "      <th>tweet_reply_id</th>\n",
       "      <th>tweet_reply_user_id</th>\n",
       "      <th>tweet_reply_username</th>\n",
       "      <th>lang</th>\n",
       "    </tr>\n",
       "  </thead>\n",
       "  <tbody>\n",
       "    <tr>\n",
       "      <th>count</th>\n",
       "      <td>37095</td>\n",
       "      <td>37095</td>\n",
       "      <td>37095</td>\n",
       "      <td>37095</td>\n",
       "      <td>37095</td>\n",
       "      <td>37095</td>\n",
       "      <td>37095</td>\n",
       "      <td>37095</td>\n",
       "      <td>37095</td>\n",
       "      <td>37095</td>\n",
       "      <td>37095</td>\n",
       "      <td>37095</td>\n",
       "      <td>37095</td>\n",
       "      <td>37095</td>\n",
       "    </tr>\n",
       "    <tr>\n",
       "      <th>unique</th>\n",
       "      <td>7501</td>\n",
       "      <td>7514</td>\n",
       "      <td>37095</td>\n",
       "      <td>32641</td>\n",
       "      <td>34861</td>\n",
       "      <td>1399</td>\n",
       "      <td>1390</td>\n",
       "      <td>148</td>\n",
       "      <td>103</td>\n",
       "      <td>101</td>\n",
       "      <td>8699</td>\n",
       "      <td>5330</td>\n",
       "      <td>5332</td>\n",
       "      <td>2</td>\n",
       "    </tr>\n",
       "    <tr>\n",
       "      <th>top</th>\n",
       "      <td>940194643748143104</td>\n",
       "      <td>BaekhyunneeExol</td>\n",
       "      <td>1002925304682168321</td>\n",
       "      <td>I do not know what to do.</td>\n",
       "      <td>2018-06-03 09:18:20</td>\n",
       "      <td>-1</td>\n",
       "      <td>-1</td>\n",
       "      <td>Thailand</td>\n",
       "      <td>100.528375, 13.72951</td>\n",
       "      <td>100.541027, 13.749708</td>\n",
       "      <td>-1</td>\n",
       "      <td>-1</td>\n",
       "      <td>-1</td>\n",
       "      <td>th</td>\n",
       "    </tr>\n",
       "    <tr>\n",
       "      <th>freq</th>\n",
       "      <td>255</td>\n",
       "      <td>255</td>\n",
       "      <td>1</td>\n",
       "      <td>476</td>\n",
       "      <td>5</td>\n",
       "      <td>33985</td>\n",
       "      <td>33985</td>\n",
       "      <td>2653</td>\n",
       "      <td>3129</td>\n",
       "      <td>3129</td>\n",
       "      <td>27716</td>\n",
       "      <td>27313</td>\n",
       "      <td>27313</td>\n",
       "      <td>30186</td>\n",
       "    </tr>\n",
       "  </tbody>\n",
       "</table>\n",
       "</div>"
      ],
      "text/plain": [
       "                    acc_id              acc             tweet_id  \\\n",
       "count                37095            37095                37095   \n",
       "unique                7501             7514                37095   \n",
       "top     940194643748143104  BaekhyunneeExol  1002925304682168321   \n",
       "freq                   255              255                    1   \n",
       "\n",
       "                             text         created_time ex_lat ex_long  \\\n",
       "count                       37095                37095  37095   37095   \n",
       "unique                      32641                34861   1399    1390   \n",
       "top     I do not know what to do.  2018-06-03 09:18:20     -1      -1   \n",
       "freq                          476                    5  33985   33985   \n",
       "\n",
       "           place                lot_sw                 lot_ne tweet_reply_id  \\\n",
       "count      37095                 37095                  37095          37095   \n",
       "unique       148                   103                    101           8699   \n",
       "top     Thailand  100.528375, 13.72951  100.541027, 13.749708             -1   \n",
       "freq        2653                  3129                   3129          27716   \n",
       "\n",
       "       tweet_reply_user_id tweet_reply_username   lang  \n",
       "count                37095                37095  37095  \n",
       "unique                5330                 5332      2  \n",
       "top                     -1                   -1     th  \n",
       "freq                 27313                27313  30186  "
      ]
     },
     "execution_count": 9,
     "metadata": {},
     "output_type": "execute_result"
    }
   ],
   "source": [
    "df_bkk.describe()"
   ]
  },
  {
   "cell_type": "code",
   "execution_count": null,
   "metadata": {},
   "outputs": [],
   "source": []
  }
 ],
 "metadata": {
  "kernelspec": {
   "display_name": "Python 3",
   "language": "python",
   "name": "python3"
  },
  "language_info": {
   "codemirror_mode": {
    "name": "ipython",
    "version": 3
   },
   "file_extension": ".py",
   "mimetype": "text/x-python",
   "name": "python",
   "nbconvert_exporter": "python",
   "pygments_lexer": "ipython3",
   "version": "3.6.4"
  }
 },
 "nbformat": 4,
 "nbformat_minor": 2
}
