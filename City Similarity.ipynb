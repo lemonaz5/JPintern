{
 "cells": [
  {
   "cell_type": "markdown",
   "metadata": {},
   "source": [
    "# City similarity [ Bangkok - Kyoto ]"
   ]
  },
  {
   "cell_type": "markdown",
   "metadata": {},
   "source": [
    "## Import zone"
   ]
  },
  {
   "cell_type": "code",
   "execution_count": 1,
   "metadata": {},
   "outputs": [
    {
     "name": "stderr",
     "output_type": "stream",
     "text": [
      "C:\\Users\\sociocom\\Anaconda3\\lib\\site-packages\\gensim\\utils.py:1197: UserWarning: detected Windows; aliasing chunkize to chunkize_serial\n",
      "  warnings.warn(\"detected Windows; aliasing chunkize to chunkize_serial\")\n"
     ]
    }
   ],
   "source": [
    "import gensim\n",
    "import os\n",
    "import collections\n",
    "import smart_open\n",
    "import random\n",
    "import pickle\n",
    "import pandas as pd\n",
    "import copy\n",
    "import re"
   ]
  },
  {
   "cell_type": "markdown",
   "metadata": {},
   "source": [
    "## Parameter zone"
   ]
  },
  {
   "cell_type": "code",
   "execution_count": 2,
   "metadata": {},
   "outputs": [],
   "source": [
    "path_play = r'C:\\Users\\sociocom\\Desktop\\Crawler\\backup\\playing'"
   ]
  },
  {
   "cell_type": "code",
   "execution_count": 3,
   "metadata": {},
   "outputs": [],
   "source": [
    "grid_size = 10\n",
    "diff = 0.1/grid_size"
   ]
  },
  {
   "cell_type": "code",
   "execution_count": 4,
   "metadata": {},
   "outputs": [],
   "source": [
    "bkk_lat = 13.685780\n",
    "bkk_long = 100.484605"
   ]
  },
  {
   "cell_type": "code",
   "execution_count": 5,
   "metadata": {},
   "outputs": [],
   "source": [
    "kyt_lat = 34.931461\n",
    "kyt_long = 135.685300"
   ]
  },
  {
   "cell_type": "code",
   "execution_count": 6,
   "metadata": {},
   "outputs": [],
   "source": [
    "#merge to 10 color\n",
    "color_idx = {}\n",
    "idx_color = {}"
   ]
  },
  {
   "cell_type": "markdown",
   "metadata": {},
   "source": [
    "## Function zone"
   ]
  },
  {
   "cell_type": "code",
   "execution_count": 7,
   "metadata": {},
   "outputs": [],
   "source": [
    "def save_obj(file, obj):\n",
    "    with open(file, 'wb') as f:\n",
    "        pickle.dump(obj, f)\n",
    "\n",
    "def load_obj(file):\n",
    "    with open(file, 'rb') as f:\n",
    "        return pickle.load(f)"
   ]
  },
  {
   "cell_type": "code",
   "execution_count": 8,
   "metadata": {},
   "outputs": [],
   "source": [
    "def clean_place(df, name):\n",
    "    return df[df['place']!=name]"
   ]
  },
  {
   "cell_type": "code",
   "execution_count": 9,
   "metadata": {},
   "outputs": [],
   "source": [
    "def separate_loc(df, flat, flong):\n",
    "    df['ex_lat'] = df['ex_lat'].apply(lambda x: float(x))\n",
    "    df['ex_long'] = df['ex_long'].apply(lambda x: float(x))\n",
    "    data = []\n",
    "    lat = flat\n",
    "    long = flong\n",
    "    for i in range(grid_size):\n",
    "        for j in range(grid_size):\n",
    "            data.append(df[(df['ex_lat'] >= lat) & (df['ex_lat'] < lat + diff) & (df['ex_long'] >= long) & (df['ex_long'] < long + diff)])\n",
    "            idx = []\n",
    "            idx.append((lat, long))\n",
    "            idx.append((lat, long+diff))\n",
    "            #print(lat,\" \",long)\n",
    "            lat += diff\n",
    "            idx.append((lat,long))\n",
    "            idx.append((lat, long+diff))\n",
    "            u = i*10 + j\n",
    "            idx.append(str(u))\n",
    "            idx_color[str(u)] = idx\n",
    "        long += diff\n",
    "        lat = flat\n",
    "    return data"
   ]
  },
  {
   "cell_type": "code",
   "execution_count": 10,
   "metadata": {},
   "outputs": [],
   "source": [
    "def read_corpus(fname, tokens_only=False):\n",
    "    with smart_open.smart_open(fname, encoding=\"utf-8\") as f:\n",
    "        for i, line in enumerate(f):\n",
    "            if tokens_only:\n",
    "                yield gensim.utils.simple_preprocess(line)\n",
    "            else:\n",
    "                # For training data, add tags\n",
    "                yield gensim.models.doc2vec.TaggedDocument(gensim.utils.simple_preprocess(line), [i])"
   ]
  },
  {
   "cell_type": "code",
   "execution_count": 11,
   "metadata": {},
   "outputs": [],
   "source": [
    "def in_tuple(tp, x):\n",
    "    return [z for y,z in tp if y == x]"
   ]
  },
  {
   "cell_type": "code",
   "execution_count": null,
   "metadata": {},
   "outputs": [],
   "source": []
  },
  {
   "cell_type": "code",
   "execution_count": null,
   "metadata": {},
   "outputs": [],
   "source": []
  },
  {
   "cell_type": "markdown",
   "metadata": {},
   "source": [
    "## Data zone"
   ]
  },
  {
   "cell_type": "markdown",
   "metadata": {},
   "source": [
    "### clean data"
   ]
  },
  {
   "cell_type": "code",
   "execution_count": 22,
   "metadata": {},
   "outputs": [],
   "source": [
    "df_bkk1 = load_obj(path_play + r\"\\translated_bkk_tweet1\")\n",
    "df_bkk2 = load_obj(path_play + r\"\\translated_bkk_tweet2\")"
   ]
  },
  {
   "cell_type": "code",
   "execution_count": 23,
   "metadata": {},
   "outputs": [],
   "source": [
    "df_bkk = pd.concat([df_bkk1, df_bkk2])"
   ]
  },
  {
   "cell_type": "code",
   "execution_count": 24,
   "metadata": {},
   "outputs": [
    {
     "data": {
      "text/html": [
       "<div>\n",
       "<style scoped>\n",
       "    .dataframe tbody tr th:only-of-type {\n",
       "        vertical-align: middle;\n",
       "    }\n",
       "\n",
       "    .dataframe tbody tr th {\n",
       "        vertical-align: top;\n",
       "    }\n",
       "\n",
       "    .dataframe thead th {\n",
       "        text-align: right;\n",
       "    }\n",
       "</style>\n",
       "<table border=\"1\" class=\"dataframe\">\n",
       "  <thead>\n",
       "    <tr style=\"text-align: right;\">\n",
       "      <th></th>\n",
       "      <th>acc_id</th>\n",
       "      <th>acc</th>\n",
       "      <th>tweet_id</th>\n",
       "      <th>text</th>\n",
       "      <th>created_time</th>\n",
       "      <th>ex_lat</th>\n",
       "      <th>ex_long</th>\n",
       "      <th>place</th>\n",
       "      <th>lot_sw</th>\n",
       "      <th>lot_ne</th>\n",
       "      <th>tweet_reply_id</th>\n",
       "      <th>tweet_reply_user_id</th>\n",
       "      <th>tweet_reply_username</th>\n",
       "      <th>lang</th>\n",
       "    </tr>\n",
       "  </thead>\n",
       "  <tbody>\n",
       "    <tr>\n",
       "      <th>count</th>\n",
       "      <td>68120</td>\n",
       "      <td>68120</td>\n",
       "      <td>68120</td>\n",
       "      <td>68120</td>\n",
       "      <td>68120</td>\n",
       "      <td>68120</td>\n",
       "      <td>68120</td>\n",
       "      <td>68120</td>\n",
       "      <td>68120</td>\n",
       "      <td>68120</td>\n",
       "      <td>68120</td>\n",
       "      <td>68120</td>\n",
       "      <td>68120</td>\n",
       "      <td>68120</td>\n",
       "    </tr>\n",
       "    <tr>\n",
       "      <th>unique</th>\n",
       "      <td>10746</td>\n",
       "      <td>10772</td>\n",
       "      <td>68120</td>\n",
       "      <td>59200</td>\n",
       "      <td>64013</td>\n",
       "      <td>2443</td>\n",
       "      <td>2426</td>\n",
       "      <td>149</td>\n",
       "      <td>104</td>\n",
       "      <td>102</td>\n",
       "      <td>16486</td>\n",
       "      <td>9040</td>\n",
       "      <td>9046</td>\n",
       "      <td>2</td>\n",
       "    </tr>\n",
       "    <tr>\n",
       "      <th>top</th>\n",
       "      <td>453950816</td>\n",
       "      <td>xiahjaashop</td>\n",
       "      <td>1002211513355128832</td>\n",
       "      <td>I do not know what to do.</td>\n",
       "      <td>2018-06-08 06:27:52</td>\n",
       "      <td>-1</td>\n",
       "      <td>-1</td>\n",
       "      <td>Thailand</td>\n",
       "      <td>100.528375, 13.72951</td>\n",
       "      <td>100.541027, 13.749708</td>\n",
       "      <td>-1</td>\n",
       "      <td>-1</td>\n",
       "      <td>-1</td>\n",
       "      <td>th</td>\n",
       "    </tr>\n",
       "    <tr>\n",
       "      <th>freq</th>\n",
       "      <td>442</td>\n",
       "      <td>442</td>\n",
       "      <td>1</td>\n",
       "      <td>861</td>\n",
       "      <td>5</td>\n",
       "      <td>62585</td>\n",
       "      <td>62585</td>\n",
       "      <td>4758</td>\n",
       "      <td>5172</td>\n",
       "      <td>5172</td>\n",
       "      <td>50536</td>\n",
       "      <td>49779</td>\n",
       "      <td>49779</td>\n",
       "      <td>56098</td>\n",
       "    </tr>\n",
       "  </tbody>\n",
       "</table>\n",
       "</div>"
      ],
      "text/plain": [
       "           acc_id          acc             tweet_id  \\\n",
       "count       68120        68120                68120   \n",
       "unique      10746        10772                68120   \n",
       "top     453950816  xiahjaashop  1002211513355128832   \n",
       "freq          442          442                    1   \n",
       "\n",
       "                             text         created_time ex_lat ex_long  \\\n",
       "count                       68120                68120  68120   68120   \n",
       "unique                      59200                64013   2443    2426   \n",
       "top     I do not know what to do.  2018-06-08 06:27:52     -1      -1   \n",
       "freq                          861                    5  62585   62585   \n",
       "\n",
       "           place                lot_sw                 lot_ne tweet_reply_id  \\\n",
       "count      68120                 68120                  68120          68120   \n",
       "unique       149                   104                    102          16486   \n",
       "top     Thailand  100.528375, 13.72951  100.541027, 13.749708             -1   \n",
       "freq        4758                  5172                   5172          50536   \n",
       "\n",
       "       tweet_reply_user_id tweet_reply_username   lang  \n",
       "count                68120                68120  68120  \n",
       "unique                9040                 9046      2  \n",
       "top                     -1                   -1     th  \n",
       "freq                 49779                49779  56098  "
      ]
     },
     "execution_count": 24,
     "metadata": {},
     "output_type": "execute_result"
    }
   ],
   "source": [
    "df_bkk.describe()"
   ]
  },
  {
   "cell_type": "code",
   "execution_count": 25,
   "metadata": {},
   "outputs": [],
   "source": [
    "df_bkk = clean_place(df_bkk, \"Myanmar\")\n",
    "df_bkk = clean_place(df_bkk, \"Thailand\")\n",
    "df_bkk = clean_place(df_bkk, \"Bangkok\")"
   ]
  },
  {
   "cell_type": "code",
   "execution_count": 26,
   "metadata": {},
   "outputs": [
    {
     "data": {
      "text/html": [
       "<div>\n",
       "<style scoped>\n",
       "    .dataframe tbody tr th:only-of-type {\n",
       "        vertical-align: middle;\n",
       "    }\n",
       "\n",
       "    .dataframe tbody tr th {\n",
       "        vertical-align: top;\n",
       "    }\n",
       "\n",
       "    .dataframe thead th {\n",
       "        text-align: right;\n",
       "    }\n",
       "</style>\n",
       "<table border=\"1\" class=\"dataframe\">\n",
       "  <thead>\n",
       "    <tr style=\"text-align: right;\">\n",
       "      <th></th>\n",
       "      <th>acc_id</th>\n",
       "      <th>acc</th>\n",
       "      <th>tweet_id</th>\n",
       "      <th>text</th>\n",
       "      <th>created_time</th>\n",
       "      <th>ex_lat</th>\n",
       "      <th>ex_long</th>\n",
       "      <th>place</th>\n",
       "      <th>lot_sw</th>\n",
       "      <th>lot_ne</th>\n",
       "      <th>tweet_reply_id</th>\n",
       "      <th>tweet_reply_user_id</th>\n",
       "      <th>tweet_reply_username</th>\n",
       "      <th>lang</th>\n",
       "    </tr>\n",
       "  </thead>\n",
       "  <tbody>\n",
       "    <tr>\n",
       "      <th>count</th>\n",
       "      <td>58286</td>\n",
       "      <td>58286</td>\n",
       "      <td>58286</td>\n",
       "      <td>58286</td>\n",
       "      <td>58286</td>\n",
       "      <td>58286</td>\n",
       "      <td>58286</td>\n",
       "      <td>58286</td>\n",
       "      <td>58286</td>\n",
       "      <td>58286</td>\n",
       "      <td>58286</td>\n",
       "      <td>58286</td>\n",
       "      <td>58286</td>\n",
       "      <td>58286</td>\n",
       "    </tr>\n",
       "    <tr>\n",
       "      <th>unique</th>\n",
       "      <td>8886</td>\n",
       "      <td>8902</td>\n",
       "      <td>58286</td>\n",
       "      <td>50273</td>\n",
       "      <td>55311</td>\n",
       "      <td>2311</td>\n",
       "      <td>2295</td>\n",
       "      <td>146</td>\n",
       "      <td>101</td>\n",
       "      <td>99</td>\n",
       "      <td>14574</td>\n",
       "      <td>7864</td>\n",
       "      <td>7869</td>\n",
       "      <td>2</td>\n",
       "    </tr>\n",
       "    <tr>\n",
       "      <th>top</th>\n",
       "      <td>453950816</td>\n",
       "      <td>xiahjaashop</td>\n",
       "      <td>1002211513355128832</td>\n",
       "      <td>I do not know what to do.</td>\n",
       "      <td>2018-06-08 06:27:52</td>\n",
       "      <td>-1</td>\n",
       "      <td>-1</td>\n",
       "      <td>Pathum Wan</td>\n",
       "      <td>100.528375, 13.72951</td>\n",
       "      <td>100.541027, 13.749708</td>\n",
       "      <td>-1</td>\n",
       "      <td>-1</td>\n",
       "      <td>-1</td>\n",
       "      <td>th</td>\n",
       "    </tr>\n",
       "    <tr>\n",
       "      <th>freq</th>\n",
       "      <td>442</td>\n",
       "      <td>442</td>\n",
       "      <td>1</td>\n",
       "      <td>791</td>\n",
       "      <td>5</td>\n",
       "      <td>53142</td>\n",
       "      <td>53142</td>\n",
       "      <td>3256</td>\n",
       "      <td>5172</td>\n",
       "      <td>5172</td>\n",
       "      <td>43171</td>\n",
       "      <td>42603</td>\n",
       "      <td>42603</td>\n",
       "      <td>49950</td>\n",
       "    </tr>\n",
       "  </tbody>\n",
       "</table>\n",
       "</div>"
      ],
      "text/plain": [
       "           acc_id          acc             tweet_id  \\\n",
       "count       58286        58286                58286   \n",
       "unique       8886         8902                58286   \n",
       "top     453950816  xiahjaashop  1002211513355128832   \n",
       "freq          442          442                    1   \n",
       "\n",
       "                             text         created_time ex_lat ex_long  \\\n",
       "count                       58286                58286  58286   58286   \n",
       "unique                      50273                55311   2311    2295   \n",
       "top     I do not know what to do.  2018-06-08 06:27:52     -1      -1   \n",
       "freq                          791                    5  53142   53142   \n",
       "\n",
       "             place                lot_sw                 lot_ne  \\\n",
       "count        58286                 58286                  58286   \n",
       "unique         146                   101                     99   \n",
       "top     Pathum Wan  100.528375, 13.72951  100.541027, 13.749708   \n",
       "freq          3256                  5172                   5172   \n",
       "\n",
       "       tweet_reply_id tweet_reply_user_id tweet_reply_username   lang  \n",
       "count           58286               58286                58286  58286  \n",
       "unique          14574                7864                 7869      2  \n",
       "top                -1                  -1                   -1     th  \n",
       "freq            43171               42603                42603  49950  "
      ]
     },
     "execution_count": 26,
     "metadata": {},
     "output_type": "execute_result"
    }
   ],
   "source": [
    "df_bkk.describe()"
   ]
  },
  {
   "cell_type": "code",
   "execution_count": 27,
   "metadata": {},
   "outputs": [
    {
     "data": {
      "text/plain": [
       "15115"
      ]
     },
     "execution_count": 27,
     "metadata": {},
     "output_type": "execute_result"
    }
   ],
   "source": [
    "len(df_bkk[(df_bkk[\"ex_lat\"]!= -1) & (df_bkk[\"tweet_reply_id\"]!= \"-1\")])"
   ]
  },
  {
   "cell_type": "code",
   "execution_count": 28,
   "metadata": {},
   "outputs": [],
   "source": [
    "df_bkk.reset_index(inplace=True)"
   ]
  },
  {
   "cell_type": "code",
   "execution_count": 29,
   "metadata": {},
   "outputs": [
    {
     "data": {
      "text/plain": [
       "'Walk through (@Sam Market Market (Wat Phra Kaew Market) in Bang Rak, Bangkok) https://t.co/7TsvbPXdGE'"
      ]
     },
     "execution_count": 29,
     "metadata": {},
     "output_type": "execute_result"
    }
   ],
   "source": [
    "df_bkk[\"text\"][1]"
   ]
  },
  {
   "cell_type": "code",
   "execution_count": 30,
   "metadata": {},
   "outputs": [],
   "source": [
    "for i in range(len(df_bkk)):\n",
    "    if (df_bkk[\"ex_lat\"][i] == -1) | (df_bkk[\"tweet_reply_username\"][i] == -1):\n",
    "        continue\n",
    "    idx_reply = df_bkk[\"text\"][i].find(df_bkk[\"tweet_reply_username\"][i])-1\n",
    "    leng = len(df_bkk[\"tweet_reply_username\"][i])+1\n",
    "    df_bkk.at[i, \"text\"] = df_bkk[\"text\"][i][:idx_reply] + \" <MENTION> \" + df_bkk[\"text\"][i][idx_reply+leng:]"
   ]
  },
  {
   "cell_type": "code",
   "execution_count": 31,
   "metadata": {},
   "outputs": [
    {
     "data": {
      "text/html": [
       "<div>\n",
       "<style scoped>\n",
       "    .dataframe tbody tr th:only-of-type {\n",
       "        vertical-align: middle;\n",
       "    }\n",
       "\n",
       "    .dataframe tbody tr th {\n",
       "        vertical-align: top;\n",
       "    }\n",
       "\n",
       "    .dataframe thead th {\n",
       "        text-align: right;\n",
       "    }\n",
       "</style>\n",
       "<table border=\"1\" class=\"dataframe\">\n",
       "  <thead>\n",
       "    <tr style=\"text-align: right;\">\n",
       "      <th></th>\n",
       "      <th>index</th>\n",
       "      <th>acc_id</th>\n",
       "      <th>acc</th>\n",
       "      <th>tweet_id</th>\n",
       "      <th>text</th>\n",
       "      <th>created_time</th>\n",
       "      <th>ex_lat</th>\n",
       "      <th>ex_long</th>\n",
       "      <th>place</th>\n",
       "      <th>lot_sw</th>\n",
       "      <th>lot_ne</th>\n",
       "      <th>tweet_reply_id</th>\n",
       "      <th>tweet_reply_user_id</th>\n",
       "      <th>tweet_reply_username</th>\n",
       "      <th>lang</th>\n",
       "    </tr>\n",
       "  </thead>\n",
       "  <tbody>\n",
       "    <tr>\n",
       "      <th>0</th>\n",
       "      <td>0</td>\n",
       "      <td>137552452</td>\n",
       "      <td>ExpatDanBKK</td>\n",
       "      <td>1001726470962769920</td>\n",
       "      <td>&lt;MENTION&gt;  Hmmm, I suspect Bill Heinecke woul...</td>\n",
       "      <td>2018-05-30 07:26:16</td>\n",
       "      <td>13.742844</td>\n",
       "      <td>100.5682602</td>\n",
       "      <td>Vadhana</td>\n",
       "      <td>100.55007, 13.732979</td>\n",
       "      <td>100.570733, 13.74842</td>\n",
       "      <td>1001725702192824321</td>\n",
       "      <td>710742220681293824</td>\n",
       "      <td>David_Aamez</td>\n",
       "      <td>en</td>\n",
       "    </tr>\n",
       "    <tr>\n",
       "      <th>1</th>\n",
       "      <td>1</td>\n",
       "      <td>372674276</td>\n",
       "      <td>NeungBellerin</td>\n",
       "      <td>1001726500725456897</td>\n",
       "      <td>Walk through (@Sam Market Market (Wat Phra Kae...</td>\n",
       "      <td>2018-05-30 07:26:23</td>\n",
       "      <td>13.724922</td>\n",
       "      <td>100.52291</td>\n",
       "      <td>Suriya Wong</td>\n",
       "      <td>100.516253, 13.72236</td>\n",
       "      <td>100.536283, 13.730574</td>\n",
       "      <td>-1</td>\n",
       "      <td>-1</td>\n",
       "      <td>-1</td>\n",
       "      <td>th</td>\n",
       "    </tr>\n",
       "    <tr>\n",
       "      <th>2</th>\n",
       "      <td>2</td>\n",
       "      <td>1030302462</td>\n",
       "      <td>opalopongpang</td>\n",
       "      <td>1001726547160690689</td>\n",
       "      <td>I'm at Penguin Eat Shabu in Vadhana https://t....</td>\n",
       "      <td>2018-05-30 07:26:34</td>\n",
       "      <td>13.7388373</td>\n",
       "      <td>100.56067598</td>\n",
       "      <td>Vadhana</td>\n",
       "      <td>100.55007, 13.732979</td>\n",
       "      <td>100.570733, 13.74842</td>\n",
       "      <td>-1</td>\n",
       "      <td>-1</td>\n",
       "      <td>-1</td>\n",
       "      <td>en</td>\n",
       "    </tr>\n",
       "    <tr>\n",
       "      <th>3</th>\n",
       "      <td>3</td>\n",
       "      <td>953277866661199872</td>\n",
       "      <td>Poppysuphannee</td>\n",
       "      <td>1001726564550168576</td>\n",
       "      <td>And it's not going to be a school ride. I do n...</td>\n",
       "      <td>2018-05-30 07:26:38</td>\n",
       "      <td>-1</td>\n",
       "      <td>-1</td>\n",
       "      <td>Frown</td>\n",
       "      <td>100.469033, 13.773245</td>\n",
       "      <td>100.49389, 13.789877</td>\n",
       "      <td>-1</td>\n",
       "      <td>-1</td>\n",
       "      <td>-1</td>\n",
       "      <td>th</td>\n",
       "    </tr>\n",
       "    <tr>\n",
       "      <th>4</th>\n",
       "      <td>4</td>\n",
       "      <td>399872095</td>\n",
       "      <td>StoneSoupBKK</td>\n",
       "      <td>1001726646599041024</td>\n",
       "      <td>&lt;MENTION&gt;  F@$king morons.</td>\n",
       "      <td>2018-05-30 07:26:58</td>\n",
       "      <td>-1</td>\n",
       "      <td>-1</td>\n",
       "      <td>Phra Khanong Nuea</td>\n",
       "      <td>100.584345, 13.704628</td>\n",
       "      <td>100.606727, 13.729193</td>\n",
       "      <td>1001701922074701824</td>\n",
       "      <td>774174489458331649</td>\n",
       "      <td>TheMossadIL</td>\n",
       "      <td>en</td>\n",
       "    </tr>\n",
       "  </tbody>\n",
       "</table>\n",
       "</div>"
      ],
      "text/plain": [
       "   index              acc_id             acc             tweet_id  \\\n",
       "0      0           137552452     ExpatDanBKK  1001726470962769920   \n",
       "1      1           372674276   NeungBellerin  1001726500725456897   \n",
       "2      2          1030302462   opalopongpang  1001726547160690689   \n",
       "3      3  953277866661199872  Poppysuphannee  1001726564550168576   \n",
       "4      4           399872095    StoneSoupBKK  1001726646599041024   \n",
       "\n",
       "                                                text         created_time  \\\n",
       "0   <MENTION>  Hmmm, I suspect Bill Heinecke woul...  2018-05-30 07:26:16   \n",
       "1  Walk through (@Sam Market Market (Wat Phra Kae...  2018-05-30 07:26:23   \n",
       "2  I'm at Penguin Eat Shabu in Vadhana https://t....  2018-05-30 07:26:34   \n",
       "3  And it's not going to be a school ride. I do n...  2018-05-30 07:26:38   \n",
       "4                         <MENTION>  F@$king morons.  2018-05-30 07:26:58   \n",
       "\n",
       "        ex_lat       ex_long              place                 lot_sw  \\\n",
       "0    13.742844   100.5682602            Vadhana   100.55007, 13.732979   \n",
       "1    13.724922     100.52291        Suriya Wong   100.516253, 13.72236   \n",
       "2   13.7388373  100.56067598            Vadhana   100.55007, 13.732979   \n",
       "3           -1            -1              Frown  100.469033, 13.773245   \n",
       "4           -1            -1  Phra Khanong Nuea  100.584345, 13.704628   \n",
       "\n",
       "                  lot_ne       tweet_reply_id tweet_reply_user_id  \\\n",
       "0   100.570733, 13.74842  1001725702192824321  710742220681293824   \n",
       "1  100.536283, 13.730574                   -1                  -1   \n",
       "2   100.570733, 13.74842                   -1                  -1   \n",
       "3   100.49389, 13.789877                   -1                  -1   \n",
       "4  100.606727, 13.729193  1001701922074701824  774174489458331649   \n",
       "\n",
       "  tweet_reply_username lang  \n",
       "0          David_Aamez   en  \n",
       "1                   -1   th  \n",
       "2                   -1   en  \n",
       "3                   -1   th  \n",
       "4          TheMossadIL   en  "
      ]
     },
     "execution_count": 31,
     "metadata": {},
     "output_type": "execute_result"
    }
   ],
   "source": [
    "df_bkk.head()"
   ]
  },
  {
   "cell_type": "code",
   "execution_count": 32,
   "metadata": {},
   "outputs": [],
   "source": [
    "bkk = separate_loc(df_bkk, bkk_lat, bkk_long)"
   ]
  },
  {
   "cell_type": "code",
   "execution_count": 33,
   "metadata": {},
   "outputs": [
    {
     "data": {
      "text/plain": [
       "[(13.715779999999999, 100.484605),\n",
       " (13.715779999999999, 100.494605),\n",
       " (13.725779999999999, 100.484605),\n",
       " (13.725779999999999, 100.494605),\n",
       " '3']"
      ]
     },
     "execution_count": 33,
     "metadata": {},
     "output_type": "execute_result"
    }
   ],
   "source": [
    "idx_color[\"3\"]"
   ]
  },
  {
   "cell_type": "code",
   "execution_count": 34,
   "metadata": {},
   "outputs": [
    {
     "name": "stdout",
     "output_type": "stream",
     "text": [
      "#tweets in area 0 : 0\n",
      "#tweets in area 1 : 9\n",
      "#tweets in area 2 : 6\n",
      "#tweets in area 3 : 27\n",
      "#tweets in area 4 : 3\n",
      "#tweets in area 5 : 18\n",
      "#tweets in area 6 : 100\n",
      "#tweets in area 7 : 30\n",
      "#tweets in area 8 : 24\n",
      "#tweets in area 9 : 14\n",
      "#tweets in area 10 : 2\n",
      "#tweets in area 11 : 7\n",
      "#tweets in area 12 : 5\n",
      "#tweets in area 13 : 32\n",
      "#tweets in area 14 : 11\n",
      "#tweets in area 15 : 15\n",
      "#tweets in area 16 : 81\n",
      "#tweets in area 17 : 146\n",
      "#tweets in area 18 : 23\n",
      "#tweets in area 19 : 21\n",
      "#tweets in area 20 : 0\n",
      "#tweets in area 21 : 8\n",
      "#tweets in area 22 : 3\n",
      "#tweets in area 23 : 24\n",
      "#tweets in area 24 : 15\n",
      "#tweets in area 25 : 75\n",
      "#tweets in area 26 : 8\n",
      "#tweets in area 27 : 6\n",
      "#tweets in area 28 : 9\n",
      "#tweets in area 29 : 6\n",
      "#tweets in area 30 : 1\n",
      "#tweets in area 31 : 5\n",
      "#tweets in area 32 : 5\n",
      "#tweets in area 33 : 41\n",
      "#tweets in area 34 : 28\n",
      "#tweets in area 35 : 42\n",
      "#tweets in area 36 : 11\n",
      "#tweets in area 37 : 5\n",
      "#tweets in area 38 : 6\n",
      "#tweets in area 39 : 11\n",
      "#tweets in area 40 : 1\n",
      "#tweets in area 41 : 1\n",
      "#tweets in area 42 : 8\n",
      "#tweets in area 43 : 91\n",
      "#tweets in area 44 : 81\n",
      "#tweets in area 45 : 592\n",
      "#tweets in area 46 : 403\n",
      "#tweets in area 47 : 35\n",
      "#tweets in area 48 : 40\n",
      "#tweets in area 49 : 6\n",
      "#tweets in area 50 : 5\n",
      "#tweets in area 51 : 20\n",
      "#tweets in area 52 : 15\n",
      "#tweets in area 53 : 17\n",
      "#tweets in area 54 : 108\n",
      "#tweets in area 55 : 173\n",
      "#tweets in area 56 : 718\n",
      "#tweets in area 57 : 161\n",
      "#tweets in area 58 : 27\n",
      "#tweets in area 59 : 33\n",
      "#tweets in area 60 : 1\n",
      "#tweets in area 61 : 1\n",
      "#tweets in area 62 : 0\n",
      "#tweets in area 63 : 10\n",
      "#tweets in area 64 : 22\n",
      "#tweets in area 65 : 112\n",
      "#tweets in area 66 : 5\n",
      "#tweets in area 67 : 1\n",
      "#tweets in area 68 : 6\n",
      "#tweets in area 69 : 19\n",
      "#tweets in area 70 : 0\n",
      "#tweets in area 71 : 0\n",
      "#tweets in area 72 : 2\n",
      "#tweets in area 73 : 69\n",
      "#tweets in area 74 : 24\n",
      "#tweets in area 75 : 268\n",
      "#tweets in area 76 : 49\n",
      "#tweets in area 77 : 6\n",
      "#tweets in area 78 : 2\n",
      "#tweets in area 79 : 19\n",
      "#tweets in area 80 : 1\n",
      "#tweets in area 81 : 1\n",
      "#tweets in area 82 : 0\n",
      "#tweets in area 83 : 14\n",
      "#tweets in area 84 : 176\n",
      "#tweets in area 85 : 47\n",
      "#tweets in area 86 : 41\n",
      "#tweets in area 87 : 88\n",
      "#tweets in area 88 : 129\n",
      "#tweets in area 89 : 7\n",
      "#tweets in area 90 : 1\n",
      "#tweets in area 91 : 0\n",
      "#tweets in area 92 : 6\n",
      "#tweets in area 93 : 32\n",
      "#tweets in area 94 : 59\n",
      "#tweets in area 95 : 13\n",
      "#tweets in area 96 : 12\n",
      "#tweets in area 97 : 2\n",
      "#tweets in area 98 : 10\n",
      "#tweets in area 99 : 10\n",
      "4683\n",
      "39\n"
     ]
    }
   ],
   "source": [
    "count = 0\n",
    "valid = 0\n",
    "for i in range(len(bkk)):\n",
    "    count += len(bkk[i])\n",
    "    if len(bkk[i])>20:\n",
    "        valid += 1\n",
    "    print(\"#tweets in area\",i,\":\" ,len(bkk[i]))\n",
    "print(count)\n",
    "print(valid)"
   ]
  },
  {
   "cell_type": "code",
   "execution_count": 35,
   "metadata": {},
   "outputs": [
    {
     "data": {
      "text/plain": [
       "[(13.745779999999998, 100.53460500000003),\n",
       " (13.745779999999998, 100.54460500000003),\n",
       " (13.755779999999998, 100.53460500000003),\n",
       " (13.755779999999998, 100.54460500000003),\n",
       " '56']"
      ]
     },
     "execution_count": 35,
     "metadata": {},
     "output_type": "execute_result"
    }
   ],
   "source": [
    "idx_color[\"56\"] #Siam"
   ]
  },
  {
   "cell_type": "markdown",
   "metadata": {},
   "source": [
    "### prepare data"
   ]
  },
  {
   "cell_type": "code",
   "execution_count": 36,
   "metadata": {},
   "outputs": [
    {
     "data": {
      "text/plain": [
       "10536    I'm at Anantara Shuttle Boat in Thonburi, Bang...\n",
       "14179    I'm at SKYLINE https://t.co/Ab6620Sg <MENTION>...\n",
       "15026    I'm at AvaniFit in Bangkok https://t.co/jRiIY2...\n",
       "16634    I'm at Bukkhalo Intersection in Thon Buri, Ban...\n",
       "18136    I'm at Riverside Plaza in Thon Buri, Bangkok h...\n",
       "18212    I'm at ThaiExpress in Thon Buri, Bangkok https...\n",
       "18350    I'm at Attitude https://t.co/QNVi9y0m <MENTION...\n",
       "25892    I'm at Riverside Plaza in Thon Buri, Bangkok h...\n",
       "55179    Just posted a photo @ ... https://t.co/DhA9hlE...\n",
       "Name: text, dtype: object"
      ]
     },
     "execution_count": 36,
     "metadata": {},
     "output_type": "execute_result"
    }
   ],
   "source": [
    "bkk[1]['text']"
   ]
  },
  {
   "cell_type": "code",
   "execution_count": 38,
   "metadata": {},
   "outputs": [],
   "source": [
    "#pattern = re.compile(r\"(I'm at [A-Za-z0-9 ,()'-]+ <URL>.)+\")"
   ]
  },
  {
   "cell_type": "code",
   "execution_count": 39,
   "metadata": {},
   "outputs": [],
   "source": [
    "bkk_str = []\n",
    "for y in bkk:\n",
    "    doc = \"\"\n",
    "    for x in y['text']:\n",
    "        if \"https://\" in x.lower():\n",
    "            idx = (x.lower().find(\"https://\"))-1\n",
    "            x = x[:idx] + \" <URL>\"\n",
    "        if \"I'm at \" in x and \"<URL>\" in x:\n",
    "            idx_i = (x.find(\"I'm at \"))\n",
    "            idx_url = (x.find(\"<URL>\"))+5\n",
    "            x = x[:idx_i]+x[idx_url:]+\"<CHECK_IN>\"\n",
    "        doc += x + \". \"\n",
    "    doc += \" \\n\"\n",
    "    bkk_str.append(doc)"
   ]
  },
  {
   "cell_type": "code",
   "execution_count": 40,
   "metadata": {},
   "outputs": [],
   "source": [
    "#for y in bkk_str:\n",
    "#    pattern2.sub(\"<CHECK_IN>\", y)\n",
    "#    print(y)"
   ]
  },
  {
   "cell_type": "code",
   "execution_count": 41,
   "metadata": {},
   "outputs": [
    {
     "name": "stdout",
     "output_type": "stream",
     "text": [
      "<CHECK_IN>. <CHECK_IN>. <CHECK_IN>. <CHECK_IN>. <CHECK_IN>. <CHECK_IN>. <CHECK_IN>. <CHECK_IN>. <CHECK_IN>. <CHECK_IN>. <CHECK_IN>. <CHECK_IN>. <CHECK_IN>. <CHECK_IN>. Near Wat Lung Na Yi (Yaowarat in Samphanthawong, Bangkok) <URL>. I'm new here (@Yellow Shopping Center in Bangkok, Thailand) <URL>. <CHECK_IN>. <CHECK_IN>. I'm sorry for the dela <MENTION> 'm sorry for the delay.. <CHECK_IN>. <CHECK_IN>. <CHECK_IN>. <CHECK_IN>. <CHECK_IN>. I'm not sure if this is the right place for yo <MENTION> 'm not sure if this is the right place for you.. But I eat rice (@ Duck Noodle in Samphanthawong, Bangkok) <URL>. <CHECK_IN>. <CHECK_IN>. <CHECK_IN>. <CHECK_IN>. <CHECK_IN>. <CHECK_IN>. <CHECK_IN>. ((((((Https https https https https https https https https https https https https https https https https https https https https https htt <MENTION> (((((Https https https https https https https https https https https https https https https https https https https https https https https. <CHECK_IN>. To stay at Lowe's (@Thongluang Gold Shop in Bangkok, Thailand) <URL>. <CHECK_IN>. <CHECK_IN>. <CHECK_IN>. <CHECK_IN>. <CHECK_IN>. <CHECK_IN>. <CHECK_IN>. เยาวราช (@ White dragon Noodle in Samphanthawong, Bangkok) <URL>.  (@ Sweettime in Samphanthawong, Bangkok) <URL>. <CHECK_IN>. <CHECK_IN>. <CHECK_IN>. ก๋วยจั๊บ everyday (@ Ouan Pochana in Samphanthawong, Bangkok) <URL>. At @lebuahotels [pic] — <URL>. <CHECK_IN>. <CHECK_IN>. <CHECK_IN>. I have not been to Chiang Mai before the year 1 will be up in the hill (Chinatown in Samphanthawong, Bangkok) ... <URL>. Cockle 11 ka./100.- It's good (@Jin Jin, TX in Samphanthawong, Bangkok) <URL>. The atmosphere is like a child's father brought to eat. Tastes sweet I like hot peppers (@ Nay Lek Uan in Sam ... <URL>. The milk of milk. Coconut Milk Pudding (@ Sweet Time in Samphanthawong, Bangkok) <URL>. What are you going to eat at the end of the season? (@Thai Biscuits in Samphanthawong, ... <URL>. ก๋วยจั๊บ everyday (@ Chinatown in Samphanthawong, Bangkok) <URL>. <CHECK_IN>. More than 5 minutes to rain (@ Thian Fah Foundation in Samphanthawong, Bangkok) <URL>. <CHECK_IN>. <CHECK_IN>. <CHECK_IN>. <CHECK_IN>. If you come to another day without a roundabout (@Park Prap Sattru Phai, Bangkok) <URL>. <CHECK_IN>. <CHECK_IN>. Thank you for staying. Come on in! Pop Art ... <URL>. First day is temple tour day. Too hot and tiring… <URL>. When you love someone Your heartbeat beats so… <URL>. It's a long way to go (the temple of Kamala. (Pom Prap Sattru Phai, Bangkok) <URL>. <CHECK_IN>. I'm not sure if this is the cas <MENTION> 'm not sure if this is the case.. • Waiting For Something ... <URL>.  \n",
      "\n"
     ]
    }
   ],
   "source": [
    "print(bkk_str[25])"
   ]
  },
  {
   "cell_type": "code",
   "execution_count": 42,
   "metadata": {},
   "outputs": [
    {
     "name": "stdout",
     "output_type": "stream",
     "text": [
      " \n",
      "\n",
      "<CHECK_IN>. <CHECK_IN>. <CHECK_IN>. <CHECK_IN>. <CHECK_IN>. <CHECK_IN>. <CHECK_IN>. <CHECK_IN>. Just posted a photo @ ... <URL>.  \n",
      "\n",
      "<CHECK_IN>. <CHECK_IN>. The first dental implant (@ dentist dentist) <URL>. <CHECK_IN>. <CHECK_IN>. <CHECK_IN>.  \n",
      "\n",
      "This #job might be a great fit for you: HR Associate Manager - Thailand - <URL>. <CHECK_IN>. <CHECK_IN>. <CHECK_IN>. <CHECK_IN>. <CHECK_IN>. <CHECK_IN>. <CHECK_IN>. <CHECK_IN>. Can you recommend anyone for this #job? Data Analyst Manager - <URL>. This #job might be a great fit for you: Site E2E Operations Leader - <URL>. Want to work at The Procter &amp; Gamble Company? We're #hiring in #Bangkok! Click for details: <URL>. Want to work in #Bangkok? View our latest opening: <URL>. But I still can not. <URL>. <CHECK_IN>. <CHECK_IN>. <CHECK_IN>. <CHECK_IN>. <CHECK_IN>. Stress (@ home in Bangkok) <URL>. <CHECK_IN>. Work with a gang with an apprentice. Same model (@ Bester Studio in Bangkok) <URL>. If you're looking for work in #Bangkok, check out this #job: <URL>. <CHECK_IN>. <CHECK_IN>. <CHECK_IN>. <CHECK_IN>.  \n",
      "\n",
      "Do not panic (@ Ban Somdej Chao Phraya Rajabhat University in Thon Buri, Bangkok) <URL>. <CHECK_IN>. More often than myself. (@Bang Somdet Chaopraya University in Thon Buri, Bangkok) <URL>.  \n",
      "\n",
      "<CHECK_IN>. <CHECK_IN>. <CHECK_IN>. @Museumsiam in Phra Nakorn, Bangkok) <URL>. <CHECK_IN>. <CHECK_IN>. <CHECK_IN>. <CHECK_IN>. <CHECK_IN>. <CHECK_IN>. <CHECK_IN>. <CHECK_IN>. <CHECK_IN>. <CHECK_IN>. Hello Friday… <URL>. #templeofdawn @ Wat Arun Temple, Bankok, Thailand <URL>. \"A flower cannot blossom without sunshine, and… <URL>. Pansexual. @ Museum Siam <URL>.  \n",
      "\n",
      "<CHECK_IN>. <CHECK_IN>. <CHECK_IN>. I have a pain in my stomach. 5555 (@ Bangkok) <URL>. This is a rock style ~ ~ (@ Bangkok) <URL>. (@ Bangkok) <URL>. <CHECK_IN>. <CHECK_IN>. <CHECK_IN>. <CHECK_IN>. I will not be able to do tha <MENTION>  will not be able to do that.. <CHECK_IN>. Come back !!! (@ Bangkok) <URL>. <CHECK_IN>. <CHECK_IN>. <CHECK_IN>. <CHECK_IN>. <CHECK_IN>. Will be survived (@ Office of the President Wang Tha Pra in Bangkok, Bangkok) <URL>. <CHECK_IN>. More liver disease (@ Bangkok) <URL>. Life at the Hahaha (@ Bangkok) <URL>. Khon Kaen's nephew Eyes are broken for 2-3 days. Just have a chance to shoot (@ Bangkok) <URL>. @Andy in Phra Nakhon, Bangkok) ... <URL>. <CHECK_IN>. <CHECK_IN>. <CHECK_IN>. There is a popular trim of Isuzu in Thailand called the “D-Max Cityboy” and I have never felt more fourtee <MENTION> here is a popular trim of Isuzu in Thailand called the “D-Max Cityboy” and I have never felt more fourteen.. No. 3 (@ Temple of the Emerald Buddha (Wat Phra Kaew) in Phra Nakhon, Bangkok) <URL>. <CHECK_IN>. <CHECK_IN>. <CHECK_IN>. <CHECK_IN>. <CHECK_IN>. Back to Dream World (@ Bangkok) <URL>. I'm not sure what to sa <MENTION> 'm not sure what to say.. Return home (@ Wat Phra Chetupon Vimonmangkram in Phra Nakhon, Bangkok) <URL>. Take a photo of yourself in @ (Bangkok City Pillar) in Phra Nakhon, Bangkok <URL>. To .. (@ Temple of the Emerald Buddha (Wat Phra Kaew) in Phra Nakhon, Bangkok) <URL>. Scary at level 10 at this time fortunate to have a look at the weapon (@ Supreme Court in Phra Nakhon, Bangkok) <URL>. <CHECK_IN>. Thank you so much @Abplepie  #missseed… <URL>. My drawing of Dominion Fanart @WillOspreay vs.… <URL>. Hidden Heavens  @ Bangkok, Thailand <URL>. Every block of stone has a statute inside it… <URL>. With our THOUGHTS, we make the WORLD. - Buddha… <URL>. I have a problem with my acn <MENTION>  have a problem with my acne.. E n t e r t a i n e r em In the middle of nowhere <URL>. Pictures/videos like these are why I love to fly… <URL>. This is my first post. <URL>. Wat Phra Kaew, known as Temple of the Emerald… <URL>. #ShowKi ## <URL>. #ShowKi ## <URL>. #ShowKi ## <URL>. One Kitty Kitty with 10 colors ... <URL>. # Ex !!! The past is past ... <URL>. Distance . . . . . . . . . #SPiCollective… <URL>. Remainder of the day Just smiles <URL>. A great way to explore Bangkok is by iconic… <URL>. Can you see my home?… <URL>. I will tolerate ... <URL>. City views of Bangkok from 10 000 ft  • 1 full… <URL>. Don't try to be… <URL>. No one was harmed… <URL>. We got a chance to taste Teriyaki Tofu burger.… <URL>. Good morning  @ Bangkok, Thailand <URL>. This is my brother's hot hard to reach. <URL>. Lil space up there #lilspace #rethinking… <URL>. This is my first post. <URL>. Hello the 2nd Friday of June #juneinlove… <URL>. I love Thailand my country is beautiful  @… <URL>. Cool and geeky! That's basically me and my… <URL>. After a ropey few months, we made it to… <URL>. Work, little money, gradually do to end the end. <MENTION> ork, little money, gradually do to end the end. .. “One Night in Bangkok” Well 2 in my case. Been… <URL>. B's Side of the Side ... <URL>. Always look at the… <URL>. Interesting temples all around #Bangkok , worth… <URL>. Jamming sesh! I love my friends!!! #bangkok… <URL>. Tbt ... when we ate a lot.  . If we get fat, we… <URL>. #AhBee #ThankYou chrispeacer #Bangkok… <URL>.  GGMM iPhone 5 / 5S Case Cover ... <URL>. I'm not sure what to d <MENTION> 'm not sure what to do.. I do not know what to do. <URL>. Best of the Best! @ best_chanidapa ... <URL>. Who are you? Hmmm . <MENTION> ho are you? Hmmm .... Spotted in #bangkok - boy that must of been a… <URL>. So, what #books are #worth your time? Should you… <URL>. Have a good night. <URL>. Praying for a good and healthy life. … <URL>. I miss you oppa. @ Bangkok, ... <URL>. I'm not sure what to sa <MENTION> 'm not sure what to say.. First we eat, then… <URL>. Reebok be more human… <URL>. 3 hippies touring the grand palace @ The Grand… <URL>. <CHECK_IN>. City life at Bangkok Thailand … <URL>. City life at Bangkok   . . . . #agameoftones… <URL>. City life at Bangkok Thailand … <URL>. Selling iPhone ... <URL>.  \n",
      "\n",
      "@ <MENTION>  The stock market is not as good as before.. Wish me luck  (@ College of Innovation in Bangkok) <URL>. @StephenScott (@ Siriraj Library in Bangkok Noi, Bangkok) <URL>. @ <MENTION> . We have a lot of people here, and we have people who know us and we just have to remember that day. I'm not sure what to say . <MENTION> e have a lot of people here, and we have people who know us and we just have to remember that day. I'm not sure what to say .... move to a new enviroment Mama Pad 30 Baht (@Central Cafeteria 60th Anniversary of Thammasat Building in Phra Nakhon, Bangkok) <URL>. <CHECK_IN>. I'm not sure what to sa <MENTION> 'm not sure what to say.. (Au Bon Pain) <URL>. I'm at your kitche <MENTION> 'm at your kitchen.. <CHECK_IN>. Take a sip (@Caf Amazon in Bangkok Noi, Bangkok) <URL>. I'm sorry to hear tha <MENTION> 'm sorry to hear that.. <CHECK_IN>.  (@ Dong Dae Moon in win the battle, Bangkok) <URL>. This will be some. (@ Siriraj Hospital. Merry Christmas in Bangkok Noi, Bangkok w / @por_iiii) <URL>. I'm h <MENTION> 'm hot.  <MENTION>  do not take mini. Good night (@ Chulabhorn Meeting Room, Sirimarn Building, Siriraj Hospital) <URL>. <CHECK_IN>. (@Central Conference Room in Bangkok) <URL>. I'm not sure if this is the cas <MENTION> 'm not sure if this is the case.. Suck yourself (@ Department of Forensic Medicine, Siriraj Hospital) <URL>. (@Central Cafeteria in Thammasat 60 years old in Phra Nakhon, Bangkok) <URL>. <CHECK_IN>. <CHECK_IN>. Walking distance (@ Phuttasawat in Phra Nakhon, Bangkok) <URL>. <CHECK_IN>. Morning World  @… <URL>. Obligatory from the teacher Let's take your patient's benefit. <URL>.  \n",
      "\n",
      "<CHECK_IN>. <CHECK_IN>. <CHECK_IN>. <CHECK_IN>. <CHECK_IN>. I was out running 6.88 km with #Endomondo #endorphins <URL>. <CHECK_IN>. <CHECK_IN>. I was out running 7.54 km with #Endomondo #endorphins <URL>. <CHECK_IN>. Love health (@Thailand Badminton Club in Bangplate, Bangkok) <URL>. <CHECK_IN>. <CHECK_IN>. <CHECK_IN>. <CHECK_IN>. <CHECK_IN>. <CHECK_IN>. <CHECK_IN>. <CHECK_IN>. <CHECK_IN>. <CHECK_IN>. <CHECK_IN>. <CHECK_IN>. <CHECK_IN>.  \n",
      "\n",
      "<CHECK_IN>. <CHECK_IN>. <CHECK_IN>. <CHECK_IN>. At eight o'clock (@Bangramat Temple School in Bang Phlat, Bangkok) <URL>. <CHECK_IN>. <CHECK_IN>. Good (@bangkok bus stop at Charan 46) <URL>. <CHECK_IN>. <CHECK_IN>. <CHECK_IN>. <CHECK_IN>. <CHECK_IN>. <CHECK_IN>.  \n",
      "\n",
      "<CHECK_IN>. <CHECK_IN>.  \n",
      "\n",
      "<CHECK_IN>. <CHECK_IN>. I'm at the fish sho <MENTION> 'm at the fish shop.. <CHECK_IN>. <CHECK_IN>. <CHECK_IN>. Just posted a photo @ Asiatique The Riverfront… <URL>.  \n",
      "\n",
      "So far, <URL>. <CHECK_IN>. <CHECK_IN>. <CHECK_IN>. <CHECK_IN>.  \n",
      "\n",
      "I'm not sure if this is a good ide <MENTION> 'm not sure if this is a good idea.. Thank you so much for the # # 955VirginHitZ I love music and tell Feeling <URL>. Work (@ ThaiSri Insurance Public Company Ltd in Khlong San, Bangkok) <URL>. Come to work or eat lunch (@ Somsak Crab Branch 2 in Khlong San, Bangkok) <URL>. Thank you #fucker luck - # 955VirginHitZ And listen to the song Feeling <URL>. <CHECK_IN>. Thank you so much for the # # 955VirginHitZ And listen to the song Feeling <URL>. Thank you so much for the # # 955VirginHitZ I love music and tell Feeling <URL>. Thanks for the hel <MENTION> hanks for the help!. <CHECK_IN>. <CHECK_IN>. <CHECK_IN>. LOVE #Lucky Productions - # 955VirginHitZ And listen to the song Feeling <URL>. Open the song because of all the music (@ Saded Shabu) <URL>. <CHECK_IN>. <CHECK_IN>. <CHECK_IN>. Work (@ ThaiSri Insurance Public Company Ltd in Khlong San, Bangkok) <URL>. Thanks for the inf <MENTION> hanks for the info.. <CHECK_IN>. Thank you for the # @VirginStar for listening to the song and telling Feeling <URL>. <CHECK_IN>. Thank you so much for your help! #tweetmusic http://t.co/yXoVGdz <MENTION> hank you so much for your help! #tweetmusic http://t.co/yXoVGdzyJ. Work (@ ThaiSri Insurance Public Company Ltd in Khlong San, Bangkok) <URL>. Thanks for sharin <MENTION> hanks for sharing!. Lots of luck - # 955VirginHitZ And listen to the song Feeling <URL>. I do not have to wait for the queue (@ Somsak Crab in Khlong San, Bangkok) <URL>. <CHECK_IN>. Work (@ ThaiSri Insurance Public Company Ltd in Khlong San, Bangkok) <URL>. Love # make a fortune - # 955VirginHitZ And listen to the song Feeling <URL>. <CHECK_IN>. Thank you so much for the # # 955VirginHitZ I love music and say Feeling <URL>.  \n",
      "\n",
      "<CHECK_IN>. <CHECK_IN>. I was out cycling 2.80 km with #Endomondo #endorphins <URL>. <CHECK_IN>. (@Chonburi Meeting Room in Thon Buri, Bangkok) <URL>. I'm stup <MENTION> 'm stupid. <CHECK_IN>. <CHECK_IN>. <CHECK_IN>. <CHECK_IN>. Hello worl <MENTION> ello world!.  \n",
      "\n",
      "I just finished running 10.00 km in 1h:28m:11s with #Endomondo #endorphins <URL>. Life is a fever, but you have to buy me (@ Always one in Bangkok, <URL>. <CHECK_IN>. <CHECK_IN>. <CHECK_IN>. <CHECK_IN>. <CHECK_IN>. <CHECK_IN>. <CHECK_IN>. <CHECK_IN>. <CHECK_IN>. I am loving the noodle soups... (@ 94 Coffee (ไนน์ตี้-โฟร์ คอฟฟี่) - @aromathailand in Bangkok)… <URL>. The bus stop is at 12 47 60 in Phra Nakhon, Bangkok) <URL>. Saving money or near the end of the Dynasty. <URL>. <CHECK_IN>.  \n",
      "\n",
      "shower rain -&gt; scattered clouds temperature down 33C -&gt; 31C humidity up 70% -&gt; 7 <MENTION> hower rain -&gt; scattered clouds temperature down 33C -&gt; 31C humidity up 70% -&gt; 79%. shower rain -&gt; heavy intensity rain temperature down 32C -&gt; 31C humidity up 70% -&gt; 78% wind 2kmh -&gt; 10k <MENTION> hower rain -&gt; heavy intensity rain temperature down 32C -&gt; 31C humidity up 70% -&gt; 78% wind 2kmh -&gt; 10kmh. current weather in Bangkok: few clouds, 30C 84% humidity, wind 2kmh, pressure 1007 <MENTION> urrent weather in Bangkok: few clouds, 30C 84% humidity, wind 2kmh, pressure 1007mb. few clouds -&gt; broken clouds humidity down 84% -&gt; 7 <MENTION> ew clouds -&gt; broken clouds humidity down 84% -&gt; 79%. broken clouds -&gt; few clouds temperature down 30C -&gt; 27C humidity down 79% -&gt; 7 <MENTION> roken clouds -&gt; few clouds temperature down 30C -&gt; 27C humidity down 79% -&gt; 78%. Bangkok: 5:49am: sunrise sunset will be at 6:42 <MENTION> angkok: 5:49am: sunrise sunset will be at 6:42pm. current weather in Bangkok: few clouds, 27C 83% humidity, wind 2kmh, pressure 1009 <MENTION> urrent weather in Bangkok: few clouds, 27C 83% humidity, wind 2kmh, pressure 1009mb. <CHECK_IN>. few clouds -&gt; scattered clouds temperature up 27C -&gt; 31C humidity down 83% -&gt; 7 <MENTION> ew clouds -&gt; scattered clouds temperature up 27C -&gt; 31C humidity down 83% -&gt; 74%. <CHECK_IN>. current weather in Bangkok: broken clouds, 32C 70% humidity, wind 2kmh, pressure 1011 <MENTION> urrent weather in Bangkok: broken clouds, 32C 70% humidity, wind 2kmh, pressure 1011mb. broken clouds -&gt; few clouds temperature up 32C -&gt; 33C humidity down 70% -&gt; 59% wind 2kmh -&gt; 3k <MENTION> roken clouds -&gt; few clouds temperature up 32C -&gt; 33C humidity down 70% -&gt; 59% wind 2kmh -&gt; 3kmh. current weather in Bangkok: scattered clouds, 31C 62% humidity, wind 2kmh, pressure 1007 <MENTION> urrent weather in Bangkok: scattered clouds, 31C 62% humidity, wind 2kmh, pressure 1007mb. scattered clouds -&gt; few clouds temperature down 31C -&gt; 29C humidity up 62% -&gt; 79% wind 2kmh -&gt; 3k <MENTION> cattered clouds -&gt; few clouds temperature down 31C -&gt; 29C humidity up 62% -&gt; 79% wind 2kmh -&gt; 3kmh. temperature down 29C -&gt; 28C humidity down 79% -&gt; 7 <MENTION> emperature down 29C -&gt; 28C humidity down 79% -&gt; 78%. Bangkok: 5:49am: sunrise sunset will be at 6:42 <MENTION> angkok: 5:49am: sunrise sunset will be at 6:42pm. current weather in Bangkok: few clouds, 27C 83% humidity, wind 3kmh, pressure 1008 <MENTION> urrent weather in Bangkok: few clouds, 27C 83% humidity, wind 3kmh, pressure 1008mb. <CHECK_IN>. 6:42pm: suns <MENTION> :42pm: sunset. current weather in Bangkok: thunderstorm with rain, 30C 88% humidity, wind 8kmh, pressure 1007 <MENTION> urrent weather in Bangkok: thunderstorm with rain, 30C 88% humidity, wind 8kmh, pressure 1007mb. thunderstorm with rain -&gt; few clouds temperature down 30C -&gt; 29C humidity down 88% -&gt; 83% wind 8kmh -&gt; 3k <MENTION> hunderstorm with rain -&gt; few clouds temperature down 30C -&gt; 29C humidity down 88% -&gt; 83% wind 8kmh -&gt; 3kmh. temperature down 29C -&gt; 27C humidity down 83% -&gt; 7 <MENTION> emperature down 29C -&gt; 27C humidity down 83% -&gt; 78%. Bangkok: 5:49am: sunrise sunset will be at 6:42 <MENTION> angkok: 5:49am: sunrise sunset will be at 6:42pm. current weather in Bangkok: few clouds, 27C 78% humidity, wind 4kmh, pressure 1007 <MENTION> urrent weather in Bangkok: few clouds, 27C 78% humidity, wind 4kmh, pressure 1007mb. temperature up 27C -&gt; 28C humidity down 78% -&gt; 74% wind 4kmh -&gt; 2k <MENTION> emperature up 27C -&gt; 28C humidity down 78% -&gt; 74% wind 4kmh -&gt; 2kmh. temperature up 28C -&gt; 33C humidity down 74% -&gt; 4 <MENTION> emperature up 28C -&gt; 33C humidity down 74% -&gt; 49%. current weather in Bangkok: few clouds, 34C 59% humidity, wind 4kmh, pressure 1006 <MENTION> urrent weather in Bangkok: few clouds, 34C 59% humidity, wind 4kmh, pressure 1006mb. 6:43pm: suns <MENTION> :43pm: sunset. current weather in Bangkok: few clouds, 32C 52% humidity, wind 3kmh, pressure 1003 <MENTION> urrent weather in Bangkok: few clouds, 32C 52% humidity, wind 3kmh, pressure 1003mb. few clouds -&gt; scattered clouds temperature down 32C -&gt; 31C humidity up 52% -&gt; 74% wind 3kmh -&gt; 6k <MENTION> ew clouds -&gt; scattered clouds temperature down 32C -&gt; 31C humidity up 52% -&gt; 74% wind 3kmh -&gt; 6kmh. scattered clouds -&gt; few clouds temperature down 31C -&gt; 30C wind 6kmh -&gt; 4k <MENTION> cattered clouds -&gt; few clouds temperature down 31C -&gt; 30C wind 6kmh -&gt; 4kmh. temperature down 30C -&gt; 27C humidity up 74% -&gt; 78% wind 4kmh -&gt; 1k <MENTION> emperature down 30C -&gt; 27C humidity up 74% -&gt; 78% wind 4kmh -&gt; 1kmh. 5:49am: sunrise sunset will be at 6:43 <MENTION> :49am: sunrise sunset will be at 6:43pm. current weather in Bangkok: few clouds, 27C 78% humidity, wind 2kmh, pressure 1005 <MENTION> urrent weather in Bangkok: few clouds, 27C 78% humidity, wind 2kmh, pressure 1005mb. few clouds -&gt; broken clouds temperature up 27C -&gt; 31C humidity down 78% -&gt; 66% wind 2kmh -&gt; 5k <MENTION> ew clouds -&gt; broken clouds temperature up 27C -&gt; 31C humidity down 78% -&gt; 66% wind 2kmh -&gt; 5kmh. current weather in Bangkok: few clouds, 34C 59% humidity, wind 4kmh, pressure 1007 <MENTION> urrent weather in Bangkok: few clouds, 34C 59% humidity, wind 4kmh, pressure 1007mb. temperature down 34C -&gt; 32C humidity up 59% -&gt; 63% wind 4kmh -&gt; 5k <MENTION> emperature down 34C -&gt; 32C humidity up 59% -&gt; 63% wind 4kmh -&gt; 5kmh. current weather in Bangkok: few clouds, 31C 66% humidity, wind 5kmh, pressure 1004 <MENTION> urrent weather in Bangkok: few clouds, 31C 66% humidity, wind 5kmh, pressure 1004mb. temperature down 31C -&gt; 30C humidity up 66% -&gt; 7 <MENTION> emperature down 31C -&gt; 30C humidity up 66% -&gt; 70%. temperature down 30C -&gt; 29C humidity up 70% -&gt; 74% wind 5kmh -&gt; 6k <MENTION> emperature down 30C -&gt; 29C humidity up 70% -&gt; 74% wind 5kmh -&gt; 6kmh. temperature down 29C -&gt; 28C humidity up 74% -&gt; 83% wind 6kmh -&gt; 2k <MENTION> emperature down 29C -&gt; 28C humidity up 74% -&gt; 83% wind 6kmh -&gt; 2kmh. Bangkok: 5:49am: sunrise sunset will be at 6:43 <MENTION> angkok: 5:49am: sunrise sunset will be at 6:43pm. current weather in Bangkok: few clouds, 27C 78% humidity, wind 2kmh, pressure 1006 <MENTION> urrent weather in Bangkok: few clouds, 27C 78% humidity, wind 2kmh, pressure 1006mb. temperature up 27C -&gt; 28C humidity down 78% -&gt; 7 <MENTION> emperature up 27C -&gt; 28C humidity down 78% -&gt; 74%. <CHECK_IN>. temperature up 28C -&gt; 32C humidity down 74% -&gt; 62% wind 2kmh -&gt; 5k <MENTION> emperature up 28C -&gt; 32C humidity down 74% -&gt; 62% wind 2kmh -&gt; 5kmh. current weather in Bangkok: scattered clouds, 33C 56% humidity, wind 5kmh, pressure 1007 <MENTION> urrent weather in Bangkok: scattered clouds, 33C 56% humidity, wind 5kmh, pressure 1007mb. Like we all hadn’t turned them completely off already <URL>. Person you went to high school with is Liv <MENTION> went to high school with is Live!. Your racist cousin posted a stor <MENTION>  cousin posted a story!. We’ve found a new friend suggestio <MENTION>  a new friend suggestion!. 35 people you don’t like are attending an event you hadn’t heard o <MENTION> ou don’t like are attending an event you hadn’t heard of!. scattered clouds -&gt; shower rain humidity up 56% -&gt; 59% wind 5kmh -&gt; 7k <MENTION> cattered clouds -&gt; shower rain humidity up 56% -&gt; 59% wind 5kmh -&gt; 7kmh. shower rain -&gt; scattered clouds temperature down 33C -&gt; 31C humidity up 59% -&gt; 66% wind 7kmh -&gt; 5k <MENTION> hower rain -&gt; scattered clouds temperature down 33C -&gt; 31C humidity up 59% -&gt; 66% wind 7kmh -&gt; 5kmh. current weather in Bangkok: scattered clouds, 31C 70% humidity, wind 4kmh, pressure 1005 <MENTION> urrent weather in Bangkok: scattered clouds, 31C 70% humidity, wind 4kmh, pressure 1005mb. scattered clouds -&gt; few clouds temperature down 31C -&gt; 30C wind 4kmh -&gt; 3k <MENTION> cattered clouds -&gt; few clouds temperature down 31C -&gt; 30C wind 4kmh -&gt; 3kmh. temperature down 30C -&gt; 29C humidity up 70% -&gt; 7 <MENTION> emperature down 30C -&gt; 29C humidity up 70% -&gt; 74%. Bangkok: 5:49am: sunrise sunset will be at 6:43 <MENTION> angkok: 5:49am: sunrise sunset will be at 6:43pm. current weather in Bangkok: few clouds, 27C 78% humidity, wind 3kmh, pressure 1008 <MENTION> urrent weather in Bangkok: few clouds, 27C 78% humidity, wind 3kmh, pressure 1008mb. <CHECK_IN>. <CHECK_IN>. temperature up 27C -&gt; 33C humidity down 78% -&gt; 59% wind 3kmh -&gt; 4k <MENTION> emperature up 27C -&gt; 33C humidity down 78% -&gt; 59% wind 3kmh -&gt; 4kmh. current weather in Bangkok: few clouds, 33C 59% humidity, wind 4kmh, pressure 1009 <MENTION> urrent weather in Bangkok: few clouds, 33C 59% humidity, wind 4kmh, pressure 1009mb. few clouds -&gt; scattered clouds humidity down 59% -&gt; 56% wind 4kmh -&gt; 6k <MENTION> ew clouds -&gt; scattered clouds humidity down 59% -&gt; 56% wind 4kmh -&gt; 6kmh. current weather in Bangkok: light intensity shower rain, 27C 88% humidity, wind 4kmh, pressure 1006 <MENTION> urrent weather in Bangkok: light intensity shower rain, 27C 88% humidity, wind 4kmh, pressure 1006mb. current weather in Bangkok: light rain, 30C 74% humidity, wind 6kmh, pressure 1009 <MENTION> urrent weather in Bangkok: light rain, 30C 74% humidity, wind 6kmh, pressure 1009mb. light rain -&gt; scattered clouds temperature down 30C -&gt; 29C wind 6kmh -&gt; 4k <MENTION> ight rain -&gt; scattered clouds temperature down 30C -&gt; 29C wind 6kmh -&gt; 4kmh. temperature up 29C -&gt; 31C humidity down 74% -&gt; 66% wind 4kmh -&gt; 6k <MENTION> emperature up 29C -&gt; 31C humidity down 74% -&gt; 66% wind 4kmh -&gt; 6kmh. 6:44pm: suns <MENTION> :44pm: sunset. current weather in Bangkok: broken clouds, 31C 74% humidity, wind 4kmh, pressure 1005 <MENTION> urrent weather in Bangkok: broken clouds, 31C 74% humidity, wind 4kmh, pressure 1005mb. broken clouds -&gt; few clouds temperature down 31C -&gt; 30C humidity down 74% -&gt; 66% wind 4kmh -&gt; 6k <MENTION> roken clouds -&gt; few clouds temperature down 31C -&gt; 30C humidity down 74% -&gt; 66% wind 4kmh -&gt; 6kmh. temperature down 30C -&gt; 28C humidity up 66% -&gt; 74% wind 6kmh -&gt; 4k <MENTION> emperature down 30C -&gt; 28C humidity up 66% -&gt; 74% wind 6kmh -&gt; 4kmh. temperature down 28C -&gt; 27C humidity up 74% -&gt; 83% wind 4kmh -&gt; 3k <MENTION> emperature down 28C -&gt; 27C humidity up 74% -&gt; 83% wind 4kmh -&gt; 3kmh. Bangkok: 5:49am: sunrise sunset will be at 6:44 <MENTION> angkok: 5:49am: sunrise sunset will be at 6:44pm. current weather in Bangkok: few clouds, 27C 83% humidity, wind 2kmh, pressure 1006 <MENTION> urrent weather in Bangkok: few clouds, 27C 83% humidity, wind 2kmh, pressure 1006mb. <CHECK_IN>. few clouds -&gt; scattered clouds temperature up 27C -&gt; 2 <MENTION> ew clouds -&gt; scattered clouds temperature up 27C -&gt; 28C. The light is coming to give back everything the… <URL>. <CHECK_IN>. temperature up 28C -&gt; 30C humidity down 83% -&gt; 6 <MENTION> emperature up 28C -&gt; 30C humidity down 83% -&gt; 66%. current weather in Bangkok: light rain, 27C 94% humidity, wind 6kmh, pressure 1008 <MENTION> urrent weather in Bangkok: light rain, 27C 94% humidity, wind 6kmh, pressure 1008mb.  \n",
      "\n",
      "This #job might be a great fit for you: Operations Support Staff - <URL>. Want to work at Standard Chartered Bank? We're #hiring in #Bangkok! Click for details: <URL>. If you're looking for work in #Bangkok, check out this #job: <URL>. If you're looking for work in #Bangkok, check out this #job: <URL>. Want to work at Standard Chartered Bank? We're #hiring in #Bangkok! Click for details: <URL>. Want to work in #Bangkok? View our latest opening: <URL>. <CHECK_IN>. We're #hiring! Read about our latest #job opening here: Manager, Financial Reporting &amp; Accounting -… <URL>. <CHECK_IN>. <CHECK_IN>. Join the Standard Chartered Bank team! See our latest #job opening here: <URL>. We're #hiring! Click to apply: Director, RM, International Corporates - <URL>. We're #hiring! Read about our latest #job opening here: Chief Risk Officer - <URL>. Can you recommend anyone for this #job in #Bangkok? <URL>. <CHECK_IN>. <CHECK_IN>. We're #hiring! Read about our latest #job opening here: Associate Director, CCG, Global Subsidiaries -… <URL>. We're #hiring! Click to apply: Associate Director, CCG, International Corporates - <URL>. We're #hiring! Read about our latest #job opening here: Executive Assistant - <URL>. Want to work in #Bangkok? View our latest opening: <URL>. Want to work in #Bangkok? View our latest opening: <URL>. We're #hiring! Click to apply: Team Leader, Cash Management Services - <URL>. Can you recommend anyone for this #job? Settlement Staff - <URL>. This #job might be a great fit for you: FX &amp; Payment Staff - <URL>. We're #hiring! Click to apply: Head of Taxation - <URL>. If you're looking for work in #Bangkok, check out this #job: <URL>. Want to work in #Bangkok? View our latest opening: <URL>. <CHECK_IN>. Want to work at Standard Chartered Bank? We're #hiring in #Bangkok! Click for details: <URL>. I have a baby concert Mother had her concert !! (@ Khaosan Night Market in Bangkok) <URL>. <CHECK_IN>. Friday night  (@ Brick Bar in Phra Nakhon, Bangkok) <URL>. <CHECK_IN>. <CHECK_IN>. This #job might be a great fit for you: Service Engineer - <URL>. Many @ jawwa @ (@ Bar Next Door w / @punnsann @ryongboslh) <URL>. <CHECK_IN>. <CHECK_IN>. <CHECK_IN>. <CHECK_IN>. <CHECK_IN>. Can you recommend anyone for this #job? Account Manager - <URL>. <CHECK_IN>. We're #hiring! Click to apply: Operations Support Staff - <URL>. <CHECK_IN>. Want to work at Standard Chartered Bank? We're #hiring in #Bangkok! Click for details: <URL>. Want to work in #Bangkok? View our latest opening: <URL>. We're #hiring! Read about our latest #job opening here: COBAM Specialist - <URL>. If you're looking for work in #Bangkok, check out this #job: <URL>. We're #hiring! Click to apply: Senior Well Site Supervisor - <URL>. We're #hiring! Read about our latest #job opening here: Manger, Operation Risk &amp; Control - <URL>. We're #hiring! Click to apply: Director, Securities Services Sales, TB - <URL>. Can you recommend anyone for this #job? Cash Management Services Officer - <URL>. <CHECK_IN>. <CHECK_IN>. <CHECK_IN>. <CHECK_IN>. Halfway through, but check in first. Scared of Drunk (@Kraan Road in Phra Nakhon, Bangkok) <URL>. <CHECK_IN>. I will be a mother to a pub to drink a drink in the water. @ # (Mulligan's Irish Bar in Phra Nakhon, Bangkok) <URL>.  (@ Bar Next Door) <URL>. <CHECK_IN>. See our latest #Bangkok #job and click to apply: Director, RM, International Corporates - <URL>. <CHECK_IN>. We're #hiring! Read about our latest #job opening here: Head, Fund Services - <URL>. <CHECK_IN>. If you're looking for work in #Bangkok, check out this #job: <URL>. We're #hiring! Click to apply: Associate Director, CCG, Global Subsidiaries - <URL>. Interested in a #job in #Bangkok? This could be a great fit: <URL>. <CHECK_IN>. Can you recommend anyone for this #job? Executive Assistant - <URL>. We're #hiring! Click to apply: Associate, Credit Analyst, IC - <URL>. Can you recommend anyone for this #job in #Bangkok? <URL>. We're #hiring! Read about our latest #job opening here: Team Leader, Cash Management Services -… <URL>. <CHECK_IN>. If you're looking for work in #Bangkok, check out this #job: <URL>. Want to work at Standard Chartered Bank? We're #hiring in #Bangkok! Click for details: <URL>. Why Why? (@Rungruang Holiday Tour Co., Ltd in Bangkok) <URL>. Can you recommend anyone for this #job in #Bangkok? <URL>. Interested in a #job in #Bangkok? This could be a great fit: <URL>. Want to work at Standard Chartered Bank? We're #hiring in #Bangkok! Click for details: <URL>. We're #hiring! Read about our latest #job opening here: Client Management Manager - <URL>. Can you recommend anyone for this #job? COBAM Specialist - <URL>. This #job might be a great fit for you: Manager, Financial Reporting and Accounting - <URL>. See our latest #Bangkok #job and click to apply: Officer, FMO Capital Markets Operation - <URL>. Can you recommend anyone for this #job? Manger, Operation Risk &amp; Control - <URL>. <CHECK_IN>. <CHECK_IN>. <CHECK_IN>. <CHECK_IN>. <CHECK_IN>. We're #hiring! Read about our latest #job opening here: Brand Manager Thailand - <URL>. <CHECK_IN>. Interested in a #job in #Bangkok? This could be a great fit: <URL>. See our latest #Bangkok #job and click to apply: Vice President, Business Development - <URL>.  (@ Rungruang Tour Holiday Co., Ltd in Bangkok) <URL>. Want to work in #Bangkok? View our latest opening: <URL>. Interested in a #job in #Bangkok? This could be a great fit: <URL>. Join the Standard Chartered Bank team! See our latest #job opening here: <URL>. Can you recommend anyone for this #job? Brand Manager Thailand - <URL>. Interested in a #job in #Bangkok? This could be a great fit: <URL>. We're #hiring! Click to apply: Account Manager - <URL>. See our latest #Bangkok #job and click to apply: Fund Services Officer - <URL>. We're #hiring! Read about our latest #job opening here: Service Engineer - <URL>. Want to work at Standard Chartered Bank? We're #hiring in #Bangkok! Click for details: <URL>. This #job might be a great fit for you: Receivables Solutions Manager - <URL>. <CHECK_IN>. <CHECK_IN>. <CHECK_IN>. Want to work in #Bangkok? View our latest opening: <URL>. <CHECK_IN>. <CHECK_IN>. Want to work at Standard Chartered Bank? We're #hiring in #Bangkok! Click for details: <URL>. This #job might be a great fit for you: Project Finance Controller - <URL>. This #job might be a great fit for you: Executive Assistant - <URL>. Want to work at Standard Chartered Bank? We're #hiring in #Bangkok! Click for details: <URL>. <CHECK_IN>. If you're looking for work in #Bangkok, check out this #job: <URL>. Very hot (@Market Day) <URL>. We're #hiring! Read about our latest #job opening here: FX &amp; Payment Staff - <URL>. Want to work in #Bangkok? View our latest opening: <URL>. Join the Standard Chartered Bank team! See our latest #job opening here: <URL>. This #job might be a great fit for you: Operation Support Staff - <URL>. See our latest #Bangkok #job and click to apply: Trade Local Product Manager - <URL>. <CHECK_IN>. Want to work in #Bangkok? View our latest opening: <URL>. We're #hiring! Read about our latest #job opening here: Officer, FMO Capital Markets Operation -… <URL>. Interested in a #job in #Bangkok? This could be a great fit: <URL>. Want to work in #Bangkok? View our latest opening: <URL>. Interested in a #job in #Bangkok? This could be a great fit: <URL>. Walking to the back of the house (@ canal tube temple goddess Ram) <URL>. Walk through (@ Rattanakosin Hotel in Pra Nakorn, Bangkok) <URL>. Street cart preparing Pad Thai  #Thailand… <URL>. The journey is very torturous. Sleep in the morning (@ split the cows in Phra Nakhon, Bangkok) <URL>. If you're looking for work in #Bangkok, check out this #job: <URL>.  @ Wat won the war ... <URL>. Nice to meet you (@ Bangkok City Library in Phra Nakhon, Bangkok) <URL>. Can you recommend anyone for this #job in #Bangkok? <URL>. Join the Standard Chartered Bank team! See our latest #job opening here: <URL>. Can you recommend anyone for this #job in #Bangkok? <URL>. <CHECK_IN>. Clean @ work at ease. <URL>. We're #hiring! Click to apply: Fund Services Staff - <URL>. Join the Standard Chartered Bank team! See our latest #job opening here: <URL>. Just posted a picture @ Fortress King @ Phra Arthit <URL>. See our latest #Bangkok #job and click to apply: Associate Director, CCG, Global Subsidiaries -… <URL>.  \n",
      "\n",
      "<CHECK_IN>. <CHECK_IN>. I can not wait to see i <MENTION>  can not wait to see it!. <CHECK_IN>. Lo 2 (@ Building 2 Bank of Thailand) <URL>. <CHECK_IN>. <CHECK_IN>. <CHECK_IN>. <CHECK_IN>. <CHECK_IN>. <CHECK_IN>. Lunch by the river (@ Steve Cafe &amp; Cuisine in Bangkok) <URL>. I have not run for a week. I was out running with 5.57 km with #Endomondo #endorphins <URL>. <CHECK_IN>. <CHECK_IN>. <CHECK_IN>. <CHECK_IN>. <CHECK_IN>. Friday ... tied dye ... <URL>. <CHECK_IN>. <CHECK_IN>. <CHECK_IN>. <CHECK_IN>.  \n",
      "\n",
      "<CHECK_IN>. <CHECK_IN>. <CHECK_IN>. @TryanPa <MENTION> TryanPaul. <CHECK_IN>. <CHECK_IN>. <CHECK_IN>. Guil (@Kamasiri Anusorn School in Bang Phlat, Bangkok) <URL>. <CHECK_IN>. <CHECK_IN>. <CHECK_IN>. <CHECK_IN>. <CHECK_IN>. <CHECK_IN>. <CHECK_IN>. <CHECK_IN>. <CHECK_IN>. <CHECK_IN>. <CHECK_IN>. <CHECK_IN>. <CHECK_IN>.  \n",
      "\n",
      " \n",
      "\n",
      "<CHECK_IN>. <CHECK_IN>. <CHECK_IN>. First Parent Meeting (@Suppiyam Kindergarten in Bangkholame, Bangkok) <URL>. <CHECK_IN>. <CHECK_IN>. 39th (@ Butcher Beef &amp; Beer in Bang Kho Laem, Bangkok w/ @ncoctail) <URL>. <CHECK_IN>.  \n",
      "\n",
      "<CHECK_IN>. <CHECK_IN>. Surprise # # bouquet for new born birthday I do not like the 0897811. <URL>.  \n",
      "\n",
      "Cant start the meeting without selfie with all members of the Indonesian delegation to the 20th Technical WG on Tra… <URL>. \"Tari Kipas\" welcoming Ministers and Senior Officials participating the 20th Meeting on Transboundary Haze Pollutio… <URL>. <CHECK_IN>. I'm at the corne <MENTION> 'm at the corner.. <CHECK_IN>. Hot Hot @ Sathorn (Taksin) in Bang Rak, Bangkok @ <URL>. <CHECK_IN>. <CHECK_IN>.  (@ The Oriental Thai Cooking School in Khlong San, Bangkok) <URL>. @ BTS Saphan Taksin - @bts_skytrain in Bang Rak, Bangkok w / @por_iiii) <URL>. Come again (@Jung Ju noodle in Khlong San, Bangkok) <URL>. <CHECK_IN>. <CHECK_IN>. I will have dinner (@ noodle noodles in Khlong San, Bangkok) <URL>. <CHECK_IN>. I like to eat a lot (@ fried pork is very delicious. <URL>. <CHECK_IN>. <CHECK_IN>. We keep this love in photograph (@ King Taksin Bridge in Bang Rak, Bangkok) <URL>. All SET ! #extravaganza #mandarinoriental… <URL>. <CHECK_IN>. Sawadee Khap from Thailand  #herbalifetea… <URL>. Good morning Friday.. #TGIF #Breakfast… <URL>. Thank you customers ... <URL>.  \n",
      "\n",
      "<CHECK_IN>. <CHECK_IN>. The original and original (@ Tum & Tums in Bangkok, Bangkok) <URL>. <CHECK_IN>. <CHECK_IN>. We do not back down (@ Khlong San Plaza in Khlong San, Bangkok) <URL>.  (@ Holy Rosary Church in Samphanthawong, Bangkok) <URL>. <CHECK_IN>. <CHECK_IN>. This is the sound of my holding my breath. … No, just listen for it. <URL>. *sigh* <URL>. <CHECK_IN>. I'm tired of being lazy. 5555 (@ Taksin Hospital in Bangkok, Bangkok) <URL>. <CHECK_IN>. It's good to be here. <URL>.  \n",
      "\n",
      "<CHECK_IN>. <CHECK_IN>. <CHECK_IN>. <CHECK_IN>. <CHECK_IN>. <CHECK_IN>. <CHECK_IN>. <CHECK_IN>. <CHECK_IN>. <CHECK_IN>. <CHECK_IN>. <CHECK_IN>. <CHECK_IN>. <CHECK_IN>. Near Wat Lung Na Yi (Yaowarat in Samphanthawong, Bangkok) <URL>. I'm new here (@Yellow Shopping Center in Bangkok, Thailand) <URL>. <CHECK_IN>. <CHECK_IN>. I'm sorry for the dela <MENTION> 'm sorry for the delay.. <CHECK_IN>. <CHECK_IN>. <CHECK_IN>. <CHECK_IN>. <CHECK_IN>. I'm not sure if this is the right place for yo <MENTION> 'm not sure if this is the right place for you.. But I eat rice (@ Duck Noodle in Samphanthawong, Bangkok) <URL>. <CHECK_IN>. <CHECK_IN>. <CHECK_IN>. <CHECK_IN>. <CHECK_IN>. <CHECK_IN>. <CHECK_IN>. ((((((Https https https https https https https https https https https https https https https https https https https https https https htt <MENTION> (((((Https https https https https https https https https https https https https https https https https https https https https https https. <CHECK_IN>. To stay at Lowe's (@Thongluang Gold Shop in Bangkok, Thailand) <URL>. <CHECK_IN>. <CHECK_IN>. <CHECK_IN>. <CHECK_IN>. <CHECK_IN>. <CHECK_IN>. <CHECK_IN>. เยาวราช (@ White dragon Noodle in Samphanthawong, Bangkok) <URL>.  (@ Sweettime in Samphanthawong, Bangkok) <URL>. <CHECK_IN>. <CHECK_IN>. <CHECK_IN>. ก๋วยจั๊บ everyday (@ Ouan Pochana in Samphanthawong, Bangkok) <URL>. At @lebuahotels [pic] — <URL>. <CHECK_IN>. <CHECK_IN>. <CHECK_IN>. I have not been to Chiang Mai before the year 1 will be up in the hill (Chinatown in Samphanthawong, Bangkok) ... <URL>. Cockle 11 ka./100.- It's good (@Jin Jin, TX in Samphanthawong, Bangkok) <URL>. The atmosphere is like a child's father brought to eat. Tastes sweet I like hot peppers (@ Nay Lek Uan in Sam ... <URL>. The milk of milk. Coconut Milk Pudding (@ Sweet Time in Samphanthawong, Bangkok) <URL>. What are you going to eat at the end of the season? (@Thai Biscuits in Samphanthawong, ... <URL>. ก๋วยจั๊บ everyday (@ Chinatown in Samphanthawong, Bangkok) <URL>. <CHECK_IN>. More than 5 minutes to rain (@ Thian Fah Foundation in Samphanthawong, Bangkok) <URL>. <CHECK_IN>. <CHECK_IN>. <CHECK_IN>. <CHECK_IN>. If you come to another day without a roundabout (@Park Prap Sattru Phai, Bangkok) <URL>. <CHECK_IN>. <CHECK_IN>. Thank you for staying. Come on in! Pop Art ... <URL>. First day is temple tour day. Too hot and tiring… <URL>. When you love someone Your heartbeat beats so… <URL>. It's a long way to go (the temple of Kamala. (Pom Prap Sattru Phai, Bangkok) <URL>. <CHECK_IN>. I'm not sure if this is the cas <MENTION> 'm not sure if this is the case.. • Waiting For Something ... <URL>.  \n",
      "\n",
      "<CHECK_IN>. <CHECK_IN>. GMS World User has just posted new screenshot to #GMSWorld. Check it out at <URL>. La Salle (Laem Chabang, Bangkok, Thailand) <URL>. <CHECK_IN>. <CHECK_IN>. <CHECK_IN>. The famous Crab Omelet from jayfaibangkok  [ 1… <URL>.  \n",
      "\n",
      "I love yo <MENTION>  love you!. <CHECK_IN>. <CHECK_IN>. <CHECK_IN>. <CHECK_IN>. (Thai Airways International in Wat Sommanat, Bangkok) <URL>.  \n",
      "\n",
      "<CHECK_IN>. <CHECK_IN>. <CHECK_IN>. <CHECK_IN>. <CHECK_IN>. Sing at the press conference music video contest ... <URL>. What is the differenc <MENTION> hat is the difference?. <CHECK_IN>. <CHECK_IN>.  \n",
      "\n",
      "Tired (@Sunsan Health and Sports Center Building in Dusit, Bangkok) <URL>. <CHECK_IN>. <CHECK_IN>. I do not recommend the evening (@ Suan Sunandha Rajabhat University in Dusit, Bangkok) <URL>. <CHECK_IN>. Able to work in a team environment. <URL>.  \n",
      "\n",
      "I was out running 0.30 km with #Endomondo #endorphins <URL>.  \n",
      "\n",
      "I was out cycling 6.30 km with #Endomondo #endorphins <URL>. Eat (@moon pork dipped in sea pork jade jade seafood seafood) <URL>. The only two dead do not die? (@ 3 Days 2 Nights) <URL>. Selling @ vinyl label design business card is very cheap <URL>. Wow ... year after year ... <URL>.  \n",
      "\n",
      "<CHECK_IN>. <CHECK_IN>. <CHECK_IN>. <CHECK_IN>. This #job might be a great fit for you: Brand Manager - <URL>.  \n",
      "\n",
      "Walk through (@Sam Market Market (Wat Phra Kaew Market) in Bang Rak, Bangkok) <URL>. <CHECK_IN>. Happy Day (@Wattana Market) in Bang Rak, Bangkok <URL>. Please do not hesitate to contact us at (@ Chartered Square Building in Bang Rak, Bangkok) <URL>. <CHECK_IN>. <CHECK_IN>. <CHECK_IN>. <CHECK_IN>. First day opening (@ OCKEN in Bangkok w/ @iambellissimo) <URL>. <CHECK_IN>. <CHECK_IN>. @ Wat Phra Sri Maha Uma Devi (Wat Phra Kaew) in Bang Rak, Bangkok) <URL>. Immaculate Heart and Body of Christ Big ceremony (@ St. Louis Temple in Sathon, Bangkok) <URL>. <CHECK_IN>. <CHECK_IN>. <CHECK_IN>. Birthday dinner! (@ Saravanaa Bhavan in Bangkok w/ @curtis91324) <URL>. <CHECK_IN>. <CHECK_IN>. <CHECK_IN>. <CHECK_IN>. A little bit of parking. I'm not kidding at the moment (@ Wat Khaek Market in Bang Rak, Bangkok) <URL>. Fat and cold, dull and col <MENTION> at and cold, dull and cold.. <CHECK_IN>. <CHECK_IN>. <CHECK_IN>. <CHECK_IN>. Hungry (@Sam Market Market) in Bang Rak, Bangkok <URL>. <CHECK_IN>. <CHECK_IN>. I found gold! So delicious (@ Ama Bakery in Bang Rak, Bangkok w/ @curtis91324) <URL>. <CHECK_IN>. <CHECK_IN>. <CHECK_IN>. Standard Certification System ... <URL>. Ah Cashew nuts - how I love thee!  .… <URL>. Silde Lunge. If your legs are tight and hip ... <URL>. Horottexts, mineral water from England £ 55 per bottle ... <URL>. Coffee blosson - Honey Iced Tea, White Iced… <URL>. I'm still waiting for my brother Jan @ 555555555 (@ Bangkok Christian College - @bcclive in Bang Rak, Bangkok) <URL>. WCE Bangkok @ Silom Building @ Silom <URL>.  \n",
      "\n",
      "<CHECK_IN>. end of busy season party (@ Bangkok Marriott Hotel The Surawongse in Bangkok) <URL>. <CHECK_IN>. The wheel lock in the non-white. And do not have a stop sign for parking. (Bang Rak Police Station in Bang Rak, Ba ... <URL>. <CHECK_IN>.  Thailand  Capital: Bangkok  Region: East Asia &amp; Pacific  Credit: <URL>. Chillin out (@ Warehouse 30 in Bang Rak, Bangkok) <URL>. Meeting friend (@ A Coffee Roaster by li-bra-ry in Bang Rak, Bangkok) <URL>. <CHECK_IN>. Reading time (@ Neilson Hays Library in Bang Rak, Bangkok) <URL>. <CHECK_IN>.  <MENTION>  Hello! I’m traveling overseas and I’ve received prompts to update the phone number on my iCloud; I pr… <URL>. @AppleSupport Worse, I can’t successfully *remove* any old phone numbers, like the one I used in the last country i… <URL>. @AppleSupport Please advis <MENTION> rt Please advise.. I love discussing the make and model of my first car, how about you? <URL>. <CHECK_IN>. Oh heck yes <URL>.  <MENTION>  zermg ermegerd. I feel like this shirt begs for a mens XS in, like, something fluorescent. (by day I other… <URL>. “A crosswalk is up ahead, so let’s celebrate the art of Keith Haring” <URL>.  (@ Duck noodle with lamb meat measurement in Bang Rak, Bangkok) <URL>. Already! <URL>. Link Club D12  (@ Jewellery Center Building in Bang Rak, Bangkok) <URL>. <CHECK_IN>. (Wat Phra Mahathat Woramahawihan School in Bang Rak, Bangkok) <URL>. France, I'll be in you June  <MENTION> 7.… <URL>. Straight off the plane and already blown away… <URL>. Just posted a photo @ Warehouse 30 <URL>. <CHECK_IN>.  \n",
      "\n",
      "อู๊ดๆๆๆ (@ Today Steak in Pathum Wan, Bangkok) <URL>. <CHECK_IN>. <CHECK_IN>. Wait 49 (@ Hua Lamphong Pier) <URL>. <CHECK_IN>. <CHECK_IN>. Back to the way (@ crazy ah) <URL>. <CHECK_IN>. <CHECK_IN>. <CHECK_IN>. 1060 (@ Corball w/ @ncoctail) <URL>. <CHECK_IN>. This game is a mustache (@ More Than a Game caf in Pathum Wan, Bangkok) <URL>. <CHECK_IN>. <CHECK_IN>. <CHECK_IN>. <CHECK_IN>. <CHECK_IN>. First day out (@ Pathum Wan office in Pathum Wan, Bangkok w / @kjantarakul) <URL>. <CHECK_IN>. <CHECK_IN>. <CHECK_IN>. Power after the handshake (@ Rice porridge in Pathum Wan, Bangkok) <URL>. <CHECK_IN>. <CHECK_IN>. <CHECK_IN>. <CHECK_IN>. <CHECK_IN>. <CHECK_IN>. ผ่าน (@ Bangkok Railway Station in Pathum Wan, Bangkok) <URL>. Get up early in the morning to go to Korat # <URL>. <CHECK_IN>. <CHECK_IN>. <CHECK_IN>. <CHECK_IN>. <CHECK_IN>. <CHECK_IN>. <CHECK_IN>. <CHECK_IN>. <CHECK_IN>. <CHECK_IN>. <CHECK_IN>.  \n",
      "\n",
      "<CHECK_IN>. Life is like a nurse. But now I have to go to the hospital. <URL>. <CHECK_IN>. <CHECK_IN>. <CHECK_IN>. <CHECK_IN>. <CHECK_IN>. <CHECK_IN>. <CHECK_IN>. It's a good day to understand the boss! Have a good ... <URL>. Hello # find out many days ago ... <URL>.  \n",
      "\n",
      "<CHECK_IN>. <CHECK_IN>. <CHECK_IN>. <CHECK_IN>. Tired of parking lots (@ Nim Seng Transport 1988 in Dusit, Bangkok) <URL>.  \n",
      "\n",
      "<CHECK_IN>. Order of Flowers (@Visit Farm in Dusit, Bangkok) <URL>. Before closing (@ Dusit Zoo in Bangkok, <URL>. <CHECK_IN>. <CHECK_IN>. <CHECK_IN>.  \n",
      "\n",
      "DJ.Job - # 955VirginHitZ I love music and say <URL>. DJ - - # 955VirginHitZ Feeling and listening to <URL>. <CHECK_IN>.  DJ - - # 955VirginHitZ Feel free to listen and tell me Feeling <URL>. DJ Orange - # 955VirginHitZ I love the song and tell Feeling <URL>. Thank you DJ - - # 955VirginHitZ I love music and say Feeling <URL>. <CHECK_IN>. Orange Sage - # 955VirginHitZ And listen to the song Feeling <URL>. Thank You DJ - # 955VirginHitZ I love listening and telling Feeling <URL>. DJ - # 955VirginHitZ And listen to the song Feeling <URL>. Oh my goodness boy - # 955VirginHitZ Feel free to listen and tell Feeling <URL>.  \n",
      "\n",
      "<CHECK_IN>.  \n",
      "\n",
      "<CHECK_IN>.  \n",
      "\n",
      "The last day of my life (@Apartment of Aunt in Sathon, Bangkok) <URL>. <CHECK_IN>. Do not come back to check in (@Santi Lounges 3 (Sathorn 11) in Sathon, Bangkok) <URL>. <CHECK_IN>. <CHECK_IN>. <CHECK_IN>. <CHECK_IN>. Good is Chinese (@ Chilli Mala in Sathorn, Bangkok) <URL>.  \n",
      "\n",
      "<CHECK_IN>. <CHECK_IN>. <CHECK_IN>. (Laugh at Yak Sothon (opposite the cemetery) in Bang Rak, Bangkok) <URL>. I just finished running 5.64 km in 40m:25s with #Endomondo #endorphins <URL>. Intern life is now (@ Sathorn Square in Bang Rak, Bangkok) <URL>. <CHECK_IN>. 2 days ago Today, I have to line up under the line. I do not think so. I have to draw a line. <URL>. <CHECK_IN>. <CHECK_IN>. <CHECK_IN>. <CHECK_IN>. <CHECK_IN>. <CHECK_IN>. <CHECK_IN>. Happpryyyyyyy (@ (Not Just) Another Cup in Bangrak, Bangkok) <URL>. my eyes (@ Saint Louis Hospital in Sathon, Bangkok w/ @ncoctail) <URL>. <CHECK_IN>. <CHECK_IN>. Well you good (@ (Not Just Another Cup in Bangrak, Bangkok) <URL>. <CHECK_IN>. There are about 3 tables and 2 sofas left awkward alone. (@Dean Good For You in Silom, Bangkok) <URL>. <CHECK_IN>. <CHECK_IN>. <CHECK_IN>. I just finished running 5.74 km in 27m:38s with #Endomondo #endorphins <URL>. I just finished running 12.04 km in 1h:14m:22s with #Endomondo #endorphins <URL>. I just finished running 12.66 km in 1h:20m:27s with #Endomondo #endorphins <URL>. <CHECK_IN>. <CHECK_IN>. <CHECK_IN>. <CHECK_IN>. <CHECK_IN>. <CHECK_IN>. Back to reality (@ Coffeelism Cafe in Silom, Bangkok) <URL>. <CHECK_IN>. <CHECK_IN>. <CHECK_IN>. <CHECK_IN>. <CHECK_IN>. <CHECK_IN>. <CHECK_IN>. Central Food (@  <MENTION> 1) in Bang Rak, Bangkok <URL>. Come home (@ BBL) <URL>. meeting (@ Sathorn Nakorn Tower in Bang Rak, Thailand) <URL>. <CHECK_IN>. <CHECK_IN>. Come fast (@Songthong Thani in Bangrak) <URL>. <CHECK_IN>. <CHECK_IN>. <CHECK_IN>. <CHECK_IN>. <CHECK_IN>. <CHECK_IN>. <CHECK_IN>. <CHECK_IN>. <CHECK_IN>. <CHECK_IN>. <CHECK_IN>. ; D; D; D; D; D; D; D; D; D; D Link to Post - Back to Top IP: Logg <MENTION>  D; D; D; D; D; D; D; D; D; D Link to Post - Back to Top IP: Logged. <CHECK_IN>. <CHECK_IN>. Every month (@ Bangrak Revenue Branch 3 in Bangkok) <URL>. <CHECK_IN>.  <MENTION>  has the formula hit.. <CHECK_IN>. 15 ฿ !! (@ Supawit School in Bangkok) <URL>. <CHECK_IN>. <CHECK_IN>. <CHECK_IN>.  <MENTION>  made a slim Thai watchdog version.  <MENTION>  does not work. I do not think s <MENTION>  do not think so.. @ <MENTION>  @scomma He's back to France with TV FRANCE.. Sitting Remains <URL>. Thanks for the inf <MENTION> r the info..  <MENTION>  If you are looking for a place to stay,. Bor <MENTION> ored. <CHECK_IN>. <CHECK_IN>. <CHECK_IN>. BANKING ON FOOD  When a banker turns to food,… <URL>. <CHECK_IN>. <CHECK_IN>. Colorful Morning #kevinonboard #whotels #Bangkok… <URL>. Working Day (@ Sathorn Thani 2 in Bangrak) <URL>. <CHECK_IN>. <CHECK_IN>. <CHECK_IN>. <CHECK_IN>. I just got in the afternoon (@ Saeng Thong Thani in Bangrak) <URL>.  \n",
      "\n",
      "<CHECK_IN>. <CHECK_IN>. Found a peaceful place for a #coffee in the heart of #Bangkok (@ Bunfe The Coffee Bar &amp; Bakery in Bangrak, Bangkok)… <URL>. <CHECK_IN>. Now Loading ..  Prepare for Master's Degree.  (@ Chulalongkorn Business School in Pathum Wan, Bangkok) <URL>. <CHECK_IN>. Needless to say (@Bangkok Convent School in Bang Rak, Bangkok) <URL>. D-9 (@ NSM Science Square in Pathum Wan, Bangkok) <URL>. <CHECK_IN>. <CHECK_IN>. New landmark created! Discover interesting places around: <URL>. Let's pass (@ Theb Dvaravati Theb Buiding in Pathumwan, Bangkok) <URL>. <CHECK_IN>. <CHECK_IN>. This time is very fun. I have to choose this time (@ Boots in Bang Rak, Bangkok) <URL>. <CHECK_IN>. Should I wake up lat <MENTION> hould I wake up late?. <CHECK_IN>. <CHECK_IN>. <CHECK_IN>. <CHECK_IN>. Who's that? (@HaHaShah) <URL>. @ Faculty of Economics - @econ_chula in Pathum Wan, Bangkok) <URL>. <CHECK_IN>. <CHECK_IN>. <CHECK_IN>. Starbucks asked, \"Why is Welsh now so tired? Is it hard work? \"(@ Starbucks (Starbucks) i ... <URL>. <CHECK_IN>. <CHECK_IN>. <CHECK_IN>. <CHECK_IN>. Salary to For <MENTION> alary to Forum. <CHECK_IN>. <CHECK_IN>. <CHECK_IN>. <CHECK_IN>. <CHECK_IN>. Swelt <MENTION> welter. <CHECK_IN>. <CHECK_IN>. Come and see me (@ Faculty of Science in Pathum Wan, Bangkok) <URL>. <CHECK_IN>. <CHECK_IN>. <CHECK_IN>. Plasma (@ National Blood Center in Pathum Wan, Bangkok) <URL>. Go to the shop. I have a friend who owns another restaurant (@ Uma Thailand in Suriya Wong, Bangkok) ... <URL>. <CHECK_IN>. <CHECK_IN>. <CHECK_IN>. <CHECK_IN>. <CHECK_IN>. I can not wait to go back to Bangko <MENTION>  can not wait to go back to Bangkok.. <CHECK_IN>. <CHECK_IN>. The sign when you descend the stairs from the #BTS to #Patong (@ BTS Sala Daeng - @bts_skytrain in Bang Rak, Bangko… <URL>. The familiar (@ Bangkok Christian Hospital - @bchhospital in Bang Rak, Bangkok) <URL>. <CHECK_IN>. <CHECK_IN>. <CHECK_IN>. <CHECK_IN>. <CHECK_IN>. <CHECK_IN>. <CHECK_IN>. To Wigan (@ Faculty of Economics - @econ_chula in Pathum Wan, Bangkok) <URL>. <CHECK_IN>. New business seat, THAI launches A330 this year B777-200 next year <URL>. <CHECK_IN>. <CHECK_IN>. <CHECK_IN>. I do not know. It's a good idea. Have you like friends (@ Talad Nam Seafood in Bang Rak, Bangkok) <URL>. Bangkok’s Blue Line subway stations at pristine, ticket purchase machines are brilliant, trains are silent.  I know… <URL>. <CHECK_IN>. health check up… <URL>. <CHECK_IN>. <CHECK_IN>. <CHECK_IN>. <CHECK_IN>. <CHECK_IN>. <CHECK_IN>.  Juggernaut ... <URL>. #Congratulations to Nong Poo poohxpilates for… <URL>.  \n",
      "\n",
      "<CHECK_IN>. <CHECK_IN>. <CHECK_IN>. <CHECK_IN>. <CHECK_IN>. <CHECK_IN>. <CHECK_IN>. <CHECK_IN>. <CHECK_IN>. <CHECK_IN>. <CHECK_IN>. <CHECK_IN>. <CHECK_IN>. <CHECK_IN>. <CHECK_IN>. <CHECK_IN>. <CHECK_IN>. Thank you lido // never forget (@ Lido in Pathum Wan, Bangkok) <URL>. Sitting in a bird's eye view is a pain in the head (@ Big Cafeteria in Pathum Wan, Bangkok) <URL>. <CHECK_IN>. <CHECK_IN>. <CHECK_IN>. <CHECK_IN>. If you shave your eyebrows, it is a nigga (@ Chamjuree Sri Pho in Pathum Wan, Bangkok) <URL>. <CHECK_IN>. <CHECK_IN>. <CHECK_IN>. <CHECK_IN>. <CHECK_IN>. <CHECK_IN>. <CHECK_IN>. <CHECK_IN>. <CHECK_IN>. <CHECK_IN>. <CHECK_IN>. <CHECK_IN>. <CHECK_IN>. <CHECK_IN>. <CHECK_IN>. <CHECK_IN>. Kids on the slope. Thanks mate. No one could ever replace you :-) (@ Lido in Pathum Wan, Bangkok) <URL>. <CHECK_IN>. <CHECK_IN>. <CHECK_IN>. <CHECK_IN>. <CHECK_IN>. <CHECK_IN>. <CHECK_IN>. <CHECK_IN>. <CHECK_IN>. <CHECK_IN>. <CHECK_IN>. To say goodbye (@ Lido in Pathum Wan, Bangkok) <URL>. <CHECK_IN>. <CHECK_IN>. <CHECK_IN>. <CHECK_IN>. <CHECK_IN>. <CHECK_IN>. <CHECK_IN>. Time to say Good Bye... (@ Lido in Pathum Wan, Bangkok) <URL>. <CHECK_IN>. <CHECK_IN>. <CHECK_IN>. <CHECK_IN>. I just finished running 0.36 km in 2m:11s with #Endomondo #endorphins <URL>. I just finished running 5.01 km in 24m:12s with #Endomondo #endorphins <URL>. <CHECK_IN>. <CHECK_IN>. <CHECK_IN>. I just finished running 1.27 km in 5m:54s with #Endomondo #endorphins <URL>. <CHECK_IN>. The Last Check-in of This Place. (@ Lido in Pathum Wan, Bangkok) <URL>. <CHECK_IN>. God's own country (@ Lido in Pathum Wan, Bangkok) <URL>. <CHECK_IN>. <CHECK_IN>. We will not forget each other, but we will not forget each other. \"Lido\" Bangkok May 31, 2561 # farewell #goodbyelido (@ Lido in Pathum W ... <URL>. Out of the movie theater and standing. Thank you. In the movie theater. Management came out thank you. We thank him too (@ Li ... <URL>. <CHECK_IN>. I do not find work, but .. (@ Siam Square - @siamsquareone in Pathum Wan, Bangkok) <URL>. <CHECK_IN>. <CHECK_IN>. <CHECK_IN>. <CHECK_IN>. <CHECK_IN>. <CHECK_IN>. <CHECK_IN>. <CHECK_IN>. <CHECK_IN>. <CHECK_IN>. <CHECK_IN>. <CHECK_IN>. <CHECK_IN>. <CHECK_IN>. Always be my fav (@ F.A.C.T Coffee in Pathum Wan, Bangkok) <URL>. Conditions of eating alone It's a must to have a good meal (@ Pepper Lunch in Pathum Wan, Bangkok) <URL>. <CHECK_IN>. <CHECK_IN>. <CHECK_IN>. <CHECK_IN>. <CHECK_IN>. <CHECK_IN>. <CHECK_IN>. <CHECK_IN>. <CHECK_IN>. Ex-crush bright lady look good change dress. I was very tight but it was pretty. I do not see how fast you can walk ... <URL>. <CHECK_IN>. <CHECK_IN>. ชื่อfashy (@ Starbucks Siam Square One Flagship in Pathum Wan, Bangkok) <URL>. <CHECK_IN>. <CHECK_IN>. <CHECK_IN>. <CHECK_IN>. <CHECK_IN>. <CHECK_IN>. If you are going to have one level every other day. No need to have a grandparents to stay alive (Siam Square in Pathum Wan, Bangkok) <URL>. <CHECK_IN>. <CHECK_IN>. <CHECK_IN>. Friday (@ MBK Center - @mbkcenter in Pathum Wan, Bangkok) <URL>. <CHECK_IN>. <CHECK_IN>. <CHECK_IN>. <CHECK_IN>. <CHECK_IN>. <CHECK_IN>. <CHECK_IN>. <CHECK_IN>. <CHECK_IN>. <CHECK_IN>. I just finished running 8.16 km in 48m:48s with #Endomondo #endorphins <URL>. <CHECK_IN>. (Siam Square One in Pathum Wan, Bangkok) <URL>. Thanks to p'Eddie for bringing the n'Took and n'Vis # Taniporn Clinic Runner to run 10 km until ... <URL>. <CHECK_IN>. <CHECK_IN>. Not enough (@ Pancake House in Pathum Wan, Bangkok) <URL>. <CHECK_IN>. <CHECK_IN>. <CHECK_IN>. <CHECK_IN>. <CHECK_IN>. <CHECK_IN>. Millions of people (@ Faculty of Arts in Pathum Wan, Bangkok) <URL>. Overflowing to Doi 9th floor (@ 9th floor, Maha Chakri Sirindhorn Building Arts Council Chulalongkorn University in Pathum ... <URL>. <CHECK_IN>. <CHECK_IN>. <CHECK_IN>. <CHECK_IN>. <CHECK_IN>. <CHECK_IN>. <CHECK_IN>. <CHECK_IN>. <CHECK_IN>. <CHECK_IN>. <CHECK_IN>. <CHECK_IN>. <CHECK_IN>. <CHECK_IN>. <CHECK_IN>. <CHECK_IN>. <CHECK_IN>. <CHECK_IN>. <CHECK_IN>. <CHECK_IN>. <CHECK_IN>. <CHECK_IN>. <CHECK_IN>. <CHECK_IN>. <CHECK_IN>. <CHECK_IN>. <CHECK_IN>. <CHECK_IN>. <CHECK_IN>. <CHECK_IN>. <CHECK_IN>. <CHECK_IN>. <CHECK_IN>. <CHECK_IN>. <CHECK_IN>. <CHECK_IN>. <CHECK_IN>. <CHECK_IN>. <CHECK_IN>. <CHECK_IN>. <CHECK_IN>. <CHECK_IN>. @ Siam Square One Post Office in Pathum Wan, Bangkok) <URL>. <CHECK_IN>. Cheese owl know it or leave it to the fan <MENTION> heese owl know it or leave it to the fans.. <CHECK_IN>. <CHECK_IN>. <CHECK_IN>. <CHECK_IN>. <CHECK_IN>. <CHECK_IN>. <CHECK_IN>. <CHECK_IN>. <CHECK_IN>. <CHECK_IN>. <CHECK_IN>. <CHECK_IN>. <CHECK_IN>. <CHECK_IN>. <CHECK_IN>. <CHECK_IN>. <CHECK_IN>.  (@ Eye Lab Exclusive in Pathum Wan, Bangkok) <URL>. <CHECK_IN>. <CHECK_IN>. <CHECK_IN>. <CHECK_IN>. <CHECK_IN>. <CHECK_IN>. <CHECK_IN>. <CHECK_IN>. <CHECK_IN>. <CHECK_IN>. <CHECK_IN>. <CHECK_IN>. <CHECK_IN>. <CHECK_IN>. Excitedly (@Kabang Siam Ganesh Theater in Pathum Wan, Bangkok) <URL>. <CHECK_IN>. @ Chic Club Hair Studio in Pathum Wan, Bangkok <URL>. <CHECK_IN>. <CHECK_IN>. <CHECK_IN>. Lightweight Money is not weight (@ Siam Square - @siamsquareone in Pathum Wan, Bangkok) <URL>. <CHECK_IN>. <CHECK_IN>. <CHECK_IN>. <CHECK_IN>. <CHECK_IN>. <CHECK_IN>.  (@ Starbucks Siam Square One Flagship in Pathum Wan, Bangkok) <URL>. <CHECK_IN>. <CHECK_IN>. <CHECK_IN>. <CHECK_IN>. <CHECK_IN>. <CHECK_IN>. <CHECK_IN>. Kids on the slope (@ Scala in Pathum Wan, Bangkok) <URL>. Kids on the Slope  (@ Scala in Pathum Wan, Bangkok) <URL>. <CHECK_IN>. <CHECK_IN>. <CHECK_IN>. <CHECK_IN>. <CHECK_IN>. <CHECK_IN>. <CHECK_IN>. <CHECK_IN>. <CHECK_IN>. <CHECK_IN>. <CHECK_IN>. <CHECK_IN>. <CHECK_IN>. <CHECK_IN>. <CHECK_IN>. <CHECK_IN>. <CHECK_IN>. <CHECK_IN>. See You Up There  (@ Scala in Pathum Wan, Bangkok) <URL>. <CHECK_IN>. <CHECK_IN>. <CHECK_IN>. <CHECK_IN>. <CHECK_IN>. <CHECK_IN>. <CHECK_IN>. <CHECK_IN>. <CHECK_IN>. <CHECK_IN>. <CHECK_IN>. <CHECK_IN>. long time on see.. (@ Yoogane in Pathum Wan, Bangkok) <URL>. <CHECK_IN>. <CHECK_IN>. <CHECK_IN>. <CHECK_IN>. <CHECK_IN>. I'll be back soon! (@ B Bar Plaza Q in Pathum Wan) <URL>. <CHECK_IN>. <CHECK_IN>. <CHECK_IN>. <CHECK_IN>. <CHECK_IN>. <CHECK_IN>. <CHECK_IN>. <CHECK_IN>. <CHECK_IN>. <CHECK_IN>. <CHECK_IN>. <CHECK_IN>. <CHECK_IN>. <CHECK_IN>. <CHECK_IN>. <CHECK_IN>. <CHECK_IN>. <CHECK_IN>. <CHECK_IN>. <CHECK_IN>. <CHECK_IN>. <CHECK_IN>. <CHECK_IN>. <CHECK_IN>. <CHECK_IN>. <CHECK_IN>. <CHECK_IN>. <CHECK_IN>. <CHECK_IN>. <CHECK_IN>. <CHECK_IN>. <CHECK_IN>. <CHECK_IN>. <CHECK_IN>. <CHECK_IN>. <CHECK_IN>. <CHECK_IN>. <CHECK_IN>. <CHECK_IN>. <CHECK_IN>. <CHECK_IN>. <CHECK_IN>. <CHECK_IN>. <CHECK_IN>. <CHECK_IN>. <CHECK_IN>. <CHECK_IN>. <CHECK_IN>. <CHECK_IN>. <CHECK_IN>. <CHECK_IN>. <CHECK_IN>. <CHECK_IN>.  (@ Faculty of Pharmaceutical Sciences in Pathum Wan, Bangkok) <URL>. รีบเกิ๊น  (@ Faculty of Pharmaceutical Sciences in Pathum Wan, Bangkok) <URL>. <CHECK_IN>. <CHECK_IN>. <CHECK_IN>. <CHECK_IN>. Seng (@ Faculty of Science) <URL>. <CHECK_IN>. <CHECK_IN>. Tsukuba to the age of Draco rice chicken per cent # cost of living (@ Kota Kota) in Pathum Wan, Bangkok ... <URL>. <CHECK_IN>. <CHECK_IN>. <CHECK_IN>. <CHECK_IN>. I have to do it. If you have this, use all the points in the month of 555555555 (ENG 03) in Pathum Wan, Bangko ... <URL>. <CHECK_IN>. <CHECK_IN>. <CHECK_IN>. <CHECK_IN>. <CHECK_IN>. <CHECK_IN>. Come on, take a nap. I like it so much! (At @MBKCenter in Pathum Wan, Bangkok) <URL>. <CHECK_IN>. <CHECK_IN>. <CHECK_IN>. <CHECK_IN>. <CHECK_IN>. <CHECK_IN>. <CHECK_IN>. <CHECK_IN>. <CHECK_IN>. <CHECK_IN>. <CHECK_IN>. <CHECK_IN>. <CHECK_IN>. <CHECK_IN>. <CHECK_IN>. <CHECK_IN>. <CHECK_IN>. <CHECK_IN>. <CHECK_IN>. <CHECK_IN>. <CHECK_IN>. I just finished running 8.02 km in 45m:17s with #Endomondo #endorphins <URL>. <CHECK_IN>. <CHECK_IN>. Up to 36 only. I lost my lost (@ bus stop in front of Sathorn in Bangkok) <URL>. <CHECK_IN>. <CHECK_IN>. <CHECK_IN>. <CHECK_IN>. <CHECK_IN>. <CHECK_IN>. <CHECK_IN>. <CHECK_IN>. <CHECK_IN>. <CHECK_IN>. <CHECK_IN>. Golden dome (n.) = Yellow tent But it's hotter than ever (@The Golden Dome in Pathum Wan, Bangkok) <URL>. (@Chulalongkorn University - @chulalongkornu in Pathum Wan, Bangkok) <URL>. <CHECK_IN>. <CHECK_IN>. <CHECK_IN>. <CHECK_IN>. <CHECK_IN>. <CHECK_IN>. <CHECK_IN>. <CHECK_IN>.  <MENTION>  @real_sry look with. <CHECK_IN>. <CHECK_IN>. <CHECK_IN>. <CHECK_IN>. <CHECK_IN>. <CHECK_IN>. <CHECK_IN>. <CHECK_IN>. <CHECK_IN>. <CHECK_IN>. <CHECK_IN>. <CHECK_IN>. <CHECK_IN>. <CHECK_IN>. <CHECK_IN>. <CHECK_IN>. <CHECK_IN>. <CHECK_IN>. <CHECK_IN>. <CHECK_IN>. <CHECK_IN>. <CHECK_IN>. <CHECK_IN>. <CHECK_IN>. <CHECK_IN>. <CHECK_IN>. <CHECK_IN>. <CHECK_IN>. <CHECK_IN>. <CHECK_IN>. <CHECK_IN>. Byee esom (@ White Flower Factory in Pathum Wan, Bangkok) <URL>. <CHECK_IN>. <CHECK_IN>. <CHECK_IN>. <CHECK_IN>. <CHECK_IN>. <CHECK_IN>. <CHECK_IN>. <CHECK_IN>. I just finished running 8.26 km in 51m:45s with #Endomondo #endorphins <URL>. <CHECK_IN>. <CHECK_IN>. <CHECK_IN>. AMIC's newest faculty member!  <URL>. <CHECK_IN>. <CHECK_IN>. <CHECK_IN>. <CHECK_IN>. <CHECK_IN>. <CHECK_IN>. <CHECK_IN>. <CHECK_IN>. <CHECK_IN>. <CHECK_IN>. <CHECK_IN>. <CHECK_IN>. <CHECK_IN>. <CHECK_IN>. <CHECK_IN>. <CHECK_IN>. <CHECK_IN>. <CHECK_IN>. <CHECK_IN>. <CHECK_IN>. <CHECK_IN>. <CHECK_IN>. <CHECK_IN>. <CHECK_IN>. <CHECK_IN>. <CHECK_IN>. <CHECK_IN>. <CHECK_IN>. <CHECK_IN>. <CHECK_IN>. <CHECK_IN>. <CHECK_IN>. <CHECK_IN>. <CHECK_IN>. <CHECK_IN>. <CHECK_IN>. <CHECK_IN>. <CHECK_IN>. <CHECK_IN>. <CHECK_IN>. <CHECK_IN>. <CHECK_IN>. <CHECK_IN>. <CHECK_IN>. <CHECK_IN>. <CHECK_IN>. @ BoNT CARE Clinic Botox Center in Pathum Wan <URL>. <CHECK_IN>. <CHECK_IN>. <CHECK_IN>. <CHECK_IN>. <CHECK_IN>. <CHECK_IN>. <CHECK_IN>. We don't understand... (@ BTS Siam - @bts_skytrain in Pathum Wan, Bangkok) <URL>. <CHECK_IN>. <CHECK_IN>. <CHECK_IN>. <CHECK_IN>. <CHECK_IN>. <CHECK_IN>. <CHECK_IN>. <CHECK_IN>. <CHECK_IN>. <CHECK_IN>. <CHECK_IN>. <CHECK_IN>. <CHECK_IN>. (@ Faculty of Engineering - @intaniachula in Pathum Wan, Bangkok) <URL>. <CHECK_IN>. <CHECK_IN>. <CHECK_IN>. <CHECK_IN>. <CHECK_IN>. <CHECK_IN>. <CHECK_IN>. <CHECK_IN>. <CHECK_IN>. <CHECK_IN>. แฮ่ (@ EVEANDBOY The Underground in Pathum Wan, Bangkok) <URL>. <CHECK_IN>. <CHECK_IN>. <CHECK_IN>. <CHECK_IN>. I'm a Korean fanboy. Tew's Barber Shop in Bangkok: <URL>. <CHECK_IN>. <CHECK_IN>. <CHECK_IN>. <CHECK_IN>. <CHECK_IN>. <CHECK_IN>. I just finished running 7.01 km in 33m:09s with #Endomondo #endorphins <URL>.  (@ Starbucks Siam Square One Flagship in Pathum Wan, Bangkok) <URL>. @John_JoRTR <MENTION> John_JoRTRL9. Just posted a photo… <URL>. This is a 555 (@ building 1,000,000 years of physics (Physics 1)) <URL>. <CHECK_IN>. <CHECK_IN>. <CHECK_IN>. Arriving more than an hour earlier, so I have to… <URL>. Havin breakfast  yummy every morn eat tml is my… <URL>. I do not know what to do. <URL>. This is now being lost (@Chulalongkorn University - @chulalongkornu in Pathum Wan, Bangkok) <URL>. <CHECK_IN>. <CHECK_IN>. <CHECK_IN>. <CHECK_IN>. <CHECK_IN>. The sun is out !!! @ ... <URL>. <CHECK_IN>. Make friends with your savings (@ Siam Commercial Bank (SCB) in Pathum Wan, Bangkok) <URL>. <CHECK_IN>. Quiet scene 11:24PM @ Siam BTS Station <URL>. <CHECK_IN>. <CHECK_IN>. What a great day! I got a croissant and an iced… <URL>. <CHECK_IN>. Healthy lunch with girls  #richieeatit @ สวนผัก… <URL>. <CHECK_IN>. <CHECK_IN>.  @ Park @ Siam… <URL>. <CHECK_IN>. <CHECK_IN>. <CHECK_IN>. <CHECK_IN>. <CHECK_IN>. <CHECK_IN>. @ <MENTION>  definition in business offline I do not know what to do.. <CHECK_IN>. <CHECK_IN>. <CHECK_IN>. <CHECK_IN>. I'm not sure what to sa <MENTION> 'm not sure what to say.. <CHECK_IN>. <CHECK_IN>. The PhD Dissertation... #JustaPhD @ Chemical… <URL>. <CHECK_IN>. <CHECK_IN>. Bangkok is not hot. <URL>. Organic zone roast puff made from ... <URL>. Organic zone roast puff made from ... <URL>.  \n",
      "\n",
      "<CHECK_IN>. <CHECK_IN>. <CHECK_IN>. <CHECK_IN>. <CHECK_IN>. <CHECK_IN>. <CHECK_IN>. <CHECK_IN>. <CHECK_IN>. <CHECK_IN>. <CHECK_IN>. rainy day again and again (@ Phaya Thai Road in Ratchathewi, Bangkok) <URL>. <CHECK_IN>. <CHECK_IN>. <CHECK_IN>. <CHECK_IN>. <CHECK_IN>. <CHECK_IN>. Very heavy rain (@Jupiter Innovations (Thailand)) <URL>. <CHECK_IN>. <CHECK_IN>. <CHECK_IN>. <CHECK_IN>. <CHECK_IN>. <CHECK_IN>. <CHECK_IN>. <CHECK_IN>. <CHECK_IN>. <CHECK_IN>. <CHECK_IN>. <CHECK_IN>. <CHECK_IN>. <CHECK_IN>. <CHECK_IN>. <CHECK_IN>. <CHECK_IN>. <CHECK_IN>. <CHECK_IN>. <CHECK_IN>. Love friday (@ Thailand Convention and Exhibition Bureau - @tceb_online in Pathum Wan, Bangkok) <URL>. Hungry (@ Noodle Soup I'm not sur <MENTION> ungry (@ Noodle Soup I'm not sure.. <CHECK_IN>. Make a Payment (@ Virgin Active Siam Discovery in Pathum Wan, Bangkok) <URL>. <CHECK_IN>. <CHECK_IN>. <CHECK_IN>. <CHECK_IN>. <CHECK_IN>. <CHECK_IN>. <CHECK_IN>. <CHECK_IN>. <CHECK_IN>. The main target day (@Thailand Express Service Center in Pathum Wan, Bangkok) <URL>. <CHECK_IN>. <CHECK_IN>. <CHECK_IN>. <CHECK_IN>. <CHECK_IN>. <CHECK_IN>. <CHECK_IN>. <CHECK_IN>. <CHECK_IN>. I'm very happy to see you again # from Songkhla. #SingtoPrachaya @stjinx_maya <URL>. <CHECK_IN>. <CHECK_IN>. .@mokzvip @solik_ @eva_2s (@ Bangkok Art and Culture Centre (BACC) - @baccnews in Pathum Wan, Bangkok) <URL>. <CHECK_IN>. ฮ่ายยยยยย (@ Jupiter Innovations (Thailand)) <URL>. <CHECK_IN>. I love this plac <MENTION>  love this place!. <CHECK_IN>. <CHECK_IN>. <CHECK_IN>. <CHECK_IN>. <CHECK_IN>. I do not eat meat, but I eat delicious. (Nuer Koo in Pathum Wan, Bangkok) <URL>. <CHECK_IN>. Bangkok Art and Culture Center (BACC) in Pathum Wan, Bangkok) <URL>. <CHECK_IN>. <CHECK_IN>. <CHECK_IN>. <CHECK_IN>. <CHECK_IN>. <CHECK_IN>. The book is in. (@ Kasikorn Bank - @kbank_live in Pathum Wan, Bangkok) <URL>. <CHECK_IN>. I ordered 18 pieces to eat with my brother 2 days ago, it was from the third piece dumbfounded (@ Bonchon chickens - @bonchonthailand in Pa ... <URL>. Tears flowing all the time Eyeliner is gone (@Working in Pathum Wan, Bangkok) <URL>. <CHECK_IN>. <CHECK_IN>. <CHECK_IN>. <CHECK_IN>. <CHECK_IN>. <CHECK_IN>. <CHECK_IN>. <CHECK_IN>. <CHECK_IN>. <CHECK_IN>. Would you like some sugar? Here’s a spoonful (@ BRIX Dessert Bar in Pathum Wan, Bangkok) <URL>. <CHECK_IN>. <CHECK_IN>.  (@ Platinum Club - @the_mall_group in Pathum Wan, Bangkok) <URL>. <CHECK_IN>. <CHECK_IN>. <CHECK_IN>. <CHECK_IN>. <CHECK_IN>. <CHECK_IN>. <CHECK_IN>. <CHECK_IN>. <CHECK_IN>. <CHECK_IN>. <CHECK_IN>. <CHECK_IN>. <CHECK_IN>. Caravaggio (@ Bangkok Art and Culture Centre (BACC) - @baccnews in Pathum Wan, Bangkok) <URL>. @ Bangkok Art and Culture Center - @baccnews in Pathum Wan, Bangkok w / @pimkr_ @aumjidapap @_nnile) <URL>. <CHECK_IN>. <CHECK_IN>. <CHECK_IN>. <CHECK_IN>. <CHECK_IN>. <CHECK_IN>. <CHECK_IN>. <CHECK_IN>. <CHECK_IN>. <CHECK_IN>. All clothes are made for the skinny man. Well, I can not buy it. (@ Zaap on sale in Pathum Wan, Bangkok) <URL>. <CHECK_IN>. Seeing the cutest in Bangkok (@ Asia Hotel in Ratchathewi, Bangkok) <URL>. <CHECK_IN>. <CHECK_IN>. <CHECK_IN>. <CHECK_IN>. <CHECK_IN>. <CHECK_IN>. <CHECK_IN>. <CHECK_IN>. <CHECK_IN>. <CHECK_IN>. <CHECK_IN>. <CHECK_IN>. <CHECK_IN>. <CHECK_IN>. <CHECK_IN>. <CHECK_IN>. <CHECK_IN>. <CHECK_IN>. <CHECK_IN>. <CHECK_IN>. <CHECK_IN>. <CHECK_IN>. Shake i <MENTION> hake it.. <CHECK_IN>. <CHECK_IN>. <CHECK_IN>. วู้ววววว (@ Chilling House Caf in Ratchathewi, Bangkok w/ @chain_plus) <URL>. <CHECK_IN>. <CHECK_IN>. <CHECK_IN>. <CHECK_IN>. <CHECK_IN>. <CHECK_IN>. <CHECK_IN>. <CHECK_IN>. At 112 at 03.42 am # playing with the heart always #cheerscockta <MENTION> t 112 at 03.42 am # playing with the heart always #cheerscocktail. <CHECK_IN>. <CHECK_IN>. <CHECK_IN>. <CHECK_IN>. <CHECK_IN>. <CHECK_IN>. <CHECK_IN>. <CHECK_IN>. <CHECK_IN>. <CHECK_IN>. <CHECK_IN>. <CHECK_IN>. <CHECK_IN>. <CHECK_IN>. <CHECK_IN>. <CHECK_IN>. <CHECK_IN>. <CHECK_IN>. <CHECK_IN>. <CHECK_IN>. <CHECK_IN>. <CHECK_IN>. <CHECK_IN>. Food loft~ (@ My Kitchen in Pathum Wan, Bangkok) <URL>. <CHECK_IN>. <CHECK_IN>. <CHECK_IN>. <CHECK_IN>. Sunday be like (@ Zaap on sale in Pathum Wan, Bangkok) <URL>. <CHECK_IN>. <CHECK_IN>. <CHECK_IN>. <CHECK_IN>. <CHECK_IN>. <CHECK_IN>. <CHECK_IN>. <CHECK_IN>. <CHECK_IN>. <CHECK_IN>. <CHECK_IN>. <CHECK_IN>. <CHECK_IN>. <CHECK_IN>. <CHECK_IN>. <CHECK_IN>. <CHECK_IN>. <CHECK_IN>. <CHECK_IN>. <CHECK_IN>. <CHECK_IN>. <CHECK_IN>. <CHECK_IN>. The gang is offline (@ The Pizza Company in Pathum Wan, Bangkok) <URL>. <CHECK_IN>. <CHECK_IN>. <CHECK_IN>. <CHECK_IN>. <CHECK_IN>. <CHECK_IN>. <CHECK_IN>. <CHECK_IN>. <CHECK_IN>. <CHECK_IN>. <CHECK_IN>. <CHECK_IN>. <CHECK_IN>. <CHECK_IN>. <CHECK_IN>. <CHECK_IN>. Ice Cream!!! (@ Swensen's in Pathum Wan, Bangkok w/ @curtis91324) <URL>. <CHECK_IN>. <CHECK_IN>. <CHECK_IN>. <CHECK_IN>. <CHECK_IN>. <CHECK_IN>. <CHECK_IN>. <CHECK_IN>. <CHECK_IN>. <CHECK_IN>. <CHECK_IN>. <CHECK_IN>. <CHECK_IN>. Three Wheel Drive (@ Siam Center in Pathum Wan, Bangkok) <URL>. <CHECK_IN>. <CHECK_IN>. <CHECK_IN>. <CHECK_IN>. <CHECK_IN>. <CHECK_IN>. <CHECK_IN>. <CHECK_IN>. <CHECK_IN>. <CHECK_IN>. <CHECK_IN>. สายแบบ.. (@ Virgin Active Siam Discovery in Pathum Wan, Bangkok) <URL>. <CHECK_IN>. <CHECK_IN>. <CHECK_IN>. <CHECK_IN>. <CHECK_IN>. <CHECK_IN>. <CHECK_IN>. <CHECK_IN>. Mission Day 1 (@ Jupiter Innovations (Thailand)) <URL>. <CHECK_IN>. <CHECK_IN>. <CHECK_IN>. <CHECK_IN>. <CHECK_IN>. <CHECK_IN>. <CHECK_IN>. <CHECK_IN>. <CHECK_IN>. <CHECK_IN>. <CHECK_IN>. <CHECK_IN>. <CHECK_IN>. <CHECK_IN>. <CHECK_IN>. <CHECK_IN>. Fieldwork day (@ Bangkok Art and Culture Centre (BACC) - @baccnews in Pathum Wan, Bangkok) <URL>. <CHECK_IN>. <CHECK_IN>. <CHECK_IN>. Mission Day 2 (@ Jupiter Innovations (Thailand)) <URL>. <CHECK_IN>. <CHECK_IN>. <CHECK_IN>. <CHECK_IN>. <CHECK_IN>. <CHECK_IN>. <CHECK_IN>. <CHECK_IN>. <CHECK_IN>. <CHECK_IN>. <CHECK_IN>. <CHECK_IN>. <CHECK_IN>. <CHECK_IN>. <CHECK_IN>. At first I did not get anything. But the restaurant is playing but sad song is what kept it will not be able to sing (@ Skate Caf ... <URL>. <CHECK_IN>. The pre-event dinner at #HID18 / @shashwatpradhan @kellyliruizhe @mr_gadget @missgetabout  @FacingChina Mr Pop and… <URL>. <CHECK_IN>. <CHECK_IN>. <CHECK_IN>. <CHECK_IN>. <CHECK_IN>. Appreciate art ปะคะ? (@ Bangkok Art and Culture Centre (BACC) - @baccnews in Pathum Wan, Bangkok) <URL>. <CHECK_IN>. <CHECK_IN>. <CHECK_IN>. <CHECK_IN>. <CHECK_IN>. <CHECK_IN>. <CHECK_IN>. <CHECK_IN>. Mission Day 3 (@ Jupiter Innovations (Thailand)) <URL>. <CHECK_IN>. <CHECK_IN>. <CHECK_IN>. <CHECK_IN>. <CHECK_IN>. <CHECK_IN>. <CHECK_IN>. <CHECK_IN>. <CHECK_IN>. <CHECK_IN>. <CHECK_IN>. <CHECK_IN>. Thursday @ Thailand Convention and Exhibition Bureau - @tceb_online in Pathum Wan, Bangkok <URL>. <CHECK_IN>. <CHECK_IN>.  (@ The Rabbit Hub in Ratchathewi, Bangkok) <URL>. <CHECK_IN>. <CHECK_IN>. <CHECK_IN>. <CHECK_IN>. <CHECK_IN>. <CHECK_IN>. Mission Day 4 (@ Jupiter Innovations (Thailand)) <URL>. <CHECK_IN>. <CHECK_IN>. <CHECK_IN>. Because Mango sticky rice is a must when in BKK (@ The Mango Garden in Pathum Wan, Bangkok) <URL>. <CHECK_IN>. <CHECK_IN>. <CHECK_IN>. <CHECK_IN>. <CHECK_IN>. <CHECK_IN>. <CHECK_IN>. <CHECK_IN>. <CHECK_IN>. <CHECK_IN>. <CHECK_IN>. <CHECK_IN>. When we came back from Korea But friends want to eat Korean food ... (at @TudariThailand in Pathum Wan, Bangkok) <URL>. <CHECK_IN>. <CHECK_IN>. <CHECK_IN>. <CHECK_IN>. <CHECK_IN>. <CHECK_IN>. <CHECK_IN>. <CHECK_IN>. <CHECK_IN>. <CHECK_IN>. I'm sorry to hear tha <MENTION> 'm sorry to hear that..  @ Di cafe by Monomer <URL>. Happy Birthday @miumiulees love you na  Happy… <URL>. I was wrong. Life Changed ... <URL>. It’s FRIDAY!!!!!!! (@ Thailand Convention and Exhibition Bureau - @tceb_online in Pathum Wan, Bangkok) <URL>. <CHECK_IN>. Let's run away ... <URL>. <CHECK_IN>. <CHECK_IN>. <CHECK_IN>. <CHECK_IN>. <CHECK_IN>. (@Daily Department of Livestock) <URL>. <CHECK_IN>. <CHECK_IN>. I have to take a photo to have it repeated #zakuzaku @ ... <URL>. <CHECK_IN>. <CHECK_IN>. @ <MENTION>  so small scale Because there is no Gm, there is no events curator.. <CHECK_IN>. <CHECK_IN>. <CHECK_IN>. <CHECK_IN>. <CHECK_IN>. <CHECK_IN>. <CHECK_IN>. Sometimes ... I want to live peacefully. The old wooden house ... <URL>. <CHECK_IN>.  \n",
      "\n",
      "<CHECK_IN>. <CHECK_IN>. <CHECK_IN>. I do not know what to do here (@Bangkok Hospital Institute in Ratchathewi, Bangkok) <URL>. <CHECK_IN>. @ The Secondary Educational Service Area 1 in Ratchathewi, Bangkok <URL>. อ.พาหลง (@ National Science and Technology Development Agency (NSTDA) - @nstda in Ratchathewi, Bangkok) <URL>. Native accent (@ Lecture Building in Ratchathewi, Bangkok) <URL>. หูว (@ Department of Physiology in Ratchathewi, Bangkok) <URL>. <CHECK_IN>. <CHECK_IN>. <CHECK_IN>. Only @ (Office of Industrial Product Standards (TISI) in Ratchathewi, Bangkok) <URL>. <CHECK_IN>. <CHECK_IN>. <CHECK_IN>. <CHECK_IN>. <CHECK_IN>. <CHECK_IN>. <CHECK_IN>. <CHECK_IN>. <CHECK_IN>. <CHECK_IN>. Very Hot Hot (@National Innovation Office (NIA) in Ratchathewi, Bangkok) <URL>. Then leave school (@ Faculty of Science - @mahidolsc in Ratchathewi, Bangkok) <URL>. <CHECK_IN>. CT Scan ไปจ้า (@ Faculty of Dentistry - @dtmahidol in Ratchathewi, Bangkok) <URL>. <CHECK_IN>. Last day ja (@ Army Medical Field Service School in Ratchathewi, Bangkok) <URL>. <CHECK_IN>. Tired (@ Namfon.J Home in Ratchathewi, Bangkok) <URL>. Breakfast #biyokair @ Department of Highways <URL>. The morning job ... <URL>. Wet @ (Faculty of Dentistry - @dtmahidol in Ratchathewi, Bangkok) <URL>. At @dtmahidol [pic] — <URL>.  \n",
      "\n",
      "<CHECK_IN>. <CHECK_IN>. <CHECK_IN>. Come explore! (@ Ramathibodi Hospital in Ratchathewi, Bangkok) <URL>. <CHECK_IN>. 2-hour parking (@ Ramathibodi Hospital Soi Soi Suansanee in Ratchathewi, Bangkok) <URL>. Paknam Kratai (@ Chalerm Phrakiat 6 (Phra Mongkutklao Hospital) in Thung Phaya Thai, Ratchathewi, Bangkok) ... <URL>. <CHECK_IN>. Do you have a doctor appointment? (@ Sixth Anniversary Building (Phra Mongkutklao Hospital) in Thung Phaya Thai, Ratchathewi, B ... <URL>. \\ / / @ (@ Operating room, Her Majesty's Medical Center. <URL>. <CHECK_IN>. <CHECK_IN>. <CHECK_IN>. <CHECK_IN>. <CHECK_IN>. <CHECK_IN>.  (@ Ear Nose Throat Medical Center, Bangkok, Thailand) <URL>. <CHECK_IN>. <CHECK_IN>. <CHECK_IN>. First Day Internship ... (@ The King's Medical Center in Ratchathewi, Bangkok) <URL>. Many kin still do not feel standing still 20 minutes (@ skin clinic Ramathibodi Hospital in Bangkok <URL>. <CHECK_IN>. <CHECK_IN>. A little bit of it (@ Cafeteria Nutrition Department, Faculty of Medicine, Ramathibodi Hospital) <URL>. <CHECK_IN>. The next meeting (@ Health Building) Faculty of Health Sciences Mahidol University in Ratchathewi, Bangkok) <URL>. Do not miss this on <MENTION> o not miss this one!. Waiting for the longest time, the next morning, the next morning, This is my first pos <MENTION> aiting for the longest time, the next morning, the next morning, This is my first post.. I donate money # Collect Merit (@Prayon Hospital Foundation in Bangkok) <URL>. <CHECK_IN>. <CHECK_IN>. <CHECK_IN>.  (@ Hospital For Tropical Diseases in Ratchathewi, Bangkok) <URL>.  (@ Faculty of Medicine Ramathibodi Hospital in Ratchathewi, Bangkok) <URL>. I like the shirt like nurse 55555 <URL>. Meet with booths, souvenirs and donations. <URL>. 2pac...again!!!!… <URL>. Thai language should be corrected. @… <URL>. Gourmet Pork Chops Hmm ... @ <URL>.  \n",
      "\n",
      "<CHECK_IN>. <CHECK_IN>. (@ Samaya School in Phaya Thai, Bangkok) <URL>. <CHECK_IN>. <CHECK_IN>. <CHECK_IN>.  \n",
      "\n",
      "<CHECK_IN>. I'm not sure if this is the right place for yo <MENTION> 'm not sure if this is the right place for you.. <CHECK_IN>. <CHECK_IN>. <CHECK_IN>.  \n",
      "\n",
      "<CHECK_IN>. <CHECK_IN>. <CHECK_IN>. If you have to go down from the 7th floor to the G floor to press. This is the world that should have a Central ATM ATM will be the Bank's customers to choose their own (@ CentralP ... <URL>. <CHECK_IN>. <CHECK_IN>. <CHECK_IN>. <CHECK_IN>. <CHECK_IN>. <CHECK_IN>. <CHECK_IN>. <CHECK_IN>. <CHECK_IN>. <CHECK_IN>. <CHECK_IN>. <CHECK_IN>. <CHECK_IN>. (@RMA group in Yannawa, Bangkok) <URL>. <CHECK_IN>. Constant Uncertainty (2018) #painting by… <URL>.  \n",
      "\n",
      "<CHECK_IN>. <CHECK_IN>. <CHECK_IN>. <CHECK_IN>. <CHECK_IN>. I just finished running 12.52 km in 1h:52m:21s with #Endomondo #endorphins <URL>. I just finished running 11.55 km in 1h:42m:19s with #Endomondo #endorphins <URL>. Very hot (@ Rajamangala University of Technology Sathon, Bangkok) <URL>. <CHECK_IN>. Lost 5555555 (@ Rajamangala University of Technology, Bangkok, Sathon, Bangkok) <URL>. <CHECK_IN>. <CHECK_IN>. I just finished running 11.54 km in 1h:25m:13s with #Endomondo #endorphins <URL>. Nicole, a student of Suan Sunandha Rajabhat University ... <URL>. <CHECK_IN>.  \n",
      "\n",
      "<CHECK_IN>. <CHECK_IN>. - # 955VirginHitZ Feel free to listen and tell Feeling <URL>. <CHECK_IN>. <CHECK_IN>. @ <MENTION>  Hello. <CHECK_IN>. T.T (@ Aeronautical Radio of Thailand in Sathon, Bangkok) <URL>. Meet YIM team (@ Fathom Bookspace w / @inanza @bowboha) <URL>. <CHECK_IN>. <CHECK_IN>. - # 955VirginHitZ Feel free to listen and tell Feeling <URL>. Last day of Rehabilitation and walking pain free! thank you BNH staff you are the best!  (@ BNH Hospital in B… <URL>. <CHECK_IN>. Ibobo headac <MENTION> bobo headache. If you have any problems with the registration process? <URL>. <CHECK_IN>.  \n",
      "\n",
      "<CHECK_IN>. <CHECK_IN>. <CHECK_IN>. <CHECK_IN>. <CHECK_IN>. <CHECK_IN>. <CHECK_IN>. <CHECK_IN>. <CHECK_IN>. I just finished running 2.94 km in 26m:31s with #Endomondo #endorphins <URL>. <CHECK_IN>. <CHECK_IN>. Thanks for the inf <MENTION> hanks for the info.. <CHECK_IN>. <CHECK_IN>. Think about it (@Daughter Room, Chulalongkorn Hospital) <URL>. <CHECK_IN>. <CHECK_IN>. <CHECK_IN>. <CHECK_IN>. <CHECK_IN>. I just finished running 10.14 km in 1h:14m:01s with #Endomondo #endorphins <URL>. <CHECK_IN>. <CHECK_IN>. Hahahahahahahahaha Bhumiyama Class B1) <URL>. <CHECK_IN>. <CHECK_IN>. Tara (@ emergency dispensary) M class mansion in Bangkok) <URL>. Will be the poor of 2018 (@ Silom Complex in Bang Rak, Bangkok) <URL>. chilling out <URL>. <CHECK_IN>. <CHECK_IN>. I just finished running 2.87 km in 36m:58s with #Endomondo #endorphins <URL>. <CHECK_IN>. <CHECK_IN>. <CHECK_IN>. <CHECK_IN>. Can you see me? See that I'm here (@ Emergency Room M Classical Tower in Bangkok) <URL>. <CHECK_IN>. I just finished running 10.55 km in 1h:19m:34s with #Endomondo #endorphins <URL>. Taha (@ Drug Dispensing Unit, Pharmacy Division, Chulalongkorn Hospital) <URL>. <CHECK_IN>. <CHECK_IN>. <CHECK_IN>. I just began a running workout using #Endomondo. Peptalk me now @ <URL>. <CHECK_IN>. <CHECK_IN>. <CHECK_IN>. <CHECK_IN>. <CHECK_IN>. <CHECK_IN>. Last time I eat elegantly. Today, the reality mode. Moody Gardens I'm not sure if this is the case. <URL>. <CHECK_IN>. <CHECK_IN>. Medicine (Department of Psychiatry <URL>. There are also stars in the night (@ chemotherapy rooms Outpatient) <URL>. <CHECK_IN>. <CHECK_IN>. <CHECK_IN>. First job interview today (@ Silom Complex in Bang Rak, Bangkok) <URL>. <CHECK_IN>. <CHECK_IN>. <CHECK_IN>. <CHECK_IN>. Lang may be renamed to the front of the par <MENTION> ang may be renamed to the front of the park.. (Inpatient dispensary room Thumrin Building B1) <URL>. <CHECK_IN>. I just finished running 5.10 km in 38m:38s with #Endomondo #endorphins <URL>. <CHECK_IN>. <CHECK_IN>. <CHECK_IN>. <CHECK_IN>. <CHECK_IN>. <CHECK_IN>. <CHECK_IN>. <CHECK_IN>. <CHECK_IN>. <CHECK_IN>. I'm not sure what that means. I did not tell the doctor today. Have to come before 10 o'clock ... time wasted (@ King Chulalongkor ... <URL>. I enjoy trying the #coffee (@ De'Cafe Silom) <URL>. (@Longphan Clinic in Bang Rak, Bangkok) <URL>. Children's Hospital (@ Faculty of Medicine in Pathum Wan, Bangkok) <URL>. <CHECK_IN>. <CHECK_IN>. HIV testing every year ... check some and use the bag every time offline. <URL>. Come back! (@ Room for Chemotherapy Outpatient) <URL>. very hung <MENTION> ery hungry. (@ThomsonReuters (Thailand) Limited in Bang Rak, Ba ... <URL>. I was out running 4.99 km with #Endomondo #endorphins <URL>. <CHECK_IN>. <CHECK_IN>. <CHECK_IN>. <CHECK_IN>. I'm so tired (@ emergency dispensary) M Classical Tower in Bangkok) <URL>. <CHECK_IN>. <CHECK_IN>. <CHECK_IN>. <CHECK_IN>. <CHECK_IN>. RunForCher ran for 37 times today ... <URL>. What a great way to relax in the park. Just put… <URL>. This is a good place to star <MENTION> his is a good place to start.. The world is round ... <URL>. This is a good place to star <MENTION> his is a good place to start.. Hot Americano… <URL>. Write a wall Do not think dirty @ Soi Saladaeng | Soi ... <URL>. <CHECK_IN>. This is my first pos <MENTION> his is my first post..  \n",
      "\n",
      "Wait for you ... (@ BMTA Bus Stop Wat Pathum Wararam w / @rainnynizii) <URL>. Lost and Found (@ Farose Language Academy in Pathum Wan) <URL>. <CHECK_IN>. #LoveSimonTH (@ Siam Palawan Royal Grand Theater in Pathum Wan, Bangkok) <URL>. Love simon (@ Siam Pavalai Royal Grand Theatre in Pathum Wan, Bangkok) <URL>. <CHECK_IN>. <CHECK_IN>. <CHECK_IN>. <CHECK_IN>. <CHECK_IN>. <CHECK_IN>. <CHECK_IN>. <CHECK_IN>. <CHECK_IN>. <CHECK_IN>. <CHECK_IN>. <CHECK_IN>. <CHECK_IN>. ยาวไป (@ The Offices at CentralWorld in Pathum Wan, Bangkok) <URL>. <CHECK_IN>. I think that's the way to do i <MENTION>  think that's the way to do it.. <CHECK_IN>. Why corporate accountability? Discussing now at the FCCT, CSOs providing an overview of the main issues to ensure a… <URL>. <CHECK_IN>. <CHECK_IN>. Delicious #vegan #vegetarian Thai lunch from walee vegetarian! As healthy as it is delicious... and best of all kin… <URL>. w/p'nice (@ Coffee Beans by Dao - @coffeebeans_dao in Pathum Wan, Bangkok) <URL>. <CHECK_IN>. <CHECK_IN>. <CHECK_IN>. <CHECK_IN>. <CHECK_IN>. Shop 3 starts! (@ Gin + Hey By Greyhound in Bangkok) <URL>. <CHECK_IN>. <CHECK_IN>. <CHECK_IN>. <CHECK_IN>. <CHECK_IN>. @ccharuwan_mam (@ HOBS The Playhouse in Pathum Wan, Bangkok w/ @uzosou_tsuki @yk_whitelight) <URL>. <CHECK_IN>. <CHECK_IN>. Hey Simon  (@ Siam Pavalai Royal Grand Theatre in Pathum Wan, Bangkok w/ @gbzylar) <URL>. <CHECK_IN>. # Buildings74 # Maha Chakri Sirindhorn Building # Thai Research Methodolo <MENTION>  Buildings74 # Maha Chakri Sirindhorn Building # Thai Research Methodology. <CHECK_IN>. <CHECK_IN>. <CHECK_IN>. <CHECK_IN>. <CHECK_IN>. Wait for the national machine. (IServe in Pathum Wan, Bangkok) <URL>. <CHECK_IN>. <CHECK_IN>. <CHECK_IN>. <CHECK_IN>. <CHECK_IN>. <CHECK_IN>. <CHECK_IN>. <CHECK_IN>. <CHECK_IN>. <CHECK_IN>. <CHECK_IN>. <CHECK_IN>. <CHECK_IN>. <CHECK_IN>. <CHECK_IN>. Night Talk  (@ Wine I Love You in Pathum Wan) <URL>. <CHECK_IN>. <CHECK_IN>. <CHECK_IN>. <CHECK_IN>. <CHECK_IN>. <CHECK_IN>. <CHECK_IN>. Come back to the original (@ The Tutor in Pathumwan, Bangkok) <URL>. <CHECK_IN>. เรียนจ้า (@ New Cambridge Institute - @newcambridgeth in Pathum Wan, Thailand) <URL>. <CHECK_IN>. <CHECK_IN>. <CHECK_IN>. <CHECK_IN>. Bro I'm so ded my mom used to tell me that i should buy her a sports car in the future. like lambo or ferrari but f… <URL>. <CHECK_IN>. <CHECK_IN>. <CHECK_IN>. <CHECK_IN>. <CHECK_IN>. <CHECK_IN>. We have many days ... Today's fast approaching (@Pathum Wan, Bangkok) <URL>. Day 2 (@ The Offices at CentralWorld in Pathum Wan, Bangkok) <URL>. <CHECK_IN>. @ The Offices at CentralWorld in Pathum Wan, Bangkok) <URL>. <CHECK_IN>. <CHECK_IN>. <CHECK_IN>. <CHECK_IN>. <CHECK_IN>. <CHECK_IN>. <CHECK_IN>. <CHECK_IN>. <CHECK_IN>. <CHECK_IN>. <CHECK_IN>. <CHECK_IN>. <CHECK_IN>. <CHECK_IN>. <CHECK_IN>. Ahhhhhhh My home away from home. (@ Grand Hyatt Erawan Bangkok in Pathum Wan, Bangkok) <URL>. <CHECK_IN>. What do I do? The new police officer is Dee (@police police station in Pathum Wan, Bangkok) <URL>. 90 minutes of heaven. Home is the best. She may be tiny but her hands are stronger than most men. (@ Kannikar Medic… <URL>. <CHECK_IN>. Delicious #vegan #vegetarian Thai noodle soup...Sooo good! (@ Paragon Food Hall in Pathum Wan, Bangkok w/… <URL>. <CHECK_IN>. <CHECK_IN>. <CHECK_IN>. <CHECK_IN>. <CHECK_IN>. <CHECK_IN>. <CHECK_IN>. <CHECK_IN>. <CHECK_IN>. <CHECK_IN>. <CHECK_IN>. <CHECK_IN>. <CHECK_IN>. <CHECK_IN>. Send and receive (@ Faculty of Dentistry in Pathum Wan, Bangkok) <URL>. <CHECK_IN>. <CHECK_IN>. <CHECK_IN>. The little things that make such a difference. GHE is my favourite hotel anywhere &amp; always feels like my home away… <URL>. <CHECK_IN>. <CHECK_IN>. <CHECK_IN>. <CHECK_IN>. <CHECK_IN>. <CHECK_IN>. <CHECK_IN>. <CHECK_IN>. <CHECK_IN>. <CHECK_IN>. <CHECK_IN>. <CHECK_IN>. <CHECK_IN>. <CHECK_IN>. Send and receive (@ Faculty of Dentistry in Pathum Wan, Bangkok) <URL>. <CHECK_IN>. I like to show my friends #kunten <URL>. <CHECK_IN>. <CHECK_IN>. <CHECK_IN>. <CHECK_IN>. <CHECK_IN>. <CHECK_IN>. <CHECK_IN>. Edd benedict  # breakfast#egg#menu @ Anantara… <URL>. <CHECK_IN>. #tbt THAILAND.   Can’t wait to be back to… <URL>. <CHECK_IN>. I do not know what to say. <URL>. <CHECK_IN>. Just restocked. 100% #handstitched #METTIQUE… <URL>.  @ Renaissance Bangkok Ratchaprasong Hotel <URL>. <CHECK_IN>. <CHECK_IN>. Jurassic World ! (at @KrungsriIMAX Theatre in Pathum Wan, Bangkok) <URL>. Congratulations  @… <URL>. Thanks for the inf <MENTION> hanks for the info.. 11 years ago <URL>. Have guests come !!!! @ Paul Depuis 1889, Central World <URL>. Just posted a photo @ Central Department Store <URL>. Nita Ariya Chalerm Burana Wong The sixth finalist ... <URL>. <CHECK_IN>.  \n",
      "\n",
      "<CHECK_IN>. <CHECK_IN>. <CHECK_IN>. <CHECK_IN>. <CHECK_IN>. <CHECK_IN>. <CHECK_IN>. <CHECK_IN>. <CHECK_IN>. <CHECK_IN>. <CHECK_IN>. <CHECK_IN>. <CHECK_IN>. <CHECK_IN>. <CHECK_IN>. <CHECK_IN>. <CHECK_IN>. <CHECK_IN>. <CHECK_IN>. <CHECK_IN>. Maze runner (at @CentralWorld in Pathum Wan, Bangkok) <URL>. <CHECK_IN>. <CHECK_IN>. <CHECK_IN>. <CHECK_IN>. <CHECK_IN>. <CHECK_IN>. <CHECK_IN>. <CHECK_IN>. <CHECK_IN>. <CHECK_IN>. <CHECK_IN>. <CHECK_IN>. <CHECK_IN>. <CHECK_IN>. <CHECK_IN>. <CHECK_IN>. <CHECK_IN>. <CHECK_IN>. <CHECK_IN>. <CHECK_IN>. <CHECK_IN>. <CHECK_IN>. <CHECK_IN>. <CHECK_IN>. <CHECK_IN>. <CHECK_IN>. <CHECK_IN>. <CHECK_IN>. <CHECK_IN>. <CHECK_IN>. <CHECK_IN>. #ANNAinCamp (@ Centara Grand at CentralWorld in Pathum Wan, Bangkok) <URL>. @ Ogilvy & Mather Thailand in Pathum Wan, Bangkok) <URL>. Come out to live at Big C Rajdamri. <URL>. <CHECK_IN>. <CHECK_IN>. <CHECK_IN>. <CHECK_IN>. <CHECK_IN>. It’s a gamers paradise! Geek coma!!!! (@ Z-Cafe Retrostation in Thanon Phetchaburi, Banguecoque w/ @curtis91324)… <URL>. <CHECK_IN>. <CHECK_IN>. <CHECK_IN>. <CHECK_IN>. <CHECK_IN>. <CHECK_IN>. <CHECK_IN>. <CHECK_IN>. <CHECK_IN>. <CHECK_IN>. <CHECK_IN>. สำรวจ (@ The Platinum Fashion Mall in Ratchathewi, Bangkok) <URL>. <CHECK_IN>. <CHECK_IN>. <CHECK_IN>. love simon ! (@ SF World Cinema - @welovesf in Pathum Wan, Bangkok) <URL>. <CHECK_IN>. <CHECK_IN>. <CHECK_IN>. <CHECK_IN>. <CHECK_IN>. <CHECK_IN>. <CHECK_IN>. Kids On The Slope (@ Paragon Cineplex in Pathum Wan, Bangkok) <URL>. <CHECK_IN>. <CHECK_IN>. <CHECK_IN>. <CHECK_IN>. <CHECK_IN>. <CHECK_IN>. <CHECK_IN>. <CHECK_IN>. <CHECK_IN>. <CHECK_IN>. <CHECK_IN>. <CHECK_IN>. <CHECK_IN>. <CHECK_IN>. <CHECK_IN>. <CHECK_IN>. <CHECK_IN>. <CHECK_IN>. <CHECK_IN>. Long wait (At @BarBQPlazaThai in Pathum Wan, Bangkok) <URL>. Shopping day \\ 0 (@ Siam Paragon - @siam_paragon in Pathum Wan, Bangkok) <URL>. <CHECK_IN>. <CHECK_IN>. <CHECK_IN>. <CHECK_IN>. <CHECK_IN>. <CHECK_IN>. <CHECK_IN>. <CHECK_IN>. <CHECK_IN>. <CHECK_IN>. <CHECK_IN>. <CHECK_IN>. <CHECK_IN>. <CHECK_IN>. <CHECK_IN>. <CHECK_IN>. <CHECK_IN>. <CHECK_IN>. <CHECK_IN>. <CHECK_IN>. <CHECK_IN>. <CHECK_IN>. <CHECK_IN>. <CHECK_IN>. <CHECK_IN>. <CHECK_IN>. <CHECK_IN>. <CHECK_IN>. <CHECK_IN>. <CHECK_IN>. <CHECK_IN>. <CHECK_IN>. <CHECK_IN>. <CHECK_IN>. <CHECK_IN>. <CHECK_IN>. <CHECK_IN>. <CHECK_IN>. <CHECK_IN>. <CHECK_IN>. <CHECK_IN>. <CHECK_IN>. <CHECK_IN>. Black Pan with the 4th time @ 55 (at @BarBQPlazaThai in Pathum Wan, Bangkok) <URL>. <CHECK_IN>. <CHECK_IN>. <CHECK_IN>. <CHECK_IN>. <CHECK_IN>. <CHECK_IN>. <CHECK_IN>. <CHECK_IN>. <CHECK_IN>. @Paul_Paradise @Siam_paragon in Pathum Wan, Bangkok) <URL>. <CHECK_IN>. <CHECK_IN>. <CHECK_IN>. <CHECK_IN>. <CHECK_IN>. <CHECK_IN>. <CHECK_IN>. <CHECK_IN>. <CHECK_IN>. <CHECK_IN>. <CHECK_IN>. <CHECK_IN>. <CHECK_IN>. <CHECK_IN>. <CHECK_IN>. <CHECK_IN>. <CHECK_IN>. <CHECK_IN>. <CHECK_IN>. <CHECK_IN>. <CHECK_IN>. <CHECK_IN>. <CHECK_IN>. <CHECK_IN>. Opening (@ Topshop in Pathum Wan, Bangkok) <URL>. <CHECK_IN>. <CHECK_IN>. <CHECK_IN>. <CHECK_IN>. <CHECK_IN>. <CHECK_IN>. <CHECK_IN>. <CHECK_IN>. <CHECK_IN>. Love Simon (@ SF World Cinema - @welovesf in Pathum Wan, Bangkok) <URL>. <CHECK_IN>. <CHECK_IN>. <CHECK_IN>. <CHECK_IN>. <CHECK_IN>. <CHECK_IN>. <CHECK_IN>. <CHECK_IN>. <CHECK_IN>. <CHECK_IN>. <CHECK_IN>. <CHECK_IN>. <CHECK_IN>. <CHECK_IN>. <CHECK_IN>. <CHECK_IN>. <CHECK_IN>. เลิฟซิม่อน (@ พารากอน ซีนีเพล็กซ์ in Pathum Wan, Bangkok) <URL>. <CHECK_IN>. <CHECK_IN>. <CHECK_IN>. <CHECK_IN>. <CHECK_IN>. <CHECK_IN>. <CHECK_IN>. Food is very slow if you understand. 5555 (@ Osaka Ohsho in Pathum Wan, Bangkok) <URL>. The backer is coming... (at @Siam_Paragon in Pathum Wan, Bangkok) <URL>. <CHECK_IN>. <CHECK_IN>. This is my first time in Thailand. (At @Siam_Paragon in Pathum Wan, Bangkok) <URL>. <CHECK_IN>. <CHECK_IN>. <CHECK_IN>. <CHECK_IN>. <CHECK_IN>. <CHECK_IN>. <CHECK_IN>. <CHECK_IN>. <CHECK_IN>. <CHECK_IN>. <CHECK_IN>. <CHECK_IN>. <CHECK_IN>.  (@ Muang Thai GMM Livehouse in Pathum Wan, Bangkok) <URL>. <CHECK_IN>. #TAEYONGxTEN_FanmeetinginBKK (@ Muang Thai GMM Livehouse in Pathum Wan, Bangkok) <URL>. <CHECK_IN>. <CHECK_IN>. <CHECK_IN>. <CHECK_IN>. <CHECK_IN>. <CHECK_IN>. <CHECK_IN>. <CHECK_IN>. <CHECK_IN>. <CHECK_IN>. <CHECK_IN>. <CHECK_IN>. <CHECK_IN>. <CHECK_IN>. <CHECK_IN>. <CHECK_IN>. <CHECK_IN>. <CHECK_IN>. <CHECK_IN>. <CHECK_IN>. <CHECK_IN>. <CHECK_IN>. <CHECK_IN>. <CHECK_IN>. (At @CentralWorld in Pathum Wan, Bangkok) <URL>. (@ Central World - @centralworld in Pathum Wan, Bangkok w / @elfnoonn) <URL>. <CHECK_IN>. Yesterday just rehearsed This is true ~ (@ Gmm Live House @ Central World Fl.8 in Bangkok) <URL>. <CHECK_IN>. <CHECK_IN>. <CHECK_IN>. <CHECK_IN>. <CHECK_IN>. <CHECK_IN>. <CHECK_IN>. <CHECK_IN>. <CHECK_IN>. <CHECK_IN>. <CHECK_IN>. <CHECK_IN>. <CHECK_IN>. <CHECK_IN>. This is a nice shirt with a nice soft cloth to help support you today. # @ M_may ... <URL>. <CHECK_IN>. Check in here to get a sense of hospitality (@Yuman in Pathum Wan, Bangkok) <URL>. <CHECK_IN>. <CHECK_IN>. <CHECK_IN>. <CHECK_IN>. <CHECK_IN>. <CHECK_IN>. <CHECK_IN>. <CHECK_IN>. Time to go to town. @Siam_paragon in Pathum Wan, Bangkok) <URL>. <CHECK_IN>. <CHECK_IN>. <CHECK_IN>. <CHECK_IN>. <CHECK_IN>. <CHECK_IN>. <CHECK_IN>. <CHECK_IN>. <CHECK_IN>. I do not know what to do (@CentralWorld in Pathum Wan, Bangkok) <URL>. <CHECK_IN>. <CHECK_IN>. <CHECK_IN>. <CHECK_IN>. <CHECK_IN>. <CHECK_IN>. <CHECK_IN>. Still sit here @BigThailand in Pathum Wan, Bang ... <URL>. <CHECK_IN>. <CHECK_IN>. <CHECK_IN>. <CHECK_IN>. <CHECK_IN>. <CHECK_IN>. <CHECK_IN>. <CHECK_IN>. <CHECK_IN>. <CHECK_IN>. <CHECK_IN>. <CHECK_IN>. <CHECK_IN>. <CHECK_IN>. <CHECK_IN>. <CHECK_IN>. <CHECK_IN>. <CHECK_IN>. <CHECK_IN>. <CHECK_IN>. <CHECK_IN>. <CHECK_IN>. <CHECK_IN>. <CHECK_IN>. <CHECK_IN>. <CHECK_IN>. <CHECK_IN>. <CHECK_IN>. <CHECK_IN>. <CHECK_IN>. <CHECK_IN>. <CHECK_IN>. <CHECK_IN>. <CHECK_IN>. Maze runner (at @CentralWorld in Pathum Wan, Bangkok) <URL>. <CHECK_IN>. <CHECK_IN>. <CHECK_IN>. <CHECK_IN>. <CHECK_IN>. <CHECK_IN>. <CHECK_IN>. <CHECK_IN>. <CHECK_IN>. <CHECK_IN>. <CHECK_IN>. <CHECK_IN>. <CHECK_IN>. <CHECK_IN>. <CHECK_IN>.  #TAEYONGxTEN_FanmeetinginBKK (@ Muang Thai GMM Livehouse in Pathum Wan, Bangkok) <URL>. <CHECK_IN>. <CHECK_IN>. <CHECK_IN>. <CHECK_IN>. <CHECK_IN>. <CHECK_IN>. <CHECK_IN>. <CHECK_IN>. <CHECK_IN>. <CHECK_IN>. Stop, baby don't stop  (@ Muang Thai GMM Livehouse in Pathum Wan, Bangkok w/ @taraki_k) <URL>. <CHECK_IN>. <CHECK_IN>. <CHECK_IN>. <CHECK_IN>. <CHECK_IN>. #TAEYONGxTEN_FanmeentinginBKK (@ Muang Thai GMM Livehouse in Pathum Wan, Bangkok) <URL>. <CHECK_IN>. <CHECK_IN>. #TAEYONGxTEN_FanmeetinginBKK (@ Muang Thai GMM Livehouse in Pathum Wan, Bangkok w/ @eeccsn) <URL>. <CHECK_IN>. <CHECK_IN>.  (@ Muang Thai GMM Livehouse in Pathum Wan, Bangkok) <URL>. <CHECK_IN>. <CHECK_IN>. <CHECK_IN>. #TAEYONGXTEN_FanmeetingBKK (@ Muang Thai GMM Livehouse in Pathum Wan, Bangkok) <URL>. <CHECK_IN>. If this is the case, please let me know. (At @Siam_Paragon in Pathum Wan, Bangkok) <URL>. <CHECK_IN>.  #TAEYONGxTEN_FanmeetinginBKK (@ Muang Thai GMM Livehouse in Pathum Wan, Bangkok) <URL>. #TAEYONGxTEN_FanmeetinginBKK (@ Muang Thai GMM Livehouse in Pathum Wan, Bangkok w / @saxzophone) <URL>. <CHECK_IN>. #TAEYONGxTEN_FanmeetinginBKK (@ Muang Thai GMM Livehouse in Pathum Wan, Bangkok) <URL>. <CHECK_IN>. <CHECK_IN>. <CHECK_IN>. <CHECK_IN>. <CHECK_IN>. <CHECK_IN>. #TAEYONGxTENFanmeetinginBKK (@ Muang Thai GMM Livehouse in Pathum Wan, Bangkok) <URL>. <CHECK_IN>. <CHECK_IN>. #TAEYONGxTEN_FanmeetinginBKK (@ Muang Thai GMM Livehouse in Pathum Wan, Bangkok) <URL>. <CHECK_IN>. <CHECK_IN>. <CHECK_IN>. <CHECK_IN>. <CHECK_IN>. <CHECK_IN>. <CHECK_IN>. <CHECK_IN>. #TAEYONGxTEN_FanmeetinginBKK (@ Muang Thai GMM Livehouse in Pathum Wan, Bangkok) <URL>. <CHECK_IN>. <CHECK_IN>. <CHECK_IN>. <CHECK_IN>. <CHECK_IN>. I can not wait to see it! (At @Siam_Paragon in Pathum Wan, Bangkok) <URL>. <CHECK_IN>. <CHECK_IN>. <CHECK_IN>. <CHECK_IN>. <CHECK_IN>. <CHECK_IN>. <CHECK_IN>. <CHECK_IN>. <CHECK_IN>. thank you (@ Muang Thai GMM Livehouse in Pathum Wan, Bangkok) <URL>. <CHECK_IN>. <CHECK_IN>. <CHECK_IN>. <CHECK_IN>. <CHECK_IN>. <CHECK_IN>. Ah !!! Clock #garmin reset yourself after the workout of today lost it al <MENTION> h !!! Clock #garmin reset yourself after the workout of today lost it all.. <CHECK_IN>. <CHECK_IN>. <CHECK_IN>. เบื่อ (@ The Platinum Fashion Mall in Ratchathewi, Bangkok) <URL>. Chest dayyyyyyy (@ Fitness First Platinum in Bangkok) <URL>. The first of the shop (@ Katsuya in Pathumwan, Bangkok) <URL>. (@ Central World - @centralworld in Pathum Wan, Bangkok) <URL>. But I'm tired of walking. (@McDonald - @mcthai in Pathum Wan, Bangkok) <URL>. <CHECK_IN>. <CHECK_IN>. <CHECK_IN>. I bought a perfume yesterday, but still want it (@ Siam Paragon in Pathum Wan, Bangkok) <URL>. Yesterday's Anniversary (@ Daisy Room 79 in Petchaburi Road, Bangkok) <URL>. <CHECK_IN>. <CHECK_IN>. <CHECK_IN>. <CHECK_IN>. <CHECK_IN>. <CHECK_IN>. <CHECK_IN>. <CHECK_IN>. <CHECK_IN>. <CHECK_IN>. <CHECK_IN>. #LackPINK #Lisa #NYLONJAPAN #kinokuniyathailand <URL>. <CHECK_IN>. <CHECK_IN>. <CHECK_IN>. <CHECK_IN>. <CHECK_IN>. <CHECK_IN>. <CHECK_IN>. <CHECK_IN>. <CHECK_IN>. <CHECK_IN>. <CHECK_IN>. The Chinese walk into the mall with Wow so cool air outside very hot (@ Isetan in Pathum Wan, Bangkok) <URL>. Not so long ago. About two weeks ago (at @Siam_Paragon in Pathum Wan, Bangkok) <URL>. <CHECK_IN>. <CHECK_IN>. Celebrate the anniversary (@ amaya) <URL>. <CHECK_IN>. <CHECK_IN>. <CHECK_IN>. <CHECK_IN>. <CHECK_IN>. <CHECK_IN>. <CHECK_IN>. <CHECK_IN>. <CHECK_IN>. <CHECK_IN>. <CHECK_IN>. <CHECK_IN>. ลุย (@ The Platinum Fashion Mall in Ratchathewi, Bangkok) <URL>. <CHECK_IN>. <CHECK_IN>. <CHECK_IN>. Coco Ichibanya CTW scaffolding is considered to be powerful before the custome <MENTION> oco Ichibanya CTW scaffolding is considered to be powerful before the customer.. <CHECK_IN>. <CHECK_IN>. <CHECK_IN>. <CHECK_IN>. <CHECK_IN>. <CHECK_IN>. <CHECK_IN>. <CHECK_IN>. <CHECK_IN>. alone but not lonely :) (at @Siam_Paragon in Pathum Wan, Bangkok) <URL>. <CHECK_IN>. <CHECK_IN>. <CHECK_IN>. <CHECK_IN>. <CHECK_IN>. <CHECK_IN>. <CHECK_IN>. Indrahae rains down (@ Indra Regent Hotel in Ratchathewi, Bangkok) <URL>. <CHECK_IN>. <CHECK_IN>. <CHECK_IN>. <CHECK_IN>. <CHECK_IN>. <CHECK_IN>. <CHECK_IN>. <CHECK_IN>. <CHECK_IN>. <CHECK_IN>. <CHECK_IN>. Today, lots of friends! confused! Normal no friends !!! (at @Siam_Paragon in Pathum Wan, Bangkok) <URL>. @ The Manhattan Fish Market in Pathum Wan, Bangkok) <URL>. <CHECK_IN>. <CHECK_IN>. <CHECK_IN>. <CHECK_IN>. <CHECK_IN>. <CHECK_IN>. <CHECK_IN>. <CHECK_IN>. <CHECK_IN>. <CHECK_IN>. <CHECK_IN>. <CHECK_IN>.  <MENTION>  is not necessarily an adult all the time.. Breakfast  (@ McDonald's - @mcthai in Ratchathewi, Bangkok) <URL>. #HID18 @huawei APAC Innovation Day about to commence! Smaller crowd than KL last year but sure insights will be jus… <URL>. <CHECK_IN>. <CHECK_IN>. <CHECK_IN>. <CHECK_IN>. <CHECK_IN>. <CHECK_IN>. <CHECK_IN>. <CHECK_IN>.  <MENTION> :. <CHECK_IN>. <CHECK_IN>. <CHECK_IN>. <CHECK_IN>. <CHECK_IN>. <CHECK_IN>. <CHECK_IN>. <CHECK_IN>. <CHECK_IN>. <CHECK_IN>. <CHECK_IN>. <CHECK_IN>. <CHECK_IN>. Lunch time (@ Sizzler in Pathum Wan, Bangkok) <URL>. <CHECK_IN>. When will I reach tha <MENTION> hen will I reach that?. Love, Simon (@ SF World Cinema - @welovesf in Pathum Wan, Bangkok) <URL>. Love, Simon (@ SF World Cinema - @welovesf in Pathum Wan, Bangkok) <URL>. <CHECK_IN>. <CHECK_IN>. <CHECK_IN>. <CHECK_IN>. Who is this? (At @Siam_Paragon in Pathum Wan, Bangkok) <URL>. <CHECK_IN>. Have a great time. 55555555555 (@ Pratunam Plaza) <URL>. <CHECK_IN>. <CHECK_IN>. <CHECK_IN>. <CHECK_IN>. <CHECK_IN>. <CHECK_IN>. <CHECK_IN>. <CHECK_IN>. <CHECK_IN>. <CHECK_IN>. <CHECK_IN>. <CHECK_IN>. <CHECK_IN>. <CHECK_IN>. <CHECK_IN>. <CHECK_IN>. <CHECK_IN>. <CHECK_IN>. <CHECK_IN>. (@ CentralWorld - @centralworld in Pathum Wan, Bangkok) <URL>. <CHECK_IN>. <CHECK_IN>. <CHECK_IN>. <CHECK_IN>. <CHECK_IN>. <CHECK_IN>. Jurassic world: Fallen Kingdom (@ SF World Cinema - @welovesf in Pathum Wan, Bangkok) <URL>. <CHECK_IN>. <CHECK_IN>. <CHECK_IN>. Back to work (@ LINE Thailand in Bangkok, Krung Thep Maha Nakhon) <URL>. <CHECK_IN>. @ Centara Grand at CentralWorld in Pathum Wan, Bangkok <URL>. <CHECK_IN>. <CHECK_IN>. <CHECK_IN>. ฮึบ!!! (@ Fitness First Platinum in Bangkok) <URL>. <CHECK_IN>. <CHECK_IN>. <CHECK_IN>. <CHECK_IN>. <CHECK_IN>. <CHECK_IN>. <CHECK_IN>. <CHECK_IN>. <CHECK_IN>. Speedtest AisNextG กับ samsung J7 pro #speedtest #aisnextG #adslthailand #AISNEXTGxPECKBAMBAM <URL>. <CHECK_IN>. <CHECK_IN>. <CHECK_IN>. <CHECK_IN>. <CHECK_IN>. <CHECK_IN>. <CHECK_IN>. 31.89 (@ Super Rich (Thailand) - @superrichth in Pathum Wan, Bangkok) <URL>. <CHECK_IN>. <CHECK_IN>. <CHECK_IN>. <CHECK_IN>. <CHECK_IN>. I miss paragon (at @Siam_Paragon in Pathum Wan, Bangkok) <URL>. Our (@Fitness First Platinum in Bangkok) <URL>. <CHECK_IN>. <CHECK_IN>. <CHECK_IN>. <CHECK_IN>. <CHECK_IN>. <CHECK_IN>. (Starbucks in Pathum Wan, Bangkok) <URL>. <CHECK_IN>. <CHECK_IN>. <CHECK_IN>. Jurasic world (@ SF World Cinema - @welovesf in Pathum Wan, Bangkok) <URL>. Night Market (@ Talad Neon in Ratchathewi, Bangkok) <URL>. <CHECK_IN>. I can not help it. I do not read anything haunted blood for a while (@ Books Kinokuniya in Pathum Wan, Bangkok) ... <URL>. <CHECK_IN>. <CHECK_IN>. <CHECK_IN>. <CHECK_IN>. At @aboveeleven [pic] — <URL>. I'm not sure what to say. <URL>. Baiyoke Sky Hotel ... <URL>. <CHECK_IN>. <CHECK_IN>. #jurassicworldfallenkingdom This sector is awesome ... <URL>. #Blancpain #OceanCommitment @ Siam Paragon <URL>. 9.30 (@ The Platinum Fashion Mall in Bangkok) <URL>. <CHECK_IN>. <CHECK_IN>. Central City @ CentralWorld CentralWorld <URL>. Relationship goals  #chapter   #designs… <URL>. <CHECK_IN>. <CHECK_IN>. <CHECK_IN>. <CHECK_IN>. #AISXiaomi @ CTW (CentralWorld) <URL>. <CHECK_IN>. <CHECK_IN>. <CHECK_IN>. Tonight’s event at Paragon Cineplex. See you :)… <URL>. Eat plainly Sue has 2 bowls ... @ <URL>.  #linestickersawards @ CentralWorld ... <URL>. <CHECK_IN>. <CHECK_IN>. And then #aisxiaomi @ CentralWorld ... <URL>. <CHECK_IN>. <CHECK_IN>. Lets go ... ... <URL>. <CHECK_IN>. <CHECK_IN>. <CHECK_IN>. <CHECK_IN>. <CHECK_IN>. Same price as Amazon, Better than Starbucks. (@ Coffeelism Limited in Bangkok, Krung Thep Maha Nakhon) <URL>. In 20 minutes my last presentation in #Thailand… <URL>. <CHECK_IN>. <CHECK_IN>. <CHECK_IN>. <CHECK_IN>. <CHECK_IN>. <CHECK_IN>. <CHECK_IN>. <CHECK_IN>. <CHECK_IN>. <CHECK_IN>. <CHECK_IN>. Joke of Chiang Mai One Nimman One Nimman Open <URL>. Eat rice T.T (@ Utaandon in Pathum Wan, Bangkok) <URL>. I have been successful. @cmg | Central Marketing Group in Bangkok) <URL>. <CHECK_IN>. Not much people Can this be # AIS-Xia ... <URL>.  <MENTION>  From the gold look not to much to the whole zone.. <CHECK_IN>. <CHECK_IN>. Because there is no… <URL>. Magneto is here #xmen #asiacomiccon @ Siam Paragon <URL>. <CHECK_IN>. <CHECK_IN>. <CHECK_IN>.  \n",
      "\n",
      "<CHECK_IN>. <CHECK_IN>. <CHECK_IN>. <CHECK_IN>. Not long (@ Victory Monument in Ratchathewi, Bangkok) <URL>. <CHECK_IN>. <CHECK_IN>. <CHECK_IN>. <CHECK_IN>. <CHECK_IN>. <CHECK_IN>. <CHECK_IN>. <CHECK_IN>. Dave (@Wannasorn Tower in Ratchathewi, Bangkok) <URL>. <CHECK_IN>. Aeneus @ (Victory Monument in Ratchathewi, Bangkok) <URL>. Day1 (@ BTS Victory Monument - @bts_skytrain in Ratchathewi, Bangkok) <URL>. <CHECK_IN>. <CHECK_IN>. <CHECK_IN>. <CHECK_IN>. I can not wait to go back (@ Victory Monument in Ratchathewi, Bangkok) <URL>. <CHECK_IN>. <CHECK_IN>. <CHECK_IN>. <CHECK_IN>. <CHECK_IN>. <CHECK_IN>. <CHECK_IN>. <CHECK_IN>. <CHECK_IN>. <CHECK_IN>. Morning (@ Miracle Coffee) <URL>. <CHECK_IN>. <CHECK_IN>. DONUT Saturday!!!! (@ Ajinomoto (Thailand) Co., Ltd. in Ratchathewi, Bangkok) <URL>. <CHECK_IN>. <CHECK_IN>. <CHECK_IN>. <CHECK_IN>. <CHECK_IN>. <CHECK_IN>. <CHECK_IN>. <CHECK_IN>. <CHECK_IN>. <CHECK_IN>. <CHECK_IN>. <CHECK_IN>. <CHECK_IN>. <CHECK_IN>. <CHECK_IN>. <CHECK_IN>. Have a great try (@Thai Noodle in Phaya Thai, Bangkok) <URL>. <CHECK_IN>. <CHECK_IN>. <CHECK_IN>. <CHECK_IN>. Sawasdee Tower We come from the futu <MENTION> awasdee Tower We come from the future. <CHECK_IN>. <CHECK_IN>. <CHECK_IN>. <CHECK_IN>. <CHECK_IN>. I hope to be able to go to the court of the tiger gods (@ Victory Monument in Ratchathewi, Bangkok) <URL>. <CHECK_IN>. <CHECK_IN>. <CHECK_IN>. Mr. King very much (@ King Power Downtown Complex - @kingpowerhq in Ratchathewi, Bangkok) <URL>. <CHECK_IN>. <CHECK_IN>. <CHECK_IN>. <CHECK_IN>. With Prem (@ Saxophone Pub in Ratchathewi, Bangkok) <URL>. <CHECK_IN>. <CHECK_IN>. <CHECK_IN>. <CHECK_IN>. <CHECK_IN>. Bigger than the Pooh (@ Thailand) <URL>. <CHECK_IN>. Parking (@ Century The Movie Plaza in Ratchathewi, Bangkok) <URL>. <CHECK_IN>. <CHECK_IN>. <CHECK_IN>. <CHECK_IN>. <CHECK_IN>. Eat Am are in Ratchathewi, Bangkok. <URL>. <CHECK_IN>. <CHECK_IN>.  <MENTION>  Can the iOS app pre-cache my upcoming stays? Would be v helpful on intl trips… • looking up the address… <URL>. <CHECK_IN>. 6คัน (@ Victory Monument in Ratchathewi, Bangkok) <URL>. I just began a running workout using #Endomondo. Peptalk me now @ <URL>. I was out running 5.02 km with #Endomondo #endorphins <URL>. <CHECK_IN>. <CHECK_IN>. <CHECK_IN>. <CHECK_IN>. <CHECK_IN>. <CHECK_IN>. อ้วน (@ Century The Movie Plaza in Ratchathewi, Bangkok) <URL>. <CHECK_IN>. <CHECK_IN>. <CHECK_IN>. <CHECK_IN>. # Vaccination (@ cafeteria, National Institute of Child Health) <URL>. <CHECK_IN>. <CHECK_IN>. I woke up in front of the pussy (@ Victory Monument in Ratchathewi, Bangkok) <URL>. Not JD (@ Victory Monument in Ratchathewi, Bangkok) <URL>. Mae (@ Victory Monument in Ratchathewi, Bangkok) <URL>. Ipayu (@Denanda Dental Clinic in Bangkok) <URL>. 5th time (@ BAR-B-Q Plaza in Bangkok) <URL>. <CHECK_IN>. <CHECK_IN>.  (@ Saxophone Pub in Ratchathewi, Bangkok) <URL>. <CHECK_IN>. <CHECK_IN>. <CHECK_IN>. <CHECK_IN>. <CHECK_IN>. <CHECK_IN>. <CHECK_IN>. <CHECK_IN>. <CHECK_IN>. Fullsun (@ Victory Monument in Ratchathewi, Bangkok) <URL>. Thanks for the great birthday (@ Wat Tassanarunsarikaram (Wat Taphan) in Ratchathewi, Bangkok) <URL>. <CHECK_IN>. <CHECK_IN>. <CHECK_IN>.  (@ We by Phoenix in Ratchathewi, Bangkok) <URL>. <CHECK_IN>. <CHECK_IN>. <CHECK_IN>. <CHECK_IN>. #rainnyseason (@ Thailand) <URL>. <CHECK_IN>. <CHECK_IN>. <CHECK_IN>. <CHECK_IN>. <CHECK_IN>. <CHECK_IN>. <CHECK_IN>. <CHECK_IN>. Fans back to the flashback at the age of 16 to find a red shirt (@ Center One in Ratchathewi, Bangkok) <URL>. <CHECK_IN>. <CHECK_IN>. <CHECK_IN>. <CHECK_IN>. This morning. Laziness # fridaymorning ... <URL>. <CHECK_IN>. <CHECK_IN>. &amp;   #bokxfilm @ Factory Coffee - Bangkok <URL>. <CHECK_IN>. I'm sorry to hear tha <MENTION> 'm sorry to hear that.. <CHECK_IN>. <CHECK_IN>. Brunch  with giant @minimyuziq (@ อีท เเอม อาร์ in Ratchathewi, Bangkok) <URL>. <CHECK_IN>. <CHECK_IN>. <CHECK_IN>.  \n",
      "\n",
      "<CHECK_IN>. Husky  (@ TrueLove @ Neverland in Phaya Thai, Bangkok) <URL>. <CHECK_IN>. <CHECK_IN>. <CHECK_IN>. <CHECK_IN>. <CHECK_IN>. <CHECK_IN>. <CHECK_IN>. <CHECK_IN>. <CHECK_IN>. Bisexual with snake intereste <MENTION> isexual with snake interested.. <CHECK_IN>. Slee <MENTION> leepy. <CHECK_IN>. <CHECK_IN>. Do not do it (@ Phaya Thai Hospital 2 in Phaya Thai, Bangkok) <URL>. <CHECK_IN>. The drug sale (@ Rajvithi Pharmacy in BANGKOK) <URL>. This is crazy. I bought a waterfall, but have to go back to eat. But this is not home yet . <MENTION> his is crazy. I bought a waterfall, but have to go back to eat. But this is not home yet .... <CHECK_IN>. <CHECK_IN>. <CHECK_IN>. <CHECK_IN>. <CHECK_IN>. <CHECK_IN>. I can not wait to see you agai <MENTION>  can not wait to see you again..  \n",
      "\n",
      "<CHECK_IN>. <CHECK_IN>. <CHECK_IN>. <CHECK_IN>. <CHECK_IN>. Friday night (@ Casa Azul) <URL>. <CHECK_IN>. <CHECK_IN>. <CHECK_IN>. <CHECK_IN>. <CHECK_IN>. <CHECK_IN>. <CHECK_IN>. <CHECK_IN>. <CHECK_IN>. Day 3 Tawa (@ SME Development Bank of Thailand) in Phaya Thai, Bangkok) <URL>. I'm Ton Chin Can Windows in Bangkok <URL>. <CHECK_IN>. <CHECK_IN>. <CHECK_IN>. Good evening today (@ SME Development Bank in Phaya Thai, Bangkok) <URL>. Birthday My Boy  (@ Cast Iron Burgerhaus in Phaya Thai, Bangkok) <URL>. Runny nose (@ Meeting Room 313 Comptroller General's Department) <URL>. We're early and we got a nice table. #bogopizza (@ Cantina Wine Bar &amp; Restaurant in Phaya Thai, Bangkok)… <URL>. I think it's a bit sweet bc it's been a long time for foreign beer. - Drinking a 'na Biretta Rossa by @Birradamare… <URL>. <CHECK_IN>. <CHECK_IN>. <CHECK_IN>. Spaghetti Tom Yum Shrimp #spaghetti #spicy # tomyum ... <URL>. Celebrate new T-shirt. We printed on our t-shirt… <URL>. Very cool (@ SME Bank of Thailand) in Phaya Thai, Bangkok) <URL>. | Free Hugs I do not know what to d <MENTION>  Free Hugs I do not know what to do.. 'You're my friend ... <URL>.  \n",
      "\n",
      "with Elle &lt;3 (@ BBL Canteen in Yan Nawa, Bangkok) <URL>.  \n",
      "\n",
      "<CHECK_IN>.  \n",
      "\n",
      " \n",
      "\n",
      "<CHECK_IN>. <CHECK_IN>. <CHECK_IN>. <CHECK_IN>. depress <MENTION> epressed. <CHECK_IN>. <CHECK_IN>. <CHECK_IN>. <CHECK_IN>. Agency life. (@ GREY NJ United w/ @kaewmangkorn) <URL>.  \n",
      "\n",
      "I just finished running 10.12 km in 1h:03m:02s with #Endomondo #endorphins <URL>. I just finished running 10.03 km in 1h:05m:38s with #Endomondo #endorphins <URL>. I just finished running 7.60 km in 47m:38s with #Endomondo #endorphins <URL>. <CHECK_IN>.  (@ Polo Fried Chicken in Pathum Wan, Bangkok) <URL>. I just finished running 19.44 km in 2h:34m:44s with #Endomondo #endorphins <URL>. I just finished running 2.50 km in 22m:59s with #Endomondo #endorphins <URL>. Around the very noon people (@ Redeemer Church in Pathum Wan, Bangkok) <URL>. <CHECK_IN>. I was out running 10.67 km with #Endomondo #endorphins <URL>. <CHECK_IN>. I just finished running 20.13 km in 2h:24m:06s with #Endomondo #endorphins <URL>. <CHECK_IN>. <CHECK_IN>. I just finished running 6.11 km in 1h:12m:45s with #Endomondo #endorphins <URL>. <CHECK_IN>. TT (@ Embassy of Japan in Thailand - @japanemb_thai in Pathum Wan, Bangkok) <URL>. <CHECK_IN>. I just finished running 7.56 km in 44m:23s with #Endomondo #endorphins <URL>. <CHECK_IN>. Google map หลอกกุ (@ Embassy of Japan in Thailand - @japanemb_thai in Pathum Wan, Bangkok) <URL>. Do not leave me ... <URL>.  \n",
      "\n",
      "<CHECK_IN>. <CHECK_IN>. <CHECK_IN>. <CHECK_IN>. <CHECK_IN>. <CHECK_IN>.  <MENTION>  is offline. Accomplished (@ JVAC (Japan Visa Application Centre) in Bangkok) <URL>. <CHECK_IN>. 5.00 .... be like orzzzz (@ Central Embassy in Pathum Wan, Bangkok) <URL>. ปั่นๆๆ (@ Virgin Active Wireless Road in Lumphini, Bangkok) <URL>. I do not like to travel to the mall; -; (@ Central Embassy in Pathum Wan, Bangkok) <URL>. <CHECK_IN>. <CHECK_IN>. #internshipDAY1 (@ Allen &amp; Overy in Rong Mueang, Bangkok) <URL>. <CHECK_IN>. 1st day (@ Itorama Taskworld in Pathum wan, Thailand) <URL>. Found something to read #capeandkantary (@ Suzuki Coffee in Makkasan, Bangkok) <URL>. <CHECK_IN>. <CHECK_IN>. <CHECK_IN>. <CHECK_IN>. <CHECK_IN>. <CHECK_IN>. <CHECK_IN>. <CHECK_IN>. <CHECK_IN>. <CHECK_IN>. <CHECK_IN>. <CHECK_IN>. <CHECK_IN>. <CHECK_IN>. <CHECK_IN>. I love this amazing city! Bangkok (@ Central Embassy in Pathum Wan, Bangkok w/ @curtis91324)… <URL>. <CHECK_IN>. Dog (@ BTS Phloen Chit - @bts_skytrain in Pathum Wan, Bangkok w / @ncoctail) <URL>. <CHECK_IN>. Need some coffe (@ Ploenchit Center in Khlong Toei, Bangkok) <URL>. <CHECK_IN>. <CHECK_IN>. <CHECK_IN>. <CHECK_IN>. Madsaki exhibition (@ Central Embassy in Pathum Wan, Bangkok) <URL>. Drinking a Singha by @singhaclub @ The Landmark Bangkok — <URL>. <CHECK_IN>. #EatThai  cooked by Burmese  (@ Eathai in Pathum Wan, Bangkok) <URL>. <CHECK_IN>. <CHECK_IN>. Day-2 (@Krungthai Bank Headquarters, Sukhumvit Building (Building 2) - @ktb_care in Khlong Toei, Khlong Toei, Bangkok <URL>. <CHECK_IN>. <CHECK_IN>. <CHECK_IN>. <CHECK_IN>. <CHECK_IN>.  <MENTION>  . @tweetbot uses Google.. <CHECK_IN>. <CHECK_IN>. <CHECK_IN>. <CHECK_IN>. <CHECK_IN>. A nice #coffee and little chocolate (@ Dean &amp; DeLuca in Pathum Wan, Bangkok) <URL>. <CHECK_IN>. I do not eat Burger King very long. French fries are still the sam <MENTION>  do not eat Burger King very long. French fries are still the same.. <CHECK_IN>. <CHECK_IN>. <CHECK_IN>. <CHECK_IN>. RPM  (@ Virgin Active Wireless Road in Lumphini, Bangkok) <URL>. <CHECK_IN>. God bless me (@ BTS Phloen Chit - @bts_skytrain in Pathum Wan, Bangkok) <URL>. <CHECK_IN>. Batch meeting ... (@ KTB Computer Services in Wattana, Bangkok) <URL>. <CHECK_IN>. <CHECK_IN>. <CHECK_IN>. <CHECK_IN>. <CHECK_IN>. <CHECK_IN>. <CHECK_IN>. <CHECK_IN>. <CHECK_IN>. <CHECK_IN>. <CHECK_IN>. <CHECK_IN>. <CHECK_IN>. <CHECK_IN>. <CHECK_IN>. <CHECK_IN>. <CHECK_IN>. <CHECK_IN>. บาย (@ Tonson Tower in Pathum Wan, Bangkok) <URL>. <CHECK_IN>. <CHECK_IN>. <CHECK_IN>. First Event! I do not want to be rude with the time and people (@ circle in Pathum Wan, Bangkok) <URL>. Finally it's friday. (@ KSPT Tower in Bangkok) <URL>. Friday (@ Allen &amp; Overy in Rong Mueang, Bangkok) <URL>. <CHECK_IN>. Kicks off “Negrori Week” We’re so glad to… <URL>. <CHECK_IN>. I have to ask you to @ ... <URL>. Coffee Shop  @ CENTRAL EMBASSY <URL>. Sharon has moved to Australia ... <URL>. Sharon has moved to Australia ... <URL>. Loreal curia curing lotion S Sensitized hair 100… <URL>. <CHECK_IN>. Welcome party (@ Another Hound Caf in Pathum Wan, Bangkok) <URL>. <CHECK_IN>. I'm not sure what you mean by that. <URL>. The people who eat the main dish are fried ... <URL>. <CHECK_IN>. <CHECK_IN>.  \n",
      "\n",
      " <MENTION> w. Smooth freshly brewed #coffee in air-conditioning (@ LADY L Garden Bistro in Lumpini, Bangkok)… <URL>. It is certainly a #bluesky here in #Bangkok, what’s the weather like where you are? (@ ท่าเรือนานาเหนือ (Nana Nua P… <URL>. I just finished cycling 23.38 km in 1h:02m:42s with #Endomondo #endorphins <URL>. I have to admit that I have not had a chance to do tha <MENTION>  have to admit that I have not had a chance to do that..  \n",
      "\n",
      "Thanks my mom! From JAPAN  # # # # # # # # #SHOEGOO # # # <URL>.  \n",
      "\n",
      "<CHECK_IN>. I just finished running 5.05 km in 46m:32s with #Endomondo #endorphins <URL>. I like this one, I like i <MENTION>  like this one, I like it.. Thanks Thanks I just finished running 5.25 km in 40m: 00s with #Endomondo <URL>. <CHECK_IN>. #cooking <URL>.  \n",
      "\n",
      "<CHECK_IN>. <CHECK_IN>. <CHECK_IN>. @Bree_Free @Bree_skytrain in Phaya Thai, Bangkok) <URL>. <CHECK_IN>. <CHECK_IN>. <CHECK_IN>. <CHECK_IN>. <CHECK_IN>. How about a to <MENTION> ow about a ton?. <CHECK_IN>.  I rely on hair. Smoke from all the tables caught me all. 555555 (@ Pepper Lunch in Bangkok) <URL>. <CHECK_IN>. <CHECK_IN>. <CHECK_IN>. <CHECK_IN>. <CHECK_IN>. <CHECK_IN>. <CHECK_IN>.  \n",
      "\n",
      " \n",
      "\n",
      " \n",
      "\n",
      "<CHECK_IN>. It's a little closer but no car to g <MENTION> t's a little closer but no car to go..  \n",
      "\n",
      "<CHECK_IN>. <CHECK_IN>. First date, bring your girlfriend to this restaurant (@ Duck noodle soup dance in Khlong Toei, Bangkok) <URL>. <CHECK_IN>. <CHECK_IN>. <CHECK_IN>. <CHECK_IN>. <CHECK_IN>. <CHECK_IN>. <CHECK_IN>. <CHECK_IN>. <CHECK_IN>. Love this place (@ El Mercado in Khlong Toei, Bangkok) <URL>. <CHECK_IN>. <CHECK_IN>. <CHECK_IN>. <CHECK_IN>. <CHECK_IN>. <CHECK_IN>. <CHECK_IN>. <CHECK_IN>. <CHECK_IN>. <CHECK_IN>. <CHECK_IN>.  <MENTION>  Wrong again. It’s amazing the bullshit you spew out with no clue of what is actually going on. Just lik… <URL>. The meeting was about excise taxes. More bullshit from pineapple brain. <URL>. Translation: The farm girl I barfined had no clue what she was talking about, but I quoted her anyway. <URL>. <CHECK_IN>. <CHECK_IN>. <CHECK_IN>. <CHECK_IN>. <CHECK_IN>. <CHECK_IN>. No extra charge for the stink. <URL>. #ProTip: Just elbow your way to the head of the line and use the 3rd  turnstile on left next to the ticket booth at… <URL>. Water weekend by the #Dodgers! Sweeeeep!  The performance by the offense – 33 runs – is tremendous, but the story o… <URL>. <CHECK_IN>. <CHECK_IN>. <CHECK_IN>.  <MENTION>  Tie the bag  Dispose of near your own food cart  Dispose of properly in large bin.   You gone native… <URL>. <CHECK_IN>. Hold on everybody, this is going to be a rough one… <URL>. Hang on everyone, this is going to be a rough one... <URL>. <CHECK_IN>. <CHECK_IN>. What do you do here? (@ The Sacred Convent School in Bangkok, Bangkok) <URL>. <CHECK_IN>. <CHECK_IN>. I mean, ok. If someone here were to try and l shoot up or pee or commit vandalism, they’d almost certainly be shot… <URL>. 11:35 PM local time start for a #Dodgers game! Get to watch live for once. I get a scratched starter and a leadoff… <URL>. The background on the  @Pirates military appreciation uniforms. #http://triblive.com/sports/pirates/13252416-74/pir… <URL>. Q: Has he ever really looked good?  AAAA in my book. <URL>. The background on the  @Pirates military appreciation uniforms.  #Dodgers  <URL>. #Dodgers Welcome back Pedro. Couldn’t you have left those runs in Oklahom <MENTION> Dodgers Welcome back Pedro. Couldn’t you have left those runs in Oklahoma?. Mart Kemp: White Hot. @TheRealMattKemp #Dodge <MENTION> art Kemp: White Hot. @TheRealMattKemp #Dodgers. #Dodgers Lovin’ the small ball.  Good baseball is fun-d-ment <MENTION> Dodgers Lovin’ the small ball.  Good baseball is fun-d-mental. At the rate the injuries are piling up, I’m starting to think that even I am a credible candidate to join the #Dodgers bullpe <MENTION> t the rate the injuries are piling up, I’m starting to think that even I am a credible candidate to join the #Dodgers bullpen.. There he goes! @Cody_Bellinger goes Oppo! Now we just need somebody to cover the rest of the outs... #Dodge <MENTION> here he goes! @Cody_Bellinger goes Oppo! Now we just need somebody to cover the rest of the outs... #Dodgers. Have yourself a day @yungjoc650 ! #Dodge <MENTION> ave yourself a day @yungjoc650 ! #Dodgers. You were saying? #Dodgers <URL>.  <MENTION>  Exactly. I hate it when you’re right. . Yeah, Brock Stewart is blaming it on Muncy... #Dodge <MENTION> eah, Brock Stewart is blaming it on Muncy... #Dodgers. #Dodgers @Cody_Bellinger with the shycl <MENTION> Dodgers @Cody_Bellinger with the shycle.. #Dodgers The TOOTBLAN cancels out the bunt, almos <MENTION> Dodgers The TOOTBLAN cancels out the bunt, almost.. Bullpen on E, #Dodgers get it done, barely, 8-7. Hugely successful  <MENTION>  road trip. Back to LA to lose to the Braves tomorrow. #Exhausted. <CHECK_IN>. <CHECK_IN>. <CHECK_IN>. <CHECK_IN>.  \n",
      "\n",
      "<CHECK_IN>. I just finished running 5.30 km in 55m:01s with #Endomondo #endorphins <URL>. I just finished running 11.02 km in 1h:12m:53s with #Endomondo #endorphins <URL>. <CHECK_IN>. <CHECK_IN>. Saturday brunch !!! (@ Mexicano in Watthana, Bangkok) <URL>. <CHECK_IN>. I was out running 8.02 km with #Endomondo #endorphins <URL>. <CHECK_IN>. <CHECK_IN>. I just finished running 5.13 km in 44m:42s with #Endomondo #endorphins <URL>. <CHECK_IN>. <CHECK_IN>. <CHECK_IN>. I just finished running 12.35 km in 1h:21m:23s with #Endomondo #endorphins <URL>. <CHECK_IN>. <CHECK_IN>. <CHECK_IN>. <CHECK_IN>. I just finished running 3.01 km in 39m:17s with #Endomondo #endorphins <URL>. Fix it!  @ ATI Asco… <URL>. <CHECK_IN>. R U Ready for… <URL>. Well, there are real ... <URL>.  \n",
      "\n",
      "<CHECK_IN>. <CHECK_IN>. <CHECK_IN>. <CHECK_IN>. <CHECK_IN>. <CHECK_IN>. <CHECK_IN>. <CHECK_IN>. <CHECK_IN>. <CHECK_IN>. <CHECK_IN>. <CHECK_IN>. <CHECK_IN>. <CHECK_IN>. <CHECK_IN>. <CHECK_IN>. <CHECK_IN>. <CHECK_IN>. <CHECK_IN>. <CHECK_IN>. Come to this, but this is not our name. #whitewo <URL>. <CHECK_IN>. I can not wait to see you again! (@ After You in Vadhana) <URL>. <CHECK_IN>. good to be back (@ Wattana Wittaya Academy in Vadhana, Bangkok) <URL>. <CHECK_IN>. <CHECK_IN>. <CHECK_IN>. <CHECK_IN>. <CHECK_IN>. <CHECK_IN>. <CHECK_IN>. <CHECK_IN>. <CHECK_IN>. <CHECK_IN>. The only one to go to @ 5555 (@Temminute Day in Vadhana, Bangkok) <URL>. <CHECK_IN>. Asoke Day 1 (@Teep Sae) <URL>. <CHECK_IN>. <CHECK_IN>. <CHECK_IN>. <CHECK_IN>. <CHECK_IN>. Donuts Day (@ Dunkin' Donuts in Vadhana, Bangkok) <URL>. <CHECK_IN>. <CHECK_IN>. <CHECK_IN>. <CHECK_IN>. <CHECK_IN>. <CHECK_IN>. <CHECK_IN>. <CHECK_IN>. <CHECK_IN>. <CHECK_IN>. <CHECK_IN>. <CHECK_IN>. <CHECK_IN>. <CHECK_IN>. <CHECK_IN>. <CHECK_IN>. <CHECK_IN>. <CHECK_IN>. <CHECK_IN>. <CHECK_IN>. <CHECK_IN>. <CHECK_IN>. Wait for an hour Want to go somewhere els <MENTION> ait for an hour Want to go somewhere else?. <CHECK_IN>. <CHECK_IN>. <CHECK_IN>. <CHECK_IN>. <CHECK_IN>. <CHECK_IN>. <CHECK_IN>. <CHECK_IN>. <CHECK_IN>.  <MENTION>  Review. <CHECK_IN>. <CHECK_IN>. <CHECK_IN>. <CHECK_IN>. I just finished trail running 50.06 km in 7h:47m:07s with #Endomondo #endorphins <URL>. <CHECK_IN>. <CHECK_IN>. <CHECK_IN>. And then Ashoka is still a car. The busiest road in Thailand # Hungry to eat elephants (@ Seoul B.B.Q in Va ... <URL>. <CHECK_IN>. <CHECK_IN>. The Brotherhood (@ The Siam Society in Vadhana, Bangkok) <URL>. <CHECK_IN>. happy sunday (?) (@ Starbucks in Watthana, Krung Thep Maha Nakhon) <URL>. <CHECK_IN>. <CHECK_IN>. <CHECK_IN>. <CHECK_IN>. This is another day .. ^ ^ (@ Terminal Twentieth in Vadhana, Bangkok) <URL>. <CHECK_IN>. <CHECK_IN>. <CHECK_IN>. <CHECK_IN>. <CHECK_IN>. <CHECK_IN>. <CHECK_IN>. <CHECK_IN>. <CHECK_IN>. <CHECK_IN>. <CHECK_IN>. <CHECK_IN>. Watching \"Love, Simon\" (@ SF Cinema City - @welovesf in Vadhana, Bangkok) <URL>. <CHECK_IN>. <CHECK_IN>. <CHECK_IN>. <CHECK_IN>. <CHECK_IN>. <CHECK_IN>. <CHECK_IN>. <CHECK_IN>. <CHECK_IN>. <CHECK_IN>. <CHECK_IN>. <CHECK_IN>. <CHECK_IN>.  (@ McDonald's &amp; McCaf - @mcthai in Vadhana, Bangkok) <URL>. 1st day — pls have mercy on me  (@ Four Points by Sheraton Bangkok, Sukhumvit 15 in Bangkok, T <MENTION> 0) <URL>. <CHECK_IN>. <CHECK_IN>. Day2 (@ Minor Corporation ETL) <URL>. 1st day trainee (@ Homie hostel&amp;caf) <URL>. <CHECK_IN>. <CHECK_IN>. <CHECK_IN>. <CHECK_IN>. <CHECK_IN>. <CHECK_IN>. <CHECK_IN>. <CHECK_IN>. <CHECK_IN>. <CHECK_IN>. <CHECK_IN>. <CHECK_IN>. <CHECK_IN>. <CHECK_IN>. <CHECK_IN>. <CHECK_IN>. <CHECK_IN>. <CHECK_IN>. <CHECK_IN>. <CHECK_IN>. <CHECK_IN>. <CHECK_IN>. <CHECK_IN>. <CHECK_IN>. <CHECK_IN>. <CHECK_IN>. <CHECK_IN>. <CHECK_IN>. <CHECK_IN>. <CHECK_IN>. I used to buy the Laab (@Market in Vadhana, Bangkok) <URL>. <CHECK_IN>. Live in this neighborhood (@Market Market in Vadhana, Bangkok) <URL>. <CHECK_IN>. <CHECK_IN>. <CHECK_IN>. <CHECK_IN>. <CHECK_IN>. <CHECK_IN>. No need to put students (@ Student Services Division) <URL>. <CHECK_IN>. <CHECK_IN>. <CHECK_IN>. <CHECK_IN>. <CHECK_IN>. <CHECK_IN>. <CHECK_IN>. <CHECK_IN>. <CHECK_IN>. Advance Course - Last day (@ Exchange Tower in Khlong Toei, Bangkok w / @flankyotin) <URL>. Of course, I'm not alone. (@KFC - @kfcth in Vadhana, Bangkok w / @bunqyx) <URL>. I just finished running 15.25 km in 1h:36m:54s with #Endomondo #endorphins <URL>. <CHECK_IN>. <CHECK_IN>. <CHECK_IN>. I'm a bit bored (@ Srinakharinwirot University in Vadhana, Bangkok) <URL>. <CHECK_IN>. <CHECK_IN>. <CHECK_IN>. <CHECK_IN>. <CHECK_IN>. <CHECK_IN>. <CHECK_IN>. <CHECK_IN>. <CHECK_IN>. <CHECK_IN>. <CHECK_IN>.  (@ GMM Grammy Place in Vadhana, Bangkok) <URL>. Do not eat coffee to eat a lot of work will be effective (at @KiatnakinBank in Vadhana, Bangkok) <URL>. <CHECK_IN>. <CHECK_IN>. <CHECK_IN>. <CHECK_IN>. <CHECK_IN>. <CHECK_IN>. <CHECK_IN>. <CHECK_IN>. <CHECK_IN>. I'm not sure what to sa <MENTION>  not sure what to say.. Thanks for the hel <MENTION> for the help!. <CHECK_IN>. <CHECK_IN>. <CHECK_IN>. <CHECK_IN>. Every day real puzzles (@Market Market in Vadhana, Bangkok) <URL>. <CHECK_IN>. <CHECK_IN>. <CHECK_IN>. <CHECK_IN>. <CHECK_IN>. <CHECK_IN>. <CHECK_IN>. <CHECK_IN>. <CHECK_IN>. Jurassic World (@ SF Cinema City - @welovesf in Vadhana, Bangkok) <URL>. <CHECK_IN>. <CHECK_IN>. <CHECK_IN>. <CHECK_IN>. <CHECK_IN>. <CHECK_IN>. <CHECK_IN>. <CHECK_IN>. <CHECK_IN>. <CHECK_IN>. <CHECK_IN>. <CHECK_IN>. Bangkok’s Blue Line subway stations are pristine, ticket purchase machines are brilliant, trains are silent.  I kno… <URL>. I mean, ok. If someone here were to try and l shoot up or pee or commit vandalism, they’d almost certainly be shot… <URL>. <CHECK_IN>. <CHECK_IN>. Good Night from here  (@ Dream Hotel Bangkok in Vadhana, Bangkok) <URL>. <CHECK_IN>. <CHECK_IN>. breakfast  (@ Flava Restaurant in Watthana, Bangkok) <URL>. <CHECK_IN>. <CHECK_IN>. <CHECK_IN>. Regrann from @giurockko  -… <URL>. <CHECK_IN>. <CHECK_IN>. I'm not sure what to say. <URL>. <CHECK_IN>. I will nevet get tired of visiting this… <URL>. I'm sorr <MENTION> 'm sorry.. Hello ... !! Today we working  @ Terminal21 <URL>. dance again tonight same place same time … <URL>. <CHECK_IN>. <CHECK_IN>. <CHECK_IN>. <CHECK_IN>. <CHECK_IN>. <CHECK_IN>. Super Charger 3 in 1  . Best Gadget!!!… <URL>. We have the pool all by ourselves… <URL>. <CHECK_IN>. <CHECK_IN>. # 30 <URL>. # Study in Dubai I'm not sure what to d <MENTION>  Study in Dubai I'm not sure what to do.. Clipped Power Bank  . Usams US-CD54 Nano… <URL>.  \n",
      "\n",
      "<CHECK_IN>. Only in Thailand would you go in for eye surgery &amp; get a foot massage as part of the pre-op regimen. #ThisAintNoGovernmentHospit <MENTION> nly in Thailand would you go in for eye surgery &amp; get a foot massage as part of the pre-op regimen. #ThisAintNoGovernmentHospital.  (@ Tourism Authority of @ThailandFanclub in Ratchathewi, Bangkok) <URL>. <CHECK_IN>. <CHECK_IN>. <CHECK_IN>. <CHECK_IN>. <CHECK_IN>. <CHECK_IN>. <CHECK_IN>.  <MENTION>  L is offline. <CHECK_IN>. The first screen shirt. The man who handed the paper away. Let's stand and write at the table. Behind the Long Korn To wait for the lette <MENTION> he first screen shirt. The man who handed the paper away. Let's stand and write at the table. Behind the Long Korn To wait for the letter.. <CHECK_IN>. <CHECK_IN>. <CHECK_IN>.  <MENTION> . <CHECK_IN>. <CHECK_IN>. <CHECK_IN>. <CHECK_IN>. <CHECK_IN>. <CHECK_IN>. <CHECK_IN>. Thanks for the hel <MENTION> or the help!. @ @ @ @ @ @ @ @ @ @ @ @ @ @ @ @ @ @ @ @ @ @ @ @ @ @ @ @ @ @ @ @ @ @ @ @ @ @ @ @ @ @ @ @ @ @ @ @ @ @ @ @ @ <MENTION> @ @ @ @ @ @ @ @ @ @ @ @ @ @ @ @ @ @ @ @ @ @ @ @ @ @ @ @ @ @ @ @ @ @ @ @ @ @ @ @ @ @ @ @ @ @ @ @ @ @. <CHECK_IN>. <CHECK_IN>. <CHECK_IN>. <CHECK_IN>. <CHECK_IN>. <CHECK_IN>. <CHECK_IN>. <CHECK_IN>. <CHECK_IN>. <CHECK_IN>. <CHECK_IN>. <CHECK_IN>. <CHECK_IN>. Take a shirt friend. I love you so much ~ (Cat Tshirt 5 in Bangkok) <URL>. You promised me to love each othe <MENTION> ou promised me to love each other.. <CHECK_IN>. <CHECK_IN>. <CHECK_IN>. <CHECK_IN>. <CHECK_IN>. <CHECK_IN>. <CHECK_IN>. <CHECK_IN>.  \n",
      "\n",
      "<CHECK_IN>. <CHECK_IN>. I love you - I love you - I love you #fu <MENTION>  love you - I love you - I love you #fuck. For the first time in a year (@Degree Clinic, Bangkok) <URL>. I do not know what to d <MENTION>  do not know what to do.. I just finished running 4.35 km in 35m:29s with #Endomondo #endorphins <URL>.  \n",
      "\n",
      "Last Day at UBA (@ Din Daeng Water Treatment Plant, Bangkok) <URL>. You have to go to her to go to Wat Arun Wat Phra Kaew <URL>.  \n",
      "\n",
      "<CHECK_IN>. <CHECK_IN>. Do not run long, touch that. The good guys have more. 55555 <MENTION> o not run long, touch that. The good guys have more. 5555555. I'm not sure if this is the right place for yo <MENTION> 'm not sure if this is the right place for you.. (@ University of the Thai Chamber of Commerce - @utccsmart in Din Daeng, Bangkok) <URL>. I'm not sure what to sa <MENTION>  sure what to say.. <CHECK_IN>. Just know that the #Corgi dog breed tail to reduce health problems aft <MENTION> ust know that the #Corgi dog breed tail to reduce health problems after. <CHECK_IN>. <CHECK_IN>. (@ University of the Thai Chamber of Commerce - @utccsmart in Din Daeng, Bangkok) <URL>. <CHECK_IN>. <CHECK_IN>. Tea time (@ The First Espresso) <URL>. <CHECK_IN>. <CHECK_IN>. <CHECK_IN>. I was greeted by a cute bird at the side of Yayao Daj <MENTION>  was greeted by a cute bird at the side of Yayao Daja.. I like it ... <URL>.  \n",
      "\n",
      "I just finished cycling 16.04 km in 1h:03m:14s with #Endomondo #endorphins <URL>.  \n",
      "\n",
      "I just finished cycling 2.56 km in 13m:56s with #Endomondo #endorphins <URL>.  \n",
      "\n",
      " \n",
      "\n",
      "<CHECK_IN>. <CHECK_IN>. <CHECK_IN>. Eat the Beast (@ Foamy Steak House) <URL>. <CHECK_IN>. <CHECK_IN>. <CHECK_IN>. <CHECK_IN>. <CHECK_IN>. <CHECK_IN>. <CHECK_IN>. <CHECK_IN>. Fake Pig (@ Seven Chick Shop) <URL>. <CHECK_IN>.  \n",
      "\n",
      "<CHECK_IN>. <CHECK_IN>. <CHECK_IN>. <CHECK_IN>. <CHECK_IN>. <CHECK_IN>. <CHECK_IN>. <CHECK_IN>. <CHECK_IN>. <CHECK_IN>. <CHECK_IN>. Have a withdrawal (@ Bangkok Bank in Watthana, Bangkok) <URL>. <CHECK_IN>. Beautiful (@ Doctor Life) <URL>. I just finished running 13.13 km in 1h:26m:26s with #Endomondo #endorphins <URL>. <CHECK_IN>. <CHECK_IN>. <CHECK_IN>. <CHECK_IN>. <CHECK_IN>. <CHECK_IN>. <CHECK_IN>. <CHECK_IN>. <CHECK_IN>. <CHECK_IN>. <CHECK_IN>. <CHECK_IN>. <CHECK_IN>. <CHECK_IN>. <CHECK_IN>. Cleaned my silver (@ Tiffany &amp; Co. in Khlong Toei) <URL>. Faces Places (@ Quartier CineArt in Vadhana, Bangkok) <URL>. <CHECK_IN>. <CHECK_IN>. I just finished running 10.29 km in 1h:05m:04s with #Endomondo #endorphins <URL>. I miss you so much (@m Kwatier in Watthana, Bangkok) <URL>. <CHECK_IN>. <CHECK_IN>. But I can not wait to see you again (@M Kwa Tiara in Watthana, Bangkok) <URL>. <CHECK_IN>. I just finished running 5.42 km in 34m:34s with #Endomondo #endorphins <URL>. <CHECK_IN>. <CHECK_IN>. <CHECK_IN>. <CHECK_IN>. <CHECK_IN>. Oh come on! (@MM Kwai in Watthana, Bangkok) <URL>. <CHECK_IN>. <CHECK_IN>. <CHECK_IN>. I’m here (@ EmQuartier in Watthana, Bangkok) <URL>. <CHECK_IN>. <CHECK_IN>. <CHECK_IN>. <CHECK_IN>. <CHECK_IN>. @ Rapi-Rabi Color For Life in Khlong Toei, Bangkok) <URL>. <CHECK_IN>. <CHECK_IN>. <CHECK_IN>. <CHECK_IN>. first time (@ EmQuartier in Watthana, Bangkok) <URL>. <CHECK_IN>. <CHECK_IN>. 5555555555555555555555555555555555555555 (@ EmQuartier in Watthana, Bangkok) <URL>. <CHECK_IN>. <CHECK_IN>. <CHECK_IN>. <CHECK_IN>. Taiwan is waiting for me. @M Kwa Tiara in Watthana, Bangkok) <URL>. <CHECK_IN>. <CHECK_IN>. <CHECK_IN>. <CHECK_IN>. <CHECK_IN>. <CHECK_IN>. <CHECK_IN>. I'm sorry to forget about yo <MENTION> 'm sorry to forget about you.. Check out the money by the rich (debt) 55555555555555 (@ Kasikorn Bank in Watthana, Bangkok) ... <URL>. <CHECK_IN>. <CHECK_IN>. <CHECK_IN>. <CHECK_IN>. I love you so much! #PeckPalitchoke # Le Pont where it is deliciou <MENTION>  love you so much! #PeckPalitchoke # Le Pont where it is delicious.. <CHECK_IN>. <CHECK_IN>. <CHECK_IN>. <CHECK_IN>. <CHECK_IN>. <CHECK_IN>. <CHECK_IN>. <CHECK_IN>. <CHECK_IN>. This night in this place ..... (@M Kwatier in Watthana, Bangkok) <URL>. <CHECK_IN>. <CHECK_IN>. <CHECK_IN>. <CHECK_IN>. <CHECK_IN>. <CHECK_IN>. <CHECK_IN>. Had to at least once on the trip (@ Starbucks in Vadhana) <URL>. <CHECK_IN>. <CHECK_IN>. I just finished running 10.19 km in 1h:02m:52s with #Endomondo #endorphins <URL>. <CHECK_IN>. I just finished running 10.44 km in 1h:01m:50s with #Endomondo #endorphins <URL>. fff (@ EmQuartier in Watthana, Bangkok) <URL>. with love (@ You &amp; I Premium Suki The EMquartier in Khlong Toei Nuea, Bangkok) <URL>. <CHECK_IN>. <CHECK_IN>. ท้อ (@ Bangkok Marriott Marquis Queen’s Park in Bangkok, T <MENTION> 0) <URL>. <CHECK_IN>. <CHECK_IN>. Spicy Ginger Jelly is sweet and tasty. The store has two floors. The first floor of the vegetable market, the second floor ... <URL>. <CHECK_IN>. <CHECK_IN>. <CHECK_IN>. <CHECK_IN>. I just finished running 10.95 km in 1h:09m:23s with #Endomondo #endorphins <URL>. I just finished running 10.43 km in 1h:03m:02s with #Endomondo #endorphins <URL>. <CHECK_IN>.  <MENTION> . <CHECK_IN>. <CHECK_IN>. <CHECK_IN>. <CHECK_IN>. This is good. Clear picture I have a lot of land that people want to park a lot. I do not want to sell I do not want to invest a lot of money. <URL>.  <MENTION>  see, but people are obsessed with pussy narrative.. New MacOS has dark mode, but iOS 12 is not because people use a lot. I need to put only iOS 12 on the iPhone to sell later this yea <MENTION> ew MacOS has dark mode, but iOS 12 is not because people use a lot. I need to put only iOS 12 on the iPhone to sell later this year..  <MENTION>  only area Thonglor - Ekkamai. <CHECK_IN>. <CHECK_IN>.  <MENTION> . I really do not think that this case is sexism as a real estate agent. I would answer most. The staff is clean and tidy ... <URL>. <CHECK_IN>. <CHECK_IN>. <CHECK_IN>. With Virgin (Em Active EmQuartier in Vadhana) <URL>. <CHECK_IN>. <CHECK_IN>. <CHECK_IN>. I just finished running 10.38 km in 1h:03m:53s with #Endomondo #endorphins <URL>. I just finished running 10.69 km in 1h:25m:02s with #Endomondo #endorphins <URL>. <CHECK_IN>. <CHECK_IN>. <CHECK_IN>. <CHECK_IN>. <CHECK_IN>. <CHECK_IN>. <CHECK_IN>. Do not miss it (@ Custard Nakamura in Vadhana, Bangkok) <URL>. <CHECK_IN>. <CHECK_IN>. <CHECK_IN>. <CHECK_IN>. <CHECK_IN>. <CHECK_IN>. <CHECK_IN>. <CHECK_IN>. <CHECK_IN>. <CHECK_IN>. <CHECK_IN>. <CHECK_IN>. <CHECK_IN>. <CHECK_IN>. ConnectedDrive ... @ Bangkok Marriott Marquis… <URL>. <CHECK_IN>. <CHECK_IN>. <CHECK_IN>. <CHECK_IN>. <CHECK_IN>. What a salmon ... <URL>. <CHECK_IN>. <CHECK_IN>. Whoops. Totally recommend this coffee roastery… <URL>.  \n",
      "\n",
      " <MENTION>  Hmmm, I suspect Bill Heinecke would probably disagree... <URL>. A chefy friend is taking over the kitchen at a boutique hotel on Sukhumvit soi 20 tonight from 1900. Doing Cuban sa… <URL>. gonna miss you na (@ International College For Sustainability Studies (SWUIC) in Vadhana, Bangkok) <URL>. You are not in gmm now so l put the gift on the 30th floor @kristtps  @stjinx_maya    #ทีมพีร <MENTION> ou are not in gmm now so l put the gift on the 30th floor @kristtps  @stjinx_maya    #ทีมพีรญา. On today's #CookingwithExpatDanBKK, we have Mediterranean Stuffed Bell Peppers. I am very pleased with how this cam… <URL>. I love my balcony.  A little Maceo Parker, a cigar, some green tea, awaiting any question on the product I am selli… <URL>. <CHECK_IN>. <CHECK_IN>. <CHECK_IN>. <CHECK_IN>. <CHECK_IN>. <CHECK_IN>. Hipster beard and man-bun overload here today, not to mention kale and quiona on the menu 555555. A bit out of my e… <URL>. Food was excellent though, and we avoided the kale, quiona, and acai berries 555! <URL>. Love it!    <URL>. <CHECK_IN>. Be sure to check out this new YouTube series, Late Night Eatery in Bangkok, by our mate Chef Daniel.  It is very we… <URL>. Send a message to this user. @ Vadhana Demonstration School in Bangkok, Thailand <URL>. This could be a worthwhile day spent learning some culture. <URL>. @ Faculty of Dentistry - @dentswu in Vadhana, Bangkok) <URL>.  <MENTION>  @thaipirate But one cannot tell in advance. So yes, replace the age restrictions on biz class cabins an… <URL>. This is every airport that I ever have been in...  <URL>. You know you've gone full local when you just dip anything - in this case, pork belly - into nam jim talay/นำ้จิ้ม… <URL>. <CHECK_IN>. Ya, it's really a cockatoo not a galah*, but then the joke wouldn't work would it?   * - A galah is an especially… <URL>. LOL, now reliving a 15yo feud, when a keyboard warrior to BKK whom we tried to help, disrespected my ex-wife when I… <URL>. <CHECK_IN>. <CHECK_IN>. <CHECK_IN>. I have to say that I am digging on this app that gives me a selection of live  TV despite the name. Not a lot min… <URL>. <CHECK_IN>. <CHECK_IN>. <CHECK_IN>. Quite the heavy rain storm now in Asoke, with some pretty strong wind <MENTION> uite the heavy rain storm now in Asoke, with some pretty strong winds!. Quite the heavy rain storm now in Asoke, with some pretty strong winds! <URL>. <CHECK_IN>. Seriously?  Someone is so broke on Bangkok Expats that they can't afford a bottle of water?  They need to look at l… <URL>. คิดถึงงง (@ SWU Prasarnmit Demonstration School Secondary in Vadhana, Bangkok) <URL>. I have no burden (@Middle School Demonstration School)  <URL>. <CHECK_IN>. Worth a look to get ya some culture and pay tribute to a fine writer and a good guy.  RIP Jerry. <URL>. @baconbkk Jerry's Rolling Stone obituary... <URL>. Look real ........... #teen # teenwolf ... <URL>. Party with me. Get… <URL>. Hmmm, spicy salmon jerky. Yum! <URL>.  <MENTION>  LOL, the US should do the same! Remember the right wing freakout when they couldn't have their inc… <URL>.  <MENTION>  @TakenakaLaura You mean these?  We bought them in 1970s/80s high school to mask the ganja smell in… <URL>.  \n",
      "\n",
      "<CHECK_IN>. !!!! โค โค โค โค  <MENTION> !!! โค โค โค โค โค. 1 June 20 <MENTION>  June 2018. @true_thailand @ Huay Kwang, Bangkok) <URL>. <CHECK_IN>. Will be out It is not Meyer. (@ Vongvanich Complex Building in Huai Khwang, Bangkok) <URL>. I need a good pair of fin <MENTION>  need a good pair of fins.. Duke: <URL>. <CHECK_IN>. 1M. (@ East Commercial Leasing in Bangkok) <URL>. Why do you ask students? (@Schools Faculty of Humanities in Sukhumvit, Bangkok) <URL>. 25 (@ Faculty of Fine Arts in Vadhana, Bangkok) <URL>. Everything remains the same. Thanks for coming to #chen # <URL>.  <MENTION> . Hot Struggle (@ Srinakharinwirot University in Vadhana, Bangkok) <URL>. Come to relax at Ma (@ Srinakharinwirot University in Vadhana, Bangkok) <URL>. <CHECK_IN>. The price of the card has been raise <MENTION> he price of the card has been raised.. Pressing card Tuesday, 12 J <MENTION> ressing card Tuesday, 12 Jun. <CHECK_IN>. Waiting for an interview. Wish me luck! (@ Thai Summit Tower in Huai Khwang, Bangkok) <URL>. I do not know what to do, but I do not have time to stay home at 5555555 (@ Rama IX Flyover in Huai Khwang, ... <URL>. <CHECK_IN>. <CHECK_IN>. <CHECK_IN>. Jo <MENTION> ong. I do not think s <MENTION>  do not think so.. <CHECK_IN>. I want to go t <MENTION>  want to go to.. Yong Min: How many language <MENTION> ong Min: How many languages?. Very heavy rai <MENTION> ery heavy rain.. ดราม่า . #TheMaskSinger #Thailand #travel… <URL>. Mingli <MENTION> ingling. I do not know what to d <MENTION>  do not know what to do.. Is this really true?!?!?!? <MENTION> s this really true?!?!?!?!?. I was in the rain. # 7wondersconcert2018 ... <URL>. I do not think s <MENTION>  do not think so.. Do you know what to do? I have to go to rehab. <URL>. # 7wondersconcert2018 #tono @ mootono_pk ... <URL>. This is my first pos <MENTION> his is my first post.. <CHECK_IN>.  \n",
      "\n",
      "<CHECK_IN>. <CHECK_IN>. <CHECK_IN>. <CHECK_IN>. <CHECK_IN>. There are ten thousand words (@ Boots in Huai Khwang, Bangkok) <URL>. <CHECK_IN>. Come on up every morning (@ Tokyo Blend in Huay Kwang,) <URL>. I just finished cycling 27.95 km in 1h:12m:31s with #Endomondo #endorphins <URL>. working life start today (@ THE 9th TOWERS in Huai Khwang, Bangkok) <URL>. <CHECK_IN>. <CHECK_IN>. <CHECK_IN>. <CHECK_IN>. @ (CentralPlaza Grand Rama 9 - @centralplaza_th in Huai Khwang, Bangkok) <URL>. <CHECK_IN>. <CHECK_IN>. <CHECK_IN>. Sincerely yours, (Professor @ Arena Auditorium) <URL>. Where can I get a 5 day tri <MENTION> here can I get a 5 day trip?. <CHECK_IN>. <CHECK_IN>. <CHECK_IN>. <CHECK_IN>. <CHECK_IN>. <CHECK_IN>. When you're in a hurry And the train to where you are going. You are not allowed to view links. (MRT Phra Ra ... <URL>. Here comes one floor (@ Shabu Tist in Din Daeng, Bangkok) <URL>. <CHECK_IN>.  (@ Shabu Shabu lady) <URL>. <CHECK_IN>. <CHECK_IN>. <CHECK_IN>. <CHECK_IN>.  (@ Nine Entertain Building 2, MCOT Plc.) <URL>. #1stdayinternship (@ The Stock Exchange of Thailand - @setcallcenter in Din Daeng, Bangkok) <URL>. I just finished cycling 30.46 km in 1h:17m:24s with #Endomondo #endorphins <URL>. <CHECK_IN>. <CHECK_IN>. <CHECK_IN>. <CHECK_IN>. <CHECK_IN>. The opposite is goo <MENTION> he opposite is good.. <CHECK_IN>. <CHECK_IN>. <CHECK_IN>. <CHECK_IN>. <CHECK_IN>. <CHECK_IN>. <CHECK_IN>. <CHECK_IN>. <CHECK_IN>. <CHECK_IN>. I am very happy to see you agai <MENTION>  am very happy to see you again.. Do not fall asleep (@ SF X Cinema - @welovesf in Huai Khwang, Bangkok) <URL>. <CHECK_IN>. <CHECK_IN>. @Mr., Thailand Cultural Center - @bem_mrt in Din Daeng, Bangkok) <URL>. <CHECK_IN>. <CHECK_IN>. @ CentralPlaza Grand Rama 9 - @centralplaza_th in Huai Khwang, Bangkok) <URL>. \"It's not like that.\" If it's trusting and trusting in its wings, \"will buy a car to sell cars ... <URL>. <CHECK_IN>. <CHECK_IN>. <CHECK_IN>. <CHECK_IN>. <CHECK_IN>. <CHECK_IN>. <CHECK_IN>. Back to top I was walking into the building is offline. Do not miss this on <MENTION> ack to top I was walking into the building is offline. Do not miss this one!. <CHECK_IN>. Throw away the bus (@ Central Plaza Grand Rama 9 - @centralplaza_th in Huai Khwang, Bangkok) <URL>. New True Tower Building (@ True Tower Building in Huai Khwang, Bangkok) <URL>. <CHECK_IN>. I'll be back in a few days. @ Js100radio <URL>. <CHECK_IN>. <CHECK_IN>. <CHECK_IN>. TGIF (@ Ready Planet : AIA Capital Center) <URL>. #Salmon #Sushi #JapaneseFood @ Zen ... <URL>. Wrapping up our… <URL>. Group photo of our… <URL>. OppDay again jaa (@ The Stock Exchange of Thailand - @setcallcenter in Din Daeng, Bangkok) <URL>. The Thai team… <URL>. Lunch at MK with… <URL>. I just finished cycling 8.66 km in 25m:49s with #Endomondo #endorphins <URL>. Thai Baht 6 teas ... <URL>. <CHECK_IN>.  \n",
      "\n",
      "<CHECK_IN>. <CHECK_IN>. <CHECK_IN>. <CHECK_IN>. <CHECK_IN>. <CHECK_IN>. <CHECK_IN>. <CHECK_IN>. <CHECK_IN>. <CHECK_IN>. (Blu-O Karaoke) <URL>. <CHECK_IN>. <CHECK_IN>. งือ (@ Jetts 24Hours Fitness in Bangkok) <URL>. <CHECK_IN>. <CHECK_IN>. <CHECK_IN>. <CHECK_IN>. <CHECK_IN>. <CHECK_IN>. <CHECK_IN>. <CHECK_IN>. <CHECK_IN>. <CHECK_IN>. <CHECK_IN>. <CHECK_IN>. <CHECK_IN>. Someone on the wrong sid <MENTION> omeone on the wrong side.. <CHECK_IN>. <CHECK_IN>. <CHECK_IN>. <CHECK_IN>. I'm sorry to hear tha <MENTION> 'm sorry to hear that.. <CHECK_IN>. <CHECK_IN>. <CHECK_IN>. <CHECK_IN>. <CHECK_IN>. <CHECK_IN>. <CHECK_IN>. <CHECK_IN>. <CHECK_IN>. <CHECK_IN>. Not too long ago (@ Big C Extra - @bigcthailand in Din Daeng, Bangkok) <URL>. After you, I'll be back in a heartbeat (@ Train Da Market, Din Daeng, Bangkok) <URL>. I'm not sure if that's the case. I'm not sure if this is the cas <MENTION> 'm not sure if that's the case. I'm not sure if this is the case.. <CHECK_IN>. <CHECK_IN>. Original (@ A Ramen in Din Daeng, Bangkok) <URL>. <CHECK_IN>. <CHECK_IN>. <CHECK_IN>. Let's eat first. Before going to the theater (@ Hakata Shogun Ramen in Din Daeng, Bangkok) <URL>. Naga Phrakhanong The Musical (@Major Ratchada Theater - @rachadalai in Din Daeng, Bangkok) <URL>. He sells this by name. How to make a custard apple pie (Din Daeng, Bangkok) ... <URL>. <CHECK_IN>. <CHECK_IN>. <CHECK_IN>. Saving all my love for you  (@ Foodland in Din Daeng, Bangkok) <URL>. Impressive (@ Thai Ratchada Theater - @rachadalai in Din Daeng, Bangkok) <URL>. <CHECK_IN>. <CHECK_IN>. <CHECK_IN>. I do not know what to sa <MENTION>  do not know what to say.. I miss you so muc <MENTION>  miss you so much!. <CHECK_IN>. <CHECK_IN>. <CHECK_IN>. <CHECK_IN>. <CHECK_IN>. Why is the gem still not full (@ cheap and good in Lat Phrao, Bangkok w / @plytnp) <URL>. <CHECK_IN>. <CHECK_IN>. hung <MENTION> ungry. <CHECK_IN>. <CHECK_IN>. <CHECK_IN>. <CHECK_IN>. <CHECK_IN>. <CHECK_IN>. But I do not know what to d <MENTION> do not know what to do.. Investment Plan (@ The Street in Din Daeng, Bangkok) <URL>. <CHECK_IN>. <CHECK_IN>. <CHECK_IN>. <CHECK_IN>. <CHECK_IN>. <CHECK_IN>. <CHECK_IN>. <CHECK_IN>. <CHECK_IN>. <CHECK_IN>. <CHECK_IN>. <CHECK_IN>. <CHECK_IN>. <CHECK_IN>. Stoma <MENTION> tomach. <CHECK_IN>. <CHECK_IN>. <CHECK_IN>. <CHECK_IN>. <CHECK_IN>. <CHECK_IN>. <CHECK_IN>. <CHECK_IN>. (@The Cultural Center of Thailand in Huai Khwang, Bangkok) <URL>. <CHECK_IN>. <CHECK_IN>. <CHECK_IN>. <CHECK_IN>. <CHECK_IN>. <CHECK_IN>. <CHECK_IN>. Okay, so there are two night markets. Tonight’s has 100% fewer solicitations from sex workers, but ironically has a… <URL>. <CHECK_IN>. <CHECK_IN>. Disappointing @bethdean, I passed on the Giant Water Bug, but let’s give a shot to some pastel processed stick-meat… <URL>. <CHECK_IN>. Ok fine. <URL>. Tastes like shrim <MENTION>  shrimp.. <CHECK_IN>. <CHECK_IN>. <CHECK_IN>. This is my first post. <URL>. Bangkok Nights at the Market … <URL>. <CHECK_IN>. Please #Welcome to #Bangkok City #Thailand The… <URL>. <CHECK_IN>. Yummy   #bangkok #travel #instagram #instafood… <URL>.  \n",
      "\n",
      "<CHECK_IN>. <CHECK_IN>. <CHECK_IN>. Two nights stick !! (Reply to this) (Parent) (Threa <MENTION> wo nights stick !! (Reply to this) (Parent) (Thread). <CHECK_IN>. World Ocean Day is on the 8th ... <URL>. Take a picture to take away @ The Palazzo Bangkok <URL>.  \n",
      "\n",
      "Take some rest #teatime #blueberrycheesecake… <URL>.  \n",
      "\n",
      " \n",
      "\n",
      "<CHECK_IN>. <CHECK_IN>. <CHECK_IN>. <CHECK_IN>. <CHECK_IN>. <CHECK_IN>.  \n",
      "\n",
      "<CHECK_IN>. <CHECK_IN>. <CHECK_IN>. <CHECK_IN>. Come and meet me soon (@May May I) <URL>. <CHECK_IN>. <CHECK_IN>. <CHECK_IN>. <CHECK_IN>. Come and help us to open the planetarium ... very much (@ Planetarium in Khlong Toei, Bangkok) <URL>. <CHECK_IN>. So @RossEdgley book is finally here!  Will have something to read on the flight.   And for the first time ever the… <URL>. <CHECK_IN>. <CHECK_IN>. <CHECK_IN>. <CHECK_IN>.  <MENTION>  beautiful elephant building.. Good to see RIP 2009-2018 <URL>. What year is this year? Two dogs at home in the same year. <URL>.  <MENTION>  Thanks. This one we were quite prepared. Been sick for half a year.. I do not know what to d <MENTION>  do not know what to do.. <CHECK_IN>. Before returning 5555 (@ Organic Fish Ball Noodles in Phra Khanong North, Bangkok) <URL>. I know it's time to dial + On AIS it will rotate through 005, which is more expensive 003 and 00500 here if the company does not curse. This is not a mobile phon <MENTION>  know it's time to dial + On AIS it will rotate through 005, which is more expensive 003 and 00500 here if the company does not curse. This is not a mobile phone.. All airports in Thailand should use the water in this tweet already. I've been to a lot of place <MENTION> ll airports in Thailand should use the water in this tweet already. I've been to a lot of places,.  <MENTION> .  <MENTION> . Explosi <MENTION> xplosion. Finally managed to secure the best ending on #DetroitBecomeHuman now I can rest. <URL>. I'm not sure if this is a good ide <MENTION> not sure if this is a good idea.. Finding IPAs on the other side of the world is so refreshing after a ton of Thai lagers. - Drinking a CHATRI IPA by… <URL>. In my hand there are flowers ... <URL>.  \n",
      "\n",
      "<CHECK_IN>. <CHECK_IN>. <CHECK_IN>. <CHECK_IN>. <CHECK_IN>. <CHECK_IN>. <CHECK_IN>. A few dishes Ten and Taeyong ate this lunch. There are three type of juices they ordered in the bill but I don't kn… <URL>. <CHECK_IN>. Tomorrow!!!!! (@ Guss Damn Good Shake in Bangkok) <URL>. <CHECK_IN>. <CHECK_IN>. <CHECK_IN>. <CHECK_IN>. <CHECK_IN>. <CHECK_IN>. <CHECK_IN>. <CHECK_IN>. <CHECK_IN>. <CHECK_IN>. Donate clothes ... # Mirror Foundati <MENTION> onate clothes ... # Mirror Foundation. <CHECK_IN>. #rimowa #servoce <URL>. <CHECK_IN>. <CHECK_IN>. <CHECK_IN>. <CHECK_IN>. <CHECK_IN>. <CHECK_IN>. <CHECK_IN>. <CHECK_IN>. <CHECK_IN>. <CHECK_IN>. <CHECK_IN>. <CHECK_IN>. <CHECK_IN>. <CHECK_IN>. Din din ja (@ BlueSpice Caf & Dining Room in Watthana, Bangkok) <URL>. <CHECK_IN>. <CHECK_IN>. 1st day internship (@ Major Tower in Bangkok) <URL>. <CHECK_IN>. <CHECK_IN>. <CHECK_IN>. <CHECK_IN>. <CHECK_IN>. Let's send a temporary letter, migraine fever, leg pain, ear pai <MENTION> et's send a temporary letter, migraine fever, leg pain, ear pain.. cheers! (@ Backstage Cocktail Bar) <URL>. <CHECK_IN>. <CHECK_IN>. <CHECK_IN>. I do not know what to d <MENTION> not know what to do.. <CHECK_IN>. <CHECK_IN>. <CHECK_IN>. Foods brings people together on many different… <URL>. Flirting. #boys #fixed #differentspecies… <URL>. Everything except the brain. @ ORGANIKA HOUSE <URL>. <CHECK_IN>.  \n",
      "\n",
      "Breakfast (@ Delicious @ Camillian - @nawaporn_tan in Bangkok, Thailand) <URL>.  <MENTION>  to play. <CHECK_IN>.  <MENTION>  @JORSOR_ embarrassed me. <CHECK_IN>. @ <MENTION>  What?. Thank <MENTION> s!.  <MENTION>  to the tag is ignored.. I'm going to go to bed with my da <MENTION> ing to go to bed with my dad.. <CHECK_IN>. <CHECK_IN>. <CHECK_IN>. <CHECK_IN>.  \n",
      "\n",
      " - #VirginStar Listen to the song and tell Feeling <URL>. Work at night (@ Bangkok Life Assurance PCL) in Huai Khwang, Bangkok) <URL>. <CHECK_IN>.  - # 955VirginHitZ Feeling and listening to <URL>. Who do you work for? (@YWC cafe) <URL>. <CHECK_IN>. The concept of Myong Dong remains the same. Oh my dear (at @ONYXBangkok in Huai Khwang, Bangkok) <URL>. Back to home <URL>.  - # 955VirginHitZ I love music and tel <MENTION> - # 955VirginHitZ I love music and tell.. Welcome to the… <URL>.  Thursday's Class    9PM - 10.30PM … <URL>. Look who I ran into today at the Standard!!!!… <URL>.  \n",
      "\n",
      "My holidays (@ 7th Floor, Building 1 MRT) <URL>. <CHECK_IN>.  \n",
      "\n",
      "Very excited very much (@Ministry of Culture in Huay Kwang, Bangkok) <URL>. <CHECK_IN>. <CHECK_IN>. Yeah ye <MENTION> eah yeah. (@Ministry of Culture in Huai Khwang, Bangkok) <URL>. That's why I'm her <MENTION> hat's why I'm here.. <CHECK_IN>. <CHECK_IN>. @ <MENTION>  F. Friday (@ Ministry of Culture in Huay Kwang, Bangkok) <URL>.  \n",
      "\n",
      " - #VirginStar Listen to the song and tell Feeling <URL>. <CHECK_IN>. @Dpcynl # CatTshirt5 #cattshirt #catradio #chayanit #patchayanit <URL>. I just began a running workout using #Endomondo. Peptalk me now @ <URL>.  - # 955VirginHitZ And listen to the song Feeling <URL>.  - # 955VirginHitZ Feel free to listen and tell Feeling <URL>. <CHECK_IN>. I just began a running workout using #Endomondo. Peptalk me now @ <URL>. I just began a running workout using #Endomondo. Peptalk me now @ <URL>. I just finished running 6.24 km in 43m:37s with #Endomondo #endorphins <URL>.  \n",
      "\n"
     ]
    }
   ],
   "source": [
    "f = open(path_play + \"/bkk_demo_train2\",\"w\",encoding=\"utf-8\")\n",
    "#file = open(path + \"bkk_demo_test\",\"w\",encoding=\"utf-8\")\n",
    "for x in bkk_str:\n",
    "    f.write(x)\n",
    "    print(x)\n",
    "f.close()"
   ]
  },
  {
   "cell_type": "markdown",
   "metadata": {},
   "source": [
    "## Doc2Vec"
   ]
  },
  {
   "cell_type": "code",
   "execution_count": 43,
   "metadata": {},
   "outputs": [],
   "source": [
    "train_corpus = list(read_corpus(path_play + \"/bkk_demo_train2\"))"
   ]
  },
  {
   "cell_type": "code",
   "execution_count": 44,
   "metadata": {},
   "outputs": [],
   "source": [
    "model = gensim.models.doc2vec.Doc2Vec(vector_size=80, min_count=2, epochs=100, dm=0)"
   ]
  },
  {
   "cell_type": "code",
   "execution_count": 45,
   "metadata": {},
   "outputs": [],
   "source": [
    "model.build_vocab(train_corpus)"
   ]
  },
  {
   "cell_type": "code",
   "execution_count": 46,
   "metadata": {},
   "outputs": [],
   "source": [
    "#model.wv.vocab[\"สยาม\"].count"
   ]
  },
  {
   "cell_type": "code",
   "execution_count": 47,
   "metadata": {},
   "outputs": [
    {
     "name": "stdout",
     "output_type": "stream",
     "text": [
      "Wall time: 1 s\n"
     ]
    }
   ],
   "source": [
    "%time model.train(train_corpus, total_examples=model.corpus_count, epochs=model.epochs)"
   ]
  },
  {
   "cell_type": "code",
   "execution_count": 48,
   "metadata": {},
   "outputs": [],
   "source": [
    "ranks = []\n",
    "second_ranks = []\n",
    "all_sims = []\n",
    "for doc_id in range(len(train_corpus)):\n",
    "    inferred_vector = model.infer_vector(train_corpus[doc_id].words)\n",
    "    \n",
    "    sims = model.docvecs.most_similar([inferred_vector], topn=len(model.docvecs))\n",
    "    all_sims.append(sims)\n",
    "    \n",
    "    rank = [docid for docid, sim in sims].index(doc_id)\n",
    "    ranks.append(rank)\n",
    "    \n",
    "    second_ranks.append(sims[1])"
   ]
  },
  {
   "cell_type": "code",
   "execution_count": 49,
   "metadata": {},
   "outputs": [
    {
     "name": "stdout",
     "output_type": "stream",
     "text": [
      "[33, 0, 0, 0, 0, 0, 0, 0, 0, 0, 10, 0, 2, 0, 0, 0, 0, 0, 0, 0, 2, 0, 0, 0, 0, 0, 0, 0, 0, 0, 0, 0, 0, 0, 0, 0, 0, 0, 0, 0, 16, 16, 0, 0, 0, 0, 0, 0, 0, 6, 0, 0, 0, 0, 0, 0, 0, 0, 0, 0, 6, 31, 20, 3, 0, 0, 0, 0, 0, 0, 0, 83, 0, 0, 3, 0, 0, 0, 0, 0, 1, 1, 99, 0, 0, 0, 0, 0, 0, 0, 0, 10, 1, 0, 0, 0, 0, 0, 0, 0] \n",
      "\n",
      "82\n"
     ]
    }
   ],
   "source": [
    "print(ranks,\"\\n\")\n",
    "print(ranks.count(0))"
   ]
  },
  {
   "cell_type": "code",
   "execution_count": 50,
   "metadata": {},
   "outputs": [
    {
     "name": "stdout",
     "output_type": "stream",
     "text": [
      "Document (99): «virginstar listen to the song and tell feeling url check_in dpcynl cattshirt cattshirt catradio chayanit patchayanit url just began running workout using endomondo peptalk me now url virginhitz and listen to the song feeling url virginhitz feel free to listen and tell feeling url check_in just began running workout using endomondo peptalk me now url just began running workout using endomondo peptalk me now url just finished running km in with endomondo endorphins url»\n",
      "\n",
      "SIMILAR/DISSIMILAR DOCS PER MODEL Doc2Vec(dbow,d80,n5,mc2,s0.001,t3):\n",
      "\n",
      "MOST (99, 0.9754493236541748): «virginstar listen to the song and tell feeling url check_in dpcynl cattshirt cattshirt catradio chayanit patchayanit url just began running workout using endomondo peptalk me now url virginhitz and listen to the song feeling url virginhitz feel free to listen and tell feeling url check_in just began running workout using endomondo peptalk me now url just began running workout using endomondo peptalk me now url just finished running km in with endomondo endorphins url»\n",
      "\n",
      "MEDIAN (43, 0.4244137406349182): «check_in check_in check_in laugh at yak sothon opposite the cemetery in bang rak bangkok url just finished running km in with endomondo endorphins url intern life is now sathorn square in bang rak bangkok url check_in days ago today have to line up under the line do not think so have to draw line url check_in check_in check_in check_in check_in check_in check_in happpryyyyyyy not just another cup in bangrak bangkok url my eyes saint louis hospital in sathon bangkok ncoctail url check_in check_in well you good not just another cup in bangrak bangkok url check_in there are about tables and sofas left awkward alone dean good for you in silom bangkok url check_in check_in check_in just finished running km in with endomondo endorphins url just finished running km in with endomondo endorphins url just finished running km in with endomondo endorphins url check_in check_in check_in check_in check_in check_in back to reality coffeelism cafe in silom bangkok url check_in check_in check_in check_in check_in check_in check_in central food mention in bang rak bangkok url come home bbl url meeting sathorn nakorn tower in bang rak thailand url check_in check_in come fast songthong thani in bangrak url check_in check_in check_in check_in check_in check_in check_in check_in check_in check_in check_in link to post back to top ip logg mention link to post back to top ip logged check_in check_in every month bangrak revenue branch in bangkok url check_in mention has the formula hit check_in supawit school in bangkok url check_in check_in check_in mention made slim thai watchdog version mention does not work do not think mention do not think so mention scomma he back to france with tv france sitting remains url thanks for the inf mention the info mention if you are looking for place to stay bor mention ored check_in check_in check_in banking on food when banker turns to food url check_in check_in colorful morning kevinonboard whotels bangkok url working day sathorn thani in bangrak url check_in check_in check_in check_in just got in the afternoon saeng thong thani in bangrak url»\n",
      "\n",
      "LEAST (0, -0.149435892701149): «»\n",
      "\n"
     ]
    }
   ],
   "source": [
    "print('Document ({}): «{}»\\n'.format(doc_id, ' '.join(train_corpus[doc_id].words)))\n",
    "print(u'SIMILAR/DISSIMILAR DOCS PER MODEL %s:\\n' % model)\n",
    "for label, index in [('MOST', 0), ('MEDIAN', len(sims)//2), ('LEAST', len(sims) - 1)]:\n",
    "    print(u'%s %s: «%s»\\n' % (label, sims[index], ' '.join(train_corpus[sims[index][0]].words)))"
   ]
  },
  {
   "cell_type": "markdown",
   "metadata": {},
   "source": [
    "## Merge area"
   ]
  },
  {
   "cell_type": "code",
   "execution_count": 51,
   "metadata": {},
   "outputs": [],
   "source": [
    "boundary = 10"
   ]
  },
  {
   "cell_type": "code",
   "execution_count": 52,
   "metadata": {},
   "outputs": [],
   "source": [
    "def merge_area(threshold, idx_color):\n",
    "    for i in range(len(idx_color)):\n",
    "        w = i-1 if (i-1)%10 != 9 else -1\n",
    "        e = i+1 if ((i+1)%10 != 0) and (i+1 < len(idx_color)) else -1\n",
    "        n = i-10 \n",
    "        s = i+10 if i+10 < len(idx_color) else -1\n",
    "        if len(bkk[i])<boundary:\n",
    "            idx_color[str(i)][4] = \"-1\"\n",
    "        else:\n",
    "            if w>0 and len(bkk[w])>=boundary:\n",
    "                similarw = (in_tuple(all_sims[i], w)[0] + in_tuple(all_sims[w], i)[0])/2\n",
    "                if similarw > threshold:\n",
    "                    idx_color[str(w)][4] = idx_color[str(i)][4]\n",
    "            if e>0 and len(bkk[e])>=boundary:\n",
    "                similare = (in_tuple(all_sims[i], e)[0] + in_tuple(all_sims[e], i)[0])/2\n",
    "                if similare > threshold:\n",
    "                    idx_color[str(e)][4] = idx_color[str(i)][4]\n",
    "            if n>0 and len(bkk[n])>=boundary:\n",
    "                similarn = (in_tuple(all_sims[i], n)[0] + in_tuple(all_sims[n], i)[0])/2\n",
    "                if similarn > threshold:\n",
    "                    idx_color[str(n)][4] = idx_color[str(i)][4]\n",
    "            if s>0 and len(bkk[s])>=boundary:\n",
    "                similars = (in_tuple(all_sims[i], s)[0] + in_tuple(all_sims[s], i)[0])/2\n",
    "                if similars > threshold:\n",
    "                    idx_color[str(s)][4] = idx_color[str(i)][4]\n",
    "    return idx_color"
   ]
  },
  {
   "cell_type": "code",
   "execution_count": 53,
   "metadata": {},
   "outputs": [],
   "source": [
    "def print_areas(idx_color):\n",
    "    areas = set()\n",
    "    for i in range(10):\n",
    "        s = \"\"\n",
    "        for j in range(10):\n",
    "            idx = str((i*10)+j)\n",
    "            if int(idx_color[idx][4]) < 10 and int(idx_color[idx][4]) >= 0:\n",
    "                s += \" \"\n",
    "            s += str(idx_color[idx][4]) +\" \"\n",
    "            areas.add(idx_color[idx][4])\n",
    "        print(s)\n",
    "    print(\"\\n #areas :\" , len(areas))"
   ]
  },
  {
   "cell_type": "code",
   "execution_count": 54,
   "metadata": {},
   "outputs": [],
   "source": [
    "def count_areas(idx_color):\n",
    "    areas = set()\n",
    "    for i in range(10):\n",
    "        for j in range(10):\n",
    "            areas.add(idx_color[str((i*10)+j)][4])\n",
    "    return len(areas)"
   ]
  },
  {
   "cell_type": "code",
   "execution_count": 55,
   "metadata": {},
   "outputs": [],
   "source": [
    "idx_color2 = copy.deepcopy(idx_color)"
   ]
  },
  {
   "cell_type": "code",
   "execution_count": 56,
   "metadata": {},
   "outputs": [
    {
     "name": "stdout",
     "output_type": "stream",
     "text": [
      " 0  1  2  3  4  5  6  7  8  9 \n",
      "10 11 12 13 14 15 16 17 18 19 \n",
      "20 21 22 23 24 25 26 27 28 29 \n",
      "30 31 32 33 34 35 36 37 38 39 \n",
      "40 41 42 43 44 45 46 47 48 49 \n",
      "50 51 52 53 54 55 56 57 58 59 \n",
      "60 61 62 63 64 65 66 67 68 69 \n",
      "70 71 72 73 74 75 76 77 78 79 \n",
      "80 81 82 83 84 85 86 87 88 89 \n",
      "90 91 92 93 94 95 96 97 98 99 \n",
      "\n",
      " #areas : 100\n"
     ]
    }
   ],
   "source": [
    "print_areas(idx_color)"
   ]
  },
  {
   "cell_type": "code",
   "execution_count": 57,
   "metadata": {},
   "outputs": [
    {
     "name": "stdout",
     "output_type": "stream",
     "text": [
      " 0  1  2  3  4  5  6  7  8  9 \n",
      "10 11 12 13 14 15 16 17 18 19 \n",
      "20 21 22 23 24 25 26 27 28 29 \n",
      "30 31 32 33 34 35 36 37 38 39 \n",
      "40 41 42 43 44 45 46 47 48 49 \n",
      "50 51 52 53 54 55 56 57 58 59 \n",
      "60 61 62 63 64 65 66 67 68 69 \n",
      "70 71 72 73 74 75 76 77 78 79 \n",
      "80 81 82 83 84 85 86 87 88 89 \n",
      "90 91 92 93 94 95 96 97 98 99 \n",
      "\n",
      " #areas : 100\n"
     ]
    }
   ],
   "source": [
    "print_areas(idx_color2)"
   ]
  },
  {
   "cell_type": "code",
   "execution_count": 58,
   "metadata": {},
   "outputs": [],
   "source": [
    "idx_color2 = merge_area(0.7, idx_color)"
   ]
  },
  {
   "cell_type": "code",
   "execution_count": 59,
   "metadata": {},
   "outputs": [
    {
     "name": "stdout",
     "output_type": "stream",
     "text": [
      "-1 -1 -1  3 -1  5  6  7  8  9 \n",
      "-1 -1 -1 13 14 15 16 17  8  9 \n",
      "-1 -1 -1 23 24 25 -1 -1 -1 -1 \n",
      "-1 -1 -1 33 34 35 36 -1 -1 39 \n",
      "-1 -1 -1 43 44 45 46 47 48 -1 \n",
      "-1 51 52 53 54 55 56 57 58 59 \n",
      "-1 -1 -1 63 64 65 -1 -1 -1 69 \n",
      "-1 -1 -1 73 64 75 76 -1 -1 79 \n",
      "-1 -1 -1 83 84 85 86 87 88 -1 \n",
      "-1 -1 -1 93 94 95 96 -1 98 99 \n",
      "\n",
      " #areas : 55\n"
     ]
    }
   ],
   "source": [
    "print_areas(idx_color2)"
   ]
  },
  {
   "cell_type": "code",
   "execution_count": 60,
   "metadata": {},
   "outputs": [
    {
     "name": "stdout",
     "output_type": "stream",
     "text": [
      "0.69\n",
      "0.6799999999999999\n",
      "0.6699999999999999\n",
      "0.6599999999999999\n",
      "0.6499999999999999\n",
      "0.6399999999999999\n",
      "0.6299999999999999\n",
      "0.6199999999999999\n",
      "0.6099999999999999\n",
      "0.5999999999999999\n",
      "0.5899999999999999\n",
      "0.5799999999999998\n",
      "0.5699999999999998\n",
      "0.5599999999999998\n",
      "0.5499999999999998\n",
      "0.5399999999999998\n",
      "0.5299999999999998\n",
      "0.5199999999999998\n",
      "0.5099999999999998\n",
      "0.4999999999999998\n",
      "0.48999999999999977\n",
      "0.47999999999999976\n",
      "0.46999999999999975\n",
      "0.45999999999999974\n",
      "0.44999999999999973\n",
      "0.4399999999999997\n",
      "0.4299999999999997\n",
      "0.4199999999999997\n",
      "0.4099999999999997\n",
      "0.3999999999999997\n",
      "0.3899999999999997\n",
      "0.37999999999999967\n",
      "0.36999999999999966\n",
      "0.35999999999999965\n",
      "0.34999999999999964\n",
      "0.33999999999999964\n",
      "0.3299999999999996\n",
      "0.3199999999999996\n",
      "0.3099999999999996\n"
     ]
    }
   ],
   "source": [
    "threshold = 0.7\n",
    "areas = count_areas(idx_color2)\n",
    "while areas > 11:\n",
    "    idx_color2 = merge_area(threshold, idx_color2)\n",
    "    threshold -= 0.01\n",
    "    areas = count_areas(idx_color2)\n",
    "    print(threshold)"
   ]
  },
  {
   "cell_type": "code",
   "execution_count": 61,
   "metadata": {},
   "outputs": [
    {
     "data": {
      "text/plain": [
       "11"
      ]
     },
     "execution_count": 61,
     "metadata": {},
     "output_type": "execute_result"
    }
   ],
   "source": [
    "areas"
   ]
  },
  {
   "cell_type": "code",
   "execution_count": 62,
   "metadata": {},
   "outputs": [
    {
     "name": "stdout",
     "output_type": "stream",
     "text": [
      "-1 -1 -1  3 -1  3  3  3  3  3 \n",
      "-1 -1 -1  3  3  3  3  3  3  3 \n",
      "-1 -1 -1  3  3  3 -1 -1 -1 -1 \n",
      "-1 -1 -1  3  3  3  3 -1 -1 39 \n",
      "-1 -1 -1 52 52  3  3 47 47 -1 \n",
      "-1 51 52 52 52 52 56 47 47 47 \n",
      "-1 -1 -1 52 52 52 -1 -1 -1 47 \n",
      "-1 -1 -1 52 52 52 76 -1 -1 79 \n",
      "-1 -1 -1 52 52 52 94 87 87 -1 \n",
      "-1 -1 -1 52 94 94 94 -1 87 87 \n",
      "\n",
      " #areas : 11\n"
     ]
    }
   ],
   "source": [
    "print_areas(idx_color2)"
   ]
  },
  {
   "cell_type": "code",
   "execution_count": 512,
   "metadata": {},
   "outputs": [
    {
     "name": "stdout",
     "output_type": "stream",
     "text": [
      "-1 -1 -1  3 -1  5  5  5  5  5 \n",
      "-1 -1 -1  3  3  3  5  5  5  5 \n",
      "-1 -1 -1  3  3  3 -1 -1 -1 -1 \n",
      "-1 -1 -1  3  3  3  3 -1 -1 39 \n",
      "-1 -1 -1 51  3 45  3  3  3 -1 \n",
      "-1 51 51 51 51 45  3  3  3  3 \n",
      "-1 -1 -1 51 73 51 -1 -1 -1  3 \n",
      "-1 -1 -1 73 73 73 76 -1 -1  3 \n",
      "-1 -1 -1 73 93 93 93 93 88 -1 \n",
      "-1 -1 -1 93 93 93 93 -1 88 99 \n",
      "\n",
      " #areas : 11\n"
     ]
    }
   ],
   "source": [
    "print_areas(idx_color2)"
   ]
  },
  {
   "cell_type": "code",
   "execution_count": 513,
   "metadata": {},
   "outputs": [
    {
     "name": "stdout",
     "output_type": "stream",
     "text": [
      "  0   9   6  27   3  18 100  30  24  14 \n",
      "  2   7   5  32  11  15  81 146  23  21 \n",
      "  0   8   3  24  15  75   8   6   9   6 \n",
      "  1   5   5  41  28  42  11   5   6  11 \n",
      "  1   1   8  91  81 592 403  35  40   6 \n",
      "  5  20  15  17 108 173 718 161  27  33 \n",
      "  1   1   0  10  22 112   5   1   6  19 \n",
      "  0   0   2  69  24 268  49   6   2  19 \n",
      "  1   1   0  14 176  47  41  88 129   7 \n",
      "  1   0   6  32  59  13  12   2  10  10 \n"
     ]
    }
   ],
   "source": [
    "areas = set()\n",
    "for i in range(10):\n",
    "    s = \"\"\n",
    "    for j in range(10):\n",
    "        idx = (i*10)+j\n",
    "        if len(bkk[idx]) < 99 and len(bkk[idx]) >= 0:\n",
    "            s += \" \"\n",
    "            if len(bkk[idx]) <10:\n",
    "                s+= \" \"\n",
    "        s += str(len(bkk[idx])) +\" \"\n",
    "        #areas.add(idx_color[idx][4])\n",
    "    print(s)\n",
    "#print(\"\\n #areas :\" , len(areas))"
   ]
  },
  {
   "cell_type": "code",
   "execution_count": 514,
   "metadata": {},
   "outputs": [
    {
     "data": {
      "text/plain": [
       "[(13.68578, 100.484605),\n",
       " (13.68578, 100.494605),\n",
       " (13.69578, 100.484605),\n",
       " (13.69578, 100.494605),\n",
       " '-1']"
      ]
     },
     "execution_count": 514,
     "metadata": {},
     "output_type": "execute_result"
    }
   ],
   "source": [
    "idx_color[\"0\"]"
   ]
  },
  {
   "cell_type": "code",
   "execution_count": null,
   "metadata": {},
   "outputs": [],
   "source": []
  }
 ],
 "metadata": {
  "kernelspec": {
   "display_name": "Python 3",
   "language": "python",
   "name": "python3"
  },
  "language_info": {
   "codemirror_mode": {
    "name": "ipython",
    "version": 3
   },
   "file_extension": ".py",
   "mimetype": "text/x-python",
   "name": "python",
   "nbconvert_exporter": "python",
   "pygments_lexer": "ipython3",
   "version": "3.6.4"
  }
 },
 "nbformat": 4,
 "nbformat_minor": 2
}
