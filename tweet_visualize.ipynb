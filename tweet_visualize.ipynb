{
 "cells": [
  {
   "cell_type": "markdown",
   "metadata": {},
   "source": [
    "# Tweets in Bangkok (Siam to Grand Palace Area) visualization "
   ]
  },
  {
   "cell_type": "markdown",
   "metadata": {},
   "source": [
    "lat-long: [100.484605,13.685780,100.584605,13.785780] "
   ]
  },
  {
   "cell_type": "markdown",
   "metadata": {},
   "source": [
    "## Import zone"
   ]
  },
  {
   "cell_type": "code",
   "execution_count": 55,
   "metadata": {},
   "outputs": [],
   "source": [
    "import pandas as pd\n",
    "from mtranslate import translate\n",
    "import pickle"
   ]
  },
  {
   "cell_type": "markdown",
   "metadata": {},
   "source": [
    "## function zone"
   ]
  },
  {
   "cell_type": "code",
   "execution_count": 43,
   "metadata": {},
   "outputs": [],
   "source": [
    "def trans_to_en(word):\n",
    "    translate(word,'en')"
   ]
  },
  {
   "cell_type": "code",
   "execution_count": 61,
   "metadata": {},
   "outputs": [],
   "source": [
    "def save_obj(file, obj):\n",
    "    with open(file, 'wb') as f:\n",
    "        pickle.dump(obj, f)\n",
    "\n",
    "def load_obj(file, obj):\n",
    "    with open(file, 'rb') as f:\n",
    "        obj = pickle.load(f)"
   ]
  },
  {
   "cell_type": "code",
   "execution_count": null,
   "metadata": {},
   "outputs": [],
   "source": []
  },
  {
   "cell_type": "markdown",
   "metadata": {},
   "source": [
    "## Data zone"
   ]
  },
  {
   "cell_type": "code",
   "execution_count": 29,
   "metadata": {},
   "outputs": [],
   "source": [
    "f = open('BKK_th-en_tweets_gamcom.txt','r',encoding='utf-8')"
   ]
  },
  {
   "cell_type": "code",
   "execution_count": 30,
   "metadata": {},
   "outputs": [],
   "source": [
    "tweet_list = []\n",
    "for line in f:\n",
    "    tweet_list.append(line.split('\\t'))    "
   ]
  },
  {
   "cell_type": "code",
   "execution_count": 31,
   "metadata": {},
   "outputs": [
    {
     "name": "stdout",
     "output_type": "stream",
     "text": [
      "['58872847', 'amp_cuband', '1001468679140270080', '@jjiab จริงค่ะ ส่วนตัวคิดว่าแบบนั้นดีแล้ว', '2018-05-29 14:21:54', '-1', '-1', 'Sathon', '100.508189, 13.700842', '100.553474, 13.725971', 'th\\n']\n"
     ]
    }
   ],
   "source": [
    "print(tweet_list[0])"
   ]
  },
  {
   "cell_type": "code",
   "execution_count": 32,
   "metadata": {},
   "outputs": [],
   "source": [
    "labels = ['acc_id','acc','tweet_id','text','created_time','ex_lat','ex_long','place','lot_sw','lot_ne','lang']\n",
    "tweet_df = pd.DataFrame(tweet_list,columns=labels)"
   ]
  },
  {
   "cell_type": "code",
   "execution_count": 33,
   "metadata": {},
   "outputs": [],
   "source": [
    "tweet_df['lang'] = tweet_df['lang'].apply(lambda x: x.strip())"
   ]
  },
  {
   "cell_type": "code",
   "execution_count": 34,
   "metadata": {},
   "outputs": [
    {
     "data": {
      "text/html": [
       "<div>\n",
       "<style scoped>\n",
       "    .dataframe tbody tr th:only-of-type {\n",
       "        vertical-align: middle;\n",
       "    }\n",
       "\n",
       "    .dataframe tbody tr th {\n",
       "        vertical-align: top;\n",
       "    }\n",
       "\n",
       "    .dataframe thead th {\n",
       "        text-align: right;\n",
       "    }\n",
       "</style>\n",
       "<table border=\"1\" class=\"dataframe\">\n",
       "  <thead>\n",
       "    <tr style=\"text-align: right;\">\n",
       "      <th></th>\n",
       "      <th>acc_id</th>\n",
       "      <th>acc</th>\n",
       "      <th>tweet_id</th>\n",
       "      <th>text</th>\n",
       "      <th>created_time</th>\n",
       "      <th>ex_lat</th>\n",
       "      <th>ex_long</th>\n",
       "      <th>place</th>\n",
       "      <th>lot_sw</th>\n",
       "      <th>lot_ne</th>\n",
       "      <th>lang</th>\n",
       "    </tr>\n",
       "  </thead>\n",
       "  <tbody>\n",
       "    <tr>\n",
       "      <th>0</th>\n",
       "      <td>58872847</td>\n",
       "      <td>amp_cuband</td>\n",
       "      <td>1001468679140270080</td>\n",
       "      <td>@jjiab จริงค่ะ ส่วนตัวคิดว่าแบบนั้นดีแล้ว</td>\n",
       "      <td>2018-05-29 14:21:54</td>\n",
       "      <td>-1</td>\n",
       "      <td>-1</td>\n",
       "      <td>Sathon</td>\n",
       "      <td>100.508189, 13.700842</td>\n",
       "      <td>100.553474, 13.725971</td>\n",
       "      <td>th</td>\n",
       "    </tr>\n",
       "    <tr>\n",
       "      <th>1</th>\n",
       "      <td>168438587</td>\n",
       "      <td>Porschephranot</td>\n",
       "      <td>1001468684752248834</td>\n",
       "      <td>@mju_zik ว่าไงจ๊ะ</td>\n",
       "      <td>2018-05-29 14:21:55</td>\n",
       "      <td>-1</td>\n",
       "      <td>-1</td>\n",
       "      <td>Rong Mueang</td>\n",
       "      <td>100.515532, 13.735617</td>\n",
       "      <td>100.524483, 13.75308</td>\n",
       "      <td>th</td>\n",
       "    </tr>\n",
       "    <tr>\n",
       "      <th>2</th>\n",
       "      <td>260726562</td>\n",
       "      <td>mangokarn</td>\n",
       "      <td>1001468689105936384</td>\n",
       "      <td>@eyejaekris อร่อยยยยยย</td>\n",
       "      <td>2018-05-29 14:21:56</td>\n",
       "      <td>-1</td>\n",
       "      <td>-1</td>\n",
       "      <td>สาทร</td>\n",
       "      <td>100.514643, 13.700842</td>\n",
       "      <td>100.537444, 13.715906</td>\n",
       "      <td>th</td>\n",
       "    </tr>\n",
       "    <tr>\n",
       "      <th>3</th>\n",
       "      <td>2668781561</td>\n",
       "      <td>__hxnxx</td>\n",
       "      <td>1001468699784634369</td>\n",
       "      <td>As much as I feel saddened by Ali Banats death...</td>\n",
       "      <td>2018-05-29 14:21:59</td>\n",
       "      <td>-1</td>\n",
       "      <td>-1</td>\n",
       "      <td>กรุงเทพมหานคร</td>\n",
       "      <td>100.327737, 13.494097</td>\n",
       "      <td>100.938408, 13.955111</td>\n",
       "      <td>en</td>\n",
       "    </tr>\n",
       "    <tr>\n",
       "      <th>4</th>\n",
       "      <td>104415934</td>\n",
       "      <td>devoteraphar</td>\n",
       "      <td>1001468727756574720</td>\n",
       "      <td>I'm at Police General Hospital in Pathum Wan, ...</td>\n",
       "      <td>2018-05-29 14:22:05</td>\n",
       "      <td>13.74321493</td>\n",
       "      <td>100.53976065</td>\n",
       "      <td>Pathum Wan</td>\n",
       "      <td>100.528375, 13.72951</td>\n",
       "      <td>100.541027, 13.749708</td>\n",
       "      <td>en</td>\n",
       "    </tr>\n",
       "  </tbody>\n",
       "</table>\n",
       "</div>"
      ],
      "text/plain": [
       "       acc_id             acc             tweet_id  \\\n",
       "0    58872847      amp_cuband  1001468679140270080   \n",
       "1   168438587  Porschephranot  1001468684752248834   \n",
       "2   260726562       mangokarn  1001468689105936384   \n",
       "3  2668781561         __hxnxx  1001468699784634369   \n",
       "4   104415934    devoteraphar  1001468727756574720   \n",
       "\n",
       "                                                text         created_time  \\\n",
       "0          @jjiab จริงค่ะ ส่วนตัวคิดว่าแบบนั้นดีแล้ว  2018-05-29 14:21:54   \n",
       "1                                  @mju_zik ว่าไงจ๊ะ  2018-05-29 14:21:55   \n",
       "2                             @eyejaekris อร่อยยยยยย  2018-05-29 14:21:56   \n",
       "3  As much as I feel saddened by Ali Banats death...  2018-05-29 14:21:59   \n",
       "4  I'm at Police General Hospital in Pathum Wan, ...  2018-05-29 14:22:05   \n",
       "\n",
       "         ex_lat       ex_long          place                 lot_sw  \\\n",
       "0            -1            -1         Sathon  100.508189, 13.700842   \n",
       "1            -1            -1    Rong Mueang  100.515532, 13.735617   \n",
       "2            -1            -1           สาทร  100.514643, 13.700842   \n",
       "3            -1            -1  กรุงเทพมหานคร  100.327737, 13.494097   \n",
       "4   13.74321493  100.53976065     Pathum Wan   100.528375, 13.72951   \n",
       "\n",
       "                  lot_ne lang  \n",
       "0  100.553474, 13.725971   th  \n",
       "1   100.524483, 13.75308   th  \n",
       "2  100.537444, 13.715906   th  \n",
       "3  100.938408, 13.955111   en  \n",
       "4  100.541027, 13.749708   en  "
      ]
     },
     "execution_count": 34,
     "metadata": {},
     "output_type": "execute_result"
    }
   ],
   "source": [
    "tweet_df.head()"
   ]
  },
  {
   "cell_type": "code",
   "execution_count": 35,
   "metadata": {},
   "outputs": [
    {
     "data": {
      "text/html": [
       "<div>\n",
       "<style scoped>\n",
       "    .dataframe tbody tr th:only-of-type {\n",
       "        vertical-align: middle;\n",
       "    }\n",
       "\n",
       "    .dataframe tbody tr th {\n",
       "        vertical-align: top;\n",
       "    }\n",
       "\n",
       "    .dataframe thead th {\n",
       "        text-align: right;\n",
       "    }\n",
       "</style>\n",
       "<table border=\"1\" class=\"dataframe\">\n",
       "  <thead>\n",
       "    <tr style=\"text-align: right;\">\n",
       "      <th></th>\n",
       "      <th>acc_id</th>\n",
       "      <th>acc</th>\n",
       "      <th>tweet_id</th>\n",
       "      <th>text</th>\n",
       "      <th>created_time</th>\n",
       "      <th>ex_lat</th>\n",
       "      <th>ex_long</th>\n",
       "      <th>place</th>\n",
       "      <th>lot_sw</th>\n",
       "      <th>lot_ne</th>\n",
       "      <th>lang</th>\n",
       "    </tr>\n",
       "  </thead>\n",
       "  <tbody>\n",
       "    <tr>\n",
       "      <th>count</th>\n",
       "      <td>2660</td>\n",
       "      <td>2660</td>\n",
       "      <td>2660</td>\n",
       "      <td>2660</td>\n",
       "      <td>2660</td>\n",
       "      <td>2660</td>\n",
       "      <td>2660</td>\n",
       "      <td>2660</td>\n",
       "      <td>2660</td>\n",
       "      <td>2660</td>\n",
       "      <td>2660</td>\n",
       "    </tr>\n",
       "    <tr>\n",
       "      <th>unique</th>\n",
       "      <td>1127</td>\n",
       "      <td>1128</td>\n",
       "      <td>2660</td>\n",
       "      <td>2659</td>\n",
       "      <td>2526</td>\n",
       "      <td>85</td>\n",
       "      <td>85</td>\n",
       "      <td>139</td>\n",
       "      <td>87</td>\n",
       "      <td>86</td>\n",
       "      <td>2</td>\n",
       "    </tr>\n",
       "    <tr>\n",
       "      <th>top</th>\n",
       "      <td>144851766</td>\n",
       "      <td>SiRiPALIT</td>\n",
       "      <td>1001510464306561024</td>\n",
       "      <td>หิว</td>\n",
       "      <td>2018-05-29 16:07:56</td>\n",
       "      <td>-1</td>\n",
       "      <td>-1</td>\n",
       "      <td>Myanmar</td>\n",
       "      <td>97.343365, 5.612531</td>\n",
       "      <td>105.636107, 20.46519</td>\n",
       "      <td>th</td>\n",
       "    </tr>\n",
       "    <tr>\n",
       "      <th>freq</th>\n",
       "      <td>47</td>\n",
       "      <td>47</td>\n",
       "      <td>1</td>\n",
       "      <td>2</td>\n",
       "      <td>3</td>\n",
       "      <td>2553</td>\n",
       "      <td>2553</td>\n",
       "      <td>213</td>\n",
       "      <td>237</td>\n",
       "      <td>237</td>\n",
       "      <td>2147</td>\n",
       "    </tr>\n",
       "  </tbody>\n",
       "</table>\n",
       "</div>"
      ],
      "text/plain": [
       "           acc_id        acc             tweet_id  text         created_time  \\\n",
       "count        2660       2660                 2660  2660                 2660   \n",
       "unique       1127       1128                 2660  2659                 2526   \n",
       "top     144851766  SiRiPALIT  1001510464306561024   หิว  2018-05-29 16:07:56   \n",
       "freq           47         47                    1     2                    3   \n",
       "\n",
       "       ex_lat ex_long    place               lot_sw                lot_ne  \\\n",
       "count    2660    2660     2660                 2660                  2660   \n",
       "unique     85      85      139                   87                    86   \n",
       "top        -1      -1  Myanmar  97.343365, 5.612531  105.636107, 20.46519   \n",
       "freq     2553    2553      213                  237                   237   \n",
       "\n",
       "        lang  \n",
       "count   2660  \n",
       "unique     2  \n",
       "top       th  \n",
       "freq    2147  "
      ]
     },
     "execution_count": 35,
     "metadata": {},
     "output_type": "execute_result"
    }
   ],
   "source": [
    "tweet_df.describe()"
   ]
  },
  {
   "cell_type": "code",
   "execution_count": 36,
   "metadata": {},
   "outputs": [
    {
     "data": {
      "text/html": [
       "<div>\n",
       "<style scoped>\n",
       "    .dataframe tbody tr th:only-of-type {\n",
       "        vertical-align: middle;\n",
       "    }\n",
       "\n",
       "    .dataframe tbody tr th {\n",
       "        vertical-align: top;\n",
       "    }\n",
       "\n",
       "    .dataframe thead th {\n",
       "        text-align: right;\n",
       "    }\n",
       "</style>\n",
       "<table border=\"1\" class=\"dataframe\">\n",
       "  <thead>\n",
       "    <tr style=\"text-align: right;\">\n",
       "      <th></th>\n",
       "      <th>acc_id</th>\n",
       "      <th>acc</th>\n",
       "      <th>tweet_id</th>\n",
       "      <th>text</th>\n",
       "      <th>created_time</th>\n",
       "      <th>ex_lat</th>\n",
       "      <th>ex_long</th>\n",
       "      <th>place</th>\n",
       "      <th>lot_sw</th>\n",
       "      <th>lot_ne</th>\n",
       "      <th>lang</th>\n",
       "    </tr>\n",
       "  </thead>\n",
       "  <tbody>\n",
       "    <tr>\n",
       "      <th>count</th>\n",
       "      <td>2447</td>\n",
       "      <td>2447</td>\n",
       "      <td>2447</td>\n",
       "      <td>2447</td>\n",
       "      <td>2447</td>\n",
       "      <td>2447</td>\n",
       "      <td>2447</td>\n",
       "      <td>2447</td>\n",
       "      <td>2447</td>\n",
       "      <td>2447</td>\n",
       "      <td>2447</td>\n",
       "    </tr>\n",
       "    <tr>\n",
       "      <th>unique</th>\n",
       "      <td>1066</td>\n",
       "      <td>1066</td>\n",
       "      <td>2447</td>\n",
       "      <td>2446</td>\n",
       "      <td>2330</td>\n",
       "      <td>80</td>\n",
       "      <td>80</td>\n",
       "      <td>138</td>\n",
       "      <td>86</td>\n",
       "      <td>85</td>\n",
       "      <td>2</td>\n",
       "    </tr>\n",
       "    <tr>\n",
       "      <th>top</th>\n",
       "      <td>144851766</td>\n",
       "      <td>SiRiPALIT</td>\n",
       "      <td>1001510464306561024</td>\n",
       "      <td>หิว</td>\n",
       "      <td>2018-05-29 15:14:50</td>\n",
       "      <td>-1</td>\n",
       "      <td>-1</td>\n",
       "      <td>ประเทศไทย</td>\n",
       "      <td>97.343365, 5.612531</td>\n",
       "      <td>105.636107, 20.46519</td>\n",
       "      <td>th</td>\n",
       "    </tr>\n",
       "    <tr>\n",
       "      <th>freq</th>\n",
       "      <td>47</td>\n",
       "      <td>47</td>\n",
       "      <td>1</td>\n",
       "      <td>2</td>\n",
       "      <td>3</td>\n",
       "      <td>2353</td>\n",
       "      <td>2353</td>\n",
       "      <td>138</td>\n",
       "      <td>237</td>\n",
       "      <td>237</td>\n",
       "      <td>2144</td>\n",
       "    </tr>\n",
       "  </tbody>\n",
       "</table>\n",
       "</div>"
      ],
      "text/plain": [
       "           acc_id        acc             tweet_id  text         created_time  \\\n",
       "count        2447       2447                 2447  2447                 2447   \n",
       "unique       1066       1066                 2447  2446                 2330   \n",
       "top     144851766  SiRiPALIT  1001510464306561024   หิว  2018-05-29 15:14:50   \n",
       "freq           47         47                    1     2                    3   \n",
       "\n",
       "       ex_lat ex_long      place               lot_sw                lot_ne  \\\n",
       "count    2447    2447       2447                 2447                  2447   \n",
       "unique     80      80        138                   86                    85   \n",
       "top        -1      -1  ประเทศไทย  97.343365, 5.612531  105.636107, 20.46519   \n",
       "freq     2353    2353        138                  237                   237   \n",
       "\n",
       "        lang  \n",
       "count   2447  \n",
       "unique     2  \n",
       "top       th  \n",
       "freq    2144  "
      ]
     },
     "execution_count": 36,
     "metadata": {},
     "output_type": "execute_result"
    }
   ],
   "source": [
    "tweet_df = tweet_df[tweet_df.place != 'Myanmar']\n",
    "tweet_df.describe()"
   ]
  },
  {
   "cell_type": "markdown",
   "metadata": {},
   "source": [
    "## Translating zone"
   ]
  },
  {
   "cell_type": "code",
   "execution_count": 37,
   "metadata": {},
   "outputs": [
    {
     "data": {
      "text/plain": [
       "array(['Sathon', 'Rong Mueang', 'สาทร', 'กรุงเทพมหานคร', 'Pathum Wan',\n",
       "       'ประเทศไทย', 'วชิรพยาบาล', 'Thailand', 'รองเมือง', 'Lumphini',\n",
       "       'ราชเทวี', 'Din Daeng', 'Bangkok Yai', 'ปทุมวัน', 'Phra Khanong',\n",
       "       'Huai Khwang', 'คลองต้นไทร', 'ลุมพินี', 'Suriya Wong', 'Silom',\n",
       "       'Bang Khlo', 'Khlong Tan Nuea', 'Ratchathewi', 'Khlong Toei',\n",
       "       'Bangkok', 'พญาไท', 'Samsen Nok', 'Bang Pakok', 'คลองตันเหนือ',\n",
       "       'Khlong Ton Sai', 'บางมด 1', 'บางพลัด', 'Yannawa', 'พระโขนงเหนือ',\n",
       "       'วังใหม่', 'ถนนเพชรบุรี', 'ดินแดง', 'บางโพงพาง', 'พระโขนง',\n",
       "       'Thanon Phaya Thai', 'Khlong San', 'Bang Bumru', 'Bukkhalo',\n",
       "       'มักกะสัน', 'Wachira Phayaban', 'บางขุนพรหม', 'Phaya Thai',\n",
       "       'Phra Khanong Nuea', 'สีลม', 'บางกอกใหญ่', 'Wang Mai',\n",
       "       'Wat Phraya Krai', 'บางกะปิ', 'คลองสาน', 'Makkasan', 'ตลาดน้อย',\n",
       "       'อ.พระประแดง', 'มหาพฤฒาราม', 'ดุสิต', 'Talat Noi', 'ห้วยขวาง',\n",
       "       'Thung Maha Mek', 'Bang Phong Phang', 'วัดพระยาไกร', 'สามเสนนอก',\n",
       "       'Ban Bat', 'Thanon Phetchaburi', 'บุคคโล', 'Vadhana', 'Si Phraya',\n",
       "       'Chom Thong', 'Bang Lamphu Lang', 'ทุ่งมหาเมฆ',\n",
       "       'Pom Prap Sattru Phai', 'Bangkok Noi', 'ถนนนครไชยศรี',\n",
       "       'Bang Phlat', 'วัดราชบพิธ', 'Khlong Tan', 'Dao Khanong', 'วัฒนา',\n",
       "       'Bang Kapi', 'ยานนาวา', 'ถนนพญาไท', 'Arun Amarin', 'บางยี่ขัน',\n",
       "       'Bang Rak', 'Bang Khun Phrom', 'Thanon Nakhon Chai Si', 'สี่พระยา',\n",
       "       'สุริยวงศ์', 'คลองเตย', 'บางลำภูล่าง', 'อรุณอมรินทร์',\n",
       "       'Wang Burapha Phirom', 'บางโคล่', 'Samre', 'ราษฎร์บูรณะ', 'จอมทอง',\n",
       "       'คลองตัน', 'Bang Mot 1', 'บางกอกน้อย', 'Talat Yot', 'บางกะเจ้า',\n",
       "       'Si Yaek Maha Nak', 'สำเหร่', 'Phra Borom Maha Ratchawang',\n",
       "       'Bang Kho Laem', 'Bang Yi Khan', 'Bowon Niwet', 'Dusit',\n",
       "       'Maha Phruttharam', 'บางบำหรุ', 'Samran Rat', 'Wat Arun',\n",
       "       'Ban Phan Thom', 'บางปะกอก', 'Samphanthawong', 'บางคอแหลม',\n",
       "       'สมเด็จเจ้าพระยา', 'ดาวคะนอง', 'หิรัญรูจี', 'พระบรมมหาราชวัง',\n",
       "       'Hiranruchi', 'Suan Chitlada', 'พระนคร', 'Wat Ratchabophit',\n",
       "       'Wat Thep Sirin', 'คลองมหานาค', 'สวนจิตรลดา', 'Wat Kanlaya',\n",
       "       'ป้อมปราบศัตรูพ่าย', 'บางรัก', 'Thon Buri', 'วัดอรุณ',\n",
       "       'วัดกัลยาณ์', 'ธนบุรี', 'Wat Sam Phraya'], dtype=object)"
      ]
     },
     "execution_count": 37,
     "metadata": {},
     "output_type": "execute_result"
    }
   ],
   "source": [
    "tweet_df['place'].unique()"
   ]
  },
  {
   "cell_type": "code",
   "execution_count": 41,
   "metadata": {},
   "outputs": [
    {
     "name": "stdout",
     "output_type": "stream",
     "text": [
      "Grand Palace\n"
     ]
    }
   ],
   "source": [
    "print(translate('พระบรมมหาราชวัง','en'))"
   ]
  },
  {
   "cell_type": "code",
   "execution_count": 52,
   "metadata": {},
   "outputs": [],
   "source": [
    "#tweet_df['acc'] = tweet_df['acc'].apply(lambda x: translate(x,'en'))"
   ]
  },
  {
   "cell_type": "code",
   "execution_count": 50,
   "metadata": {},
   "outputs": [],
   "source": [
    "#tweet_df['place'] = tweet_df['place'].apply(lambda x: translate(x,'en'))"
   ]
  },
  {
   "cell_type": "code",
   "execution_count": 51,
   "metadata": {},
   "outputs": [],
   "source": [
    "#tweet_df['textt'] = tweet_df['text'].apply(lambda x: translate(x,'en'))"
   ]
  },
  {
   "cell_type": "code",
   "execution_count": 57,
   "metadata": {},
   "outputs": [],
   "source": [
    "#save_obj('translated_tweet', tweet_df)"
   ]
  },
  {
   "cell_type": "code",
   "execution_count": 67,
   "metadata": {},
   "outputs": [],
   "source": [
    "with open('translated_tweet','rb') as f:\n",
    "    tweet_df = pickle.load(f)"
   ]
  },
  {
   "cell_type": "code",
   "execution_count": 68,
   "metadata": {},
   "outputs": [
    {
     "data": {
      "text/html": [
       "<div>\n",
       "<style scoped>\n",
       "    .dataframe tbody tr th:only-of-type {\n",
       "        vertical-align: middle;\n",
       "    }\n",
       "\n",
       "    .dataframe tbody tr th {\n",
       "        vertical-align: top;\n",
       "    }\n",
       "\n",
       "    .dataframe thead th {\n",
       "        text-align: right;\n",
       "    }\n",
       "</style>\n",
       "<table border=\"1\" class=\"dataframe\">\n",
       "  <thead>\n",
       "    <tr style=\"text-align: right;\">\n",
       "      <th></th>\n",
       "      <th>acc_id</th>\n",
       "      <th>acc</th>\n",
       "      <th>tweet_id</th>\n",
       "      <th>text</th>\n",
       "      <th>created_time</th>\n",
       "      <th>ex_lat</th>\n",
       "      <th>ex_long</th>\n",
       "      <th>place</th>\n",
       "      <th>lot_sw</th>\n",
       "      <th>lot_ne</th>\n",
       "      <th>lang</th>\n",
       "    </tr>\n",
       "  </thead>\n",
       "  <tbody>\n",
       "    <tr>\n",
       "      <th>0</th>\n",
       "      <td>58872847</td>\n",
       "      <td>amp_cuband</td>\n",
       "      <td>1001468679140270080</td>\n",
       "      <td>@jjiab I personally think that's fine.</td>\n",
       "      <td>2018-05-29 14:21:54</td>\n",
       "      <td>-1</td>\n",
       "      <td>-1</td>\n",
       "      <td>Sathon</td>\n",
       "      <td>100.508189, 13.700842</td>\n",
       "      <td>100.553474, 13.725971</td>\n",
       "      <td>th</td>\n",
       "    </tr>\n",
       "    <tr>\n",
       "      <th>1</th>\n",
       "      <td>168438587</td>\n",
       "      <td>Porschephranot</td>\n",
       "      <td>1001468684752248834</td>\n",
       "      <td>@mj_zik</td>\n",
       "      <td>2018-05-29 14:21:55</td>\n",
       "      <td>-1</td>\n",
       "      <td>-1</td>\n",
       "      <td>Rong Mueang</td>\n",
       "      <td>100.515532, 13.735617</td>\n",
       "      <td>100.524483, 13.75308</td>\n",
       "      <td>th</td>\n",
       "    </tr>\n",
       "    <tr>\n",
       "      <th>2</th>\n",
       "      <td>260726562</td>\n",
       "      <td>mangokarn</td>\n",
       "      <td>1001468689105936384</td>\n",
       "      <td>Thanks for sharing!</td>\n",
       "      <td>2018-05-29 14:21:56</td>\n",
       "      <td>-1</td>\n",
       "      <td>-1</td>\n",
       "      <td>Sathorn</td>\n",
       "      <td>100.514643, 13.700842</td>\n",
       "      <td>100.537444, 13.715906</td>\n",
       "      <td>th</td>\n",
       "    </tr>\n",
       "    <tr>\n",
       "      <th>3</th>\n",
       "      <td>2668781561</td>\n",
       "      <td>__hxnxx</td>\n",
       "      <td>1001468699784634369</td>\n",
       "      <td>As much as I feel saddened by Ali Banats death...</td>\n",
       "      <td>2018-05-29 14:21:59</td>\n",
       "      <td>-1</td>\n",
       "      <td>-1</td>\n",
       "      <td>Bangkok</td>\n",
       "      <td>100.327737, 13.494097</td>\n",
       "      <td>100.938408, 13.955111</td>\n",
       "      <td>en</td>\n",
       "    </tr>\n",
       "    <tr>\n",
       "      <th>4</th>\n",
       "      <td>104415934</td>\n",
       "      <td>devoteraphar</td>\n",
       "      <td>1001468727756574720</td>\n",
       "      <td>I'm at Police General Hospital in Pathum Wan, ...</td>\n",
       "      <td>2018-05-29 14:22:05</td>\n",
       "      <td>13.74321493</td>\n",
       "      <td>100.53976065</td>\n",
       "      <td>Pathum Wan</td>\n",
       "      <td>100.528375, 13.72951</td>\n",
       "      <td>100.541027, 13.749708</td>\n",
       "      <td>en</td>\n",
       "    </tr>\n",
       "  </tbody>\n",
       "</table>\n",
       "</div>"
      ],
      "text/plain": [
       "       acc_id             acc             tweet_id  \\\n",
       "0    58872847      amp_cuband  1001468679140270080   \n",
       "1   168438587  Porschephranot  1001468684752248834   \n",
       "2   260726562       mangokarn  1001468689105936384   \n",
       "3  2668781561         __hxnxx  1001468699784634369   \n",
       "4   104415934    devoteraphar  1001468727756574720   \n",
       "\n",
       "                                                text         created_time  \\\n",
       "0             @jjiab I personally think that's fine.  2018-05-29 14:21:54   \n",
       "1                                            @mj_zik  2018-05-29 14:21:55   \n",
       "2                                Thanks for sharing!  2018-05-29 14:21:56   \n",
       "3  As much as I feel saddened by Ali Banats death...  2018-05-29 14:21:59   \n",
       "4  I'm at Police General Hospital in Pathum Wan, ...  2018-05-29 14:22:05   \n",
       "\n",
       "         ex_lat       ex_long        place                 lot_sw  \\\n",
       "0            -1            -1       Sathon  100.508189, 13.700842   \n",
       "1            -1            -1  Rong Mueang  100.515532, 13.735617   \n",
       "2            -1            -1      Sathorn  100.514643, 13.700842   \n",
       "3            -1            -1      Bangkok  100.327737, 13.494097   \n",
       "4   13.74321493  100.53976065   Pathum Wan   100.528375, 13.72951   \n",
       "\n",
       "                  lot_ne lang  \n",
       "0  100.553474, 13.725971   th  \n",
       "1   100.524483, 13.75308   th  \n",
       "2  100.537444, 13.715906   th  \n",
       "3  100.938408, 13.955111   en  \n",
       "4  100.541027, 13.749708   en  "
      ]
     },
     "execution_count": 68,
     "metadata": {},
     "output_type": "execute_result"
    }
   ],
   "source": [
    "tweet_df.head()"
   ]
  },
  {
   "cell_type": "markdown",
   "metadata": {},
   "source": [
    "## clean some places"
   ]
  },
  {
   "cell_type": "code",
   "execution_count": 100,
   "metadata": {},
   "outputs": [
    {
     "data": {
      "text/plain": [
       "Thailand                      237\n",
       "Din Daeng                     161\n",
       "Phra Khanong                  118\n",
       "Ratchathewi                   114\n",
       "Bangkok                       113\n",
       "Phaya Thai                     65\n",
       "Lumphini                       65\n",
       "Sathorn                        58\n",
       "Briefly                        53\n",
       "Huai Khwang                    50\n",
       "Phayathai                      49\n",
       "Yannawa                        48\n",
       "Khlong Toei                    47\n",
       "Arun Amarin                    44\n",
       "Bang Phlat                     42\n",
       "North Klongton                 39\n",
       "Makkasan                       35\n",
       "Bangyikhan                     34\n",
       "Khlong San                     33\n",
       "Sathon                         32\n",
       "Khlong Tan Nuea                31\n",
       "Samsennok                      29\n",
       "Chom Thong                     29\n",
       "Rong Mueang                    29\n",
       "Pathumwan                      28\n",
       "Thanon Phaya Thai              27\n",
       "Khlong Ton Sai                 26\n",
       "windmill                       26\n",
       "Vadhana                        25\n",
       "Wattana                        25\n",
       "                             ... \n",
       "Dao                             4\n",
       "Ban Phan Thom                   4\n",
       "Bang Mot 1                      4\n",
       "Somdej Chao Phraya              3\n",
       "Suriyawongse                    3\n",
       "Hiranruchi                      3\n",
       "Chitralada Garden               3\n",
       "Suriya Wong                     3\n",
       "New Palace                      3\n",
       "Wat Kanlaya                     3\n",
       "Khlong Mahanak                  2\n",
       "What Arun                       2\n",
       "Ratburana                       2\n",
       "Yaek Maha Nak                   2\n",
       "Virgin                          2\n",
       "Thonburi                        2\n",
       "Mahidol                         2\n",
       "Phra Pradaeng                   2\n",
       "Samran Rat                      2\n",
       "Grand Palace                    2\n",
       "Some                            1\n",
       "Wat Sam Phraya                  1\n",
       "capital                         1\n",
       "Wat Thep Sirin                  1\n",
       "Samphanthawong                  1\n",
       "Phra Borom Maha Ratchawang      1\n",
       "Bang rak                        1\n",
       "Wat Kalay                       1\n",
       "Arun temple                     1\n",
       "Thon Buri                       1\n",
       "Name: place, Length: 120, dtype: int64"
      ]
     },
     "execution_count": 100,
     "metadata": {},
     "output_type": "execute_result"
    }
   ],
   "source": [
    "tweet_df['place'].value_counts()"
   ]
  },
  {
   "cell_type": "code",
   "execution_count": 103,
   "metadata": {},
   "outputs": [],
   "source": [
    "tweet_df = tweet_df[tweet_df['place']!='Thailand']\n",
    "tweet_df = tweet_df[tweet_df['place']!='Bangkok']"
   ]
  },
  {
   "cell_type": "markdown",
   "metadata": {},
   "source": [
    "## check duplicated tweet_id"
   ]
  },
  {
   "cell_type": "code",
   "execution_count": 134,
   "metadata": {},
   "outputs": [
    {
     "data": {
      "text/plain": [
       "True"
      ]
     },
     "execution_count": 134,
     "metadata": {},
     "output_type": "execute_result"
    }
   ],
   "source": [
    "len(tweet_df['tweet_id']) == len(set(tweet_df['tweet_id']))"
   ]
  },
  {
   "cell_type": "code",
   "execution_count": null,
   "metadata": {},
   "outputs": [],
   "source": []
  },
  {
   "cell_type": "code",
   "execution_count": null,
   "metadata": {},
   "outputs": [],
   "source": []
  },
  {
   "cell_type": "markdown",
   "metadata": {},
   "source": [
    "## Seperate languages"
   ]
  },
  {
   "cell_type": "code",
   "execution_count": 104,
   "metadata": {},
   "outputs": [],
   "source": [
    "tweet_en = tweet_df[tweet_df.lang=='en']\n",
    "tweet_th = tweet_df[tweet_df.lang=='th']"
   ]
  },
  {
   "cell_type": "code",
   "execution_count": 105,
   "metadata": {},
   "outputs": [
    {
     "data": {
      "text/html": [
       "<div>\n",
       "<style scoped>\n",
       "    .dataframe tbody tr th:only-of-type {\n",
       "        vertical-align: middle;\n",
       "    }\n",
       "\n",
       "    .dataframe tbody tr th {\n",
       "        vertical-align: top;\n",
       "    }\n",
       "\n",
       "    .dataframe thead th {\n",
       "        text-align: right;\n",
       "    }\n",
       "</style>\n",
       "<table border=\"1\" class=\"dataframe\">\n",
       "  <thead>\n",
       "    <tr style=\"text-align: right;\">\n",
       "      <th></th>\n",
       "      <th>acc_id</th>\n",
       "      <th>acc</th>\n",
       "      <th>tweet_id</th>\n",
       "      <th>text</th>\n",
       "      <th>created_time</th>\n",
       "      <th>ex_lat</th>\n",
       "      <th>ex_long</th>\n",
       "      <th>place</th>\n",
       "      <th>lot_sw</th>\n",
       "      <th>lot_ne</th>\n",
       "      <th>lang</th>\n",
       "    </tr>\n",
       "  </thead>\n",
       "  <tbody>\n",
       "    <tr>\n",
       "      <th>count</th>\n",
       "      <td>261</td>\n",
       "      <td>261</td>\n",
       "      <td>261</td>\n",
       "      <td>261</td>\n",
       "      <td>261</td>\n",
       "      <td>261</td>\n",
       "      <td>261</td>\n",
       "      <td>261</td>\n",
       "      <td>261</td>\n",
       "      <td>261</td>\n",
       "      <td>261</td>\n",
       "    </tr>\n",
       "    <tr>\n",
       "      <th>unique</th>\n",
       "      <td>170</td>\n",
       "      <td>170</td>\n",
       "      <td>261</td>\n",
       "      <td>261</td>\n",
       "      <td>259</td>\n",
       "      <td>55</td>\n",
       "      <td>54</td>\n",
       "      <td>67</td>\n",
       "      <td>58</td>\n",
       "      <td>57</td>\n",
       "      <td>1</td>\n",
       "    </tr>\n",
       "    <tr>\n",
       "      <th>top</th>\n",
       "      <td>983194539048480769</td>\n",
       "      <td>preshtawiah</td>\n",
       "      <td>1001622501053550593</td>\n",
       "      <td>@IDFSpokesperson @NYCREMilton This is sad.</td>\n",
       "      <td>2018-05-30 00:37:26</td>\n",
       "      <td>-1</td>\n",
       "      <td>-1</td>\n",
       "      <td>Khlong Toei</td>\n",
       "      <td>100.55061, 13.697698</td>\n",
       "      <td>100.588204, 13.742692</td>\n",
       "      <td>en</td>\n",
       "    </tr>\n",
       "    <tr>\n",
       "      <th>freq</th>\n",
       "      <td>21</td>\n",
       "      <td>21</td>\n",
       "      <td>1</td>\n",
       "      <td>1</td>\n",
       "      <td>2</td>\n",
       "      <td>199</td>\n",
       "      <td>199</td>\n",
       "      <td>31</td>\n",
       "      <td>34</td>\n",
       "      <td>34</td>\n",
       "      <td>261</td>\n",
       "    </tr>\n",
       "  </tbody>\n",
       "</table>\n",
       "</div>"
      ],
      "text/plain": [
       "                    acc_id          acc             tweet_id  \\\n",
       "count                  261          261                  261   \n",
       "unique                 170          170                  261   \n",
       "top     983194539048480769  preshtawiah  1001622501053550593   \n",
       "freq                    21           21                    1   \n",
       "\n",
       "                                              text         created_time  \\\n",
       "count                                          261                  261   \n",
       "unique                                         261                  259   \n",
       "top     @IDFSpokesperson @NYCREMilton This is sad.  2018-05-30 00:37:26   \n",
       "freq                                             1                    2   \n",
       "\n",
       "       ex_lat ex_long        place                lot_sw  \\\n",
       "count     261     261          261                   261   \n",
       "unique     55      54           67                    58   \n",
       "top        -1      -1  Khlong Toei  100.55061, 13.697698   \n",
       "freq      199     199           31                    34   \n",
       "\n",
       "                       lot_ne lang  \n",
       "count                     261  261  \n",
       "unique                     57    1  \n",
       "top     100.588204, 13.742692   en  \n",
       "freq                       34  261  "
      ]
     },
     "execution_count": 105,
     "metadata": {},
     "output_type": "execute_result"
    }
   ],
   "source": [
    "tweet_en.describe()"
   ]
  },
  {
   "cell_type": "code",
   "execution_count": 106,
   "metadata": {},
   "outputs": [
    {
     "data": {
      "text/html": [
       "<div>\n",
       "<style scoped>\n",
       "    .dataframe tbody tr th:only-of-type {\n",
       "        vertical-align: middle;\n",
       "    }\n",
       "\n",
       "    .dataframe tbody tr th {\n",
       "        vertical-align: top;\n",
       "    }\n",
       "\n",
       "    .dataframe thead th {\n",
       "        text-align: right;\n",
       "    }\n",
       "</style>\n",
       "<table border=\"1\" class=\"dataframe\">\n",
       "  <thead>\n",
       "    <tr style=\"text-align: right;\">\n",
       "      <th></th>\n",
       "      <th>acc_id</th>\n",
       "      <th>acc</th>\n",
       "      <th>tweet_id</th>\n",
       "      <th>text</th>\n",
       "      <th>created_time</th>\n",
       "      <th>ex_lat</th>\n",
       "      <th>ex_long</th>\n",
       "      <th>place</th>\n",
       "      <th>lot_sw</th>\n",
       "      <th>lot_ne</th>\n",
       "      <th>lang</th>\n",
       "    </tr>\n",
       "  </thead>\n",
       "  <tbody>\n",
       "    <tr>\n",
       "      <th>count</th>\n",
       "      <td>1836</td>\n",
       "      <td>1836</td>\n",
       "      <td>1836</td>\n",
       "      <td>1836</td>\n",
       "      <td>1836</td>\n",
       "      <td>1836</td>\n",
       "      <td>1836</td>\n",
       "      <td>1836</td>\n",
       "      <td>1836</td>\n",
       "      <td>1836</td>\n",
       "      <td>1836</td>\n",
       "    </tr>\n",
       "    <tr>\n",
       "      <th>unique</th>\n",
       "      <td>746</td>\n",
       "      <td>746</td>\n",
       "      <td>1836</td>\n",
       "      <td>1639</td>\n",
       "      <td>1776</td>\n",
       "      <td>20</td>\n",
       "      <td>21</td>\n",
       "      <td>111</td>\n",
       "      <td>81</td>\n",
       "      <td>80</td>\n",
       "      <td>1</td>\n",
       "    </tr>\n",
       "    <tr>\n",
       "      <th>top</th>\n",
       "      <td>144851766</td>\n",
       "      <td>SiRiPALIT</td>\n",
       "      <td>1001510464306561024</td>\n",
       "      <td>I'm not sure what to say.</td>\n",
       "      <td>2018-05-29 15:19:24</td>\n",
       "      <td>-1</td>\n",
       "      <td>-1</td>\n",
       "      <td>Din Daeng</td>\n",
       "      <td>100.54335, 13.755095</td>\n",
       "      <td>100.574668, 13.800937</td>\n",
       "      <td>th</td>\n",
       "    </tr>\n",
       "    <tr>\n",
       "      <th>freq</th>\n",
       "      <td>47</td>\n",
       "      <td>47</td>\n",
       "      <td>1</td>\n",
       "      <td>37</td>\n",
       "      <td>3</td>\n",
       "      <td>1813</td>\n",
       "      <td>1813</td>\n",
       "      <td>153</td>\n",
       "      <td>153</td>\n",
       "      <td>153</td>\n",
       "      <td>1836</td>\n",
       "    </tr>\n",
       "  </tbody>\n",
       "</table>\n",
       "</div>"
      ],
      "text/plain": [
       "           acc_id        acc             tweet_id                       text  \\\n",
       "count        1836       1836                 1836                       1836   \n",
       "unique        746        746                 1836                       1639   \n",
       "top     144851766  SiRiPALIT  1001510464306561024  I'm not sure what to say.   \n",
       "freq           47         47                    1                         37   \n",
       "\n",
       "               created_time ex_lat ex_long      place                lot_sw  \\\n",
       "count                  1836   1836    1836       1836                  1836   \n",
       "unique                 1776     20      21        111                    81   \n",
       "top     2018-05-29 15:19:24     -1      -1  Din Daeng  100.54335, 13.755095   \n",
       "freq                      3   1813    1813        153                   153   \n",
       "\n",
       "                       lot_ne  lang  \n",
       "count                    1836  1836  \n",
       "unique                     80     1  \n",
       "top     100.574668, 13.800937    th  \n",
       "freq                      153  1836  "
      ]
     },
     "execution_count": 106,
     "metadata": {},
     "output_type": "execute_result"
    }
   ],
   "source": [
    "tweet_th.describe()"
   ]
  },
  {
   "cell_type": "markdown",
   "metadata": {},
   "source": [
    "## Looking at 4Square"
   ]
  },
  {
   "cell_type": "code",
   "execution_count": 117,
   "metadata": {},
   "outputs": [
    {
     "data": {
      "text/plain": [
       "\"I'm at Police General Hospital in Pathum Wan, Bangkok https://t.co/cnAdRvQGW8\""
      ]
     },
     "execution_count": 117,
     "metadata": {},
     "output_type": "execute_result"
    }
   ],
   "source": [
    "tweet_df.text[4]"
   ]
  },
  {
   "cell_type": "code",
   "execution_count": 122,
   "metadata": {},
   "outputs": [
    {
     "data": {
      "text/plain": [
       "False    1828\n",
       "True        8\n",
       "Name: text, dtype: int64"
      ]
     },
     "execution_count": 122,
     "metadata": {},
     "output_type": "execute_result"
    }
   ],
   "source": [
    "tweet_th['text'].apply(lambda x: \"I'm at\" in x).value_counts()"
   ]
  },
  {
   "cell_type": "code",
   "execution_count": 126,
   "metadata": {},
   "outputs": [
    {
     "data": {
      "text/plain": [
       "2046               I'm at Bangkok https://t.co/JAPtVh2Bp5\n",
       "2060      I'm at Makkasan Railway https://t.co/dLC8qUNL04\n",
       "2326    I'm at Mahaphant Building, 88th Birthday Anniv...\n",
       "2384    I'm at a bloody rice pudding with seaweed w / ...\n",
       "2430    I'm at rice, blood, pig, mushroom, seaweed w /...\n",
       "2452    I'm at Chulalongkorn Hospital in Bangkok, Bang...\n",
       "2493                                    I'm at Das Prada.\n",
       "2572    I'm at home, kindheartedly https://t.co/xybHoI...\n",
       "Name: text, dtype: object"
      ]
     },
     "execution_count": 126,
     "metadata": {},
     "output_type": "execute_result"
    }
   ],
   "source": [
    "tweet_th[tweet_th['text'].apply(lambda x: \"I'm at\" in x)]['text']"
   ]
  },
  {
   "cell_type": "code",
   "execution_count": 129,
   "metadata": {},
   "outputs": [
    {
     "data": {
      "text/plain": [
       "False    217\n",
       "True      44\n",
       "Name: text, dtype: int64"
      ]
     },
     "execution_count": 129,
     "metadata": {},
     "output_type": "execute_result"
    }
   ],
   "source": [
    "tweet_en['text'].apply(lambda x: \"I'm at\" in x).value_counts()"
   ]
  },
  {
   "cell_type": "code",
   "execution_count": 128,
   "metadata": {},
   "outputs": [
    {
     "data": {
      "text/plain": [
       "4       I'm at Police General Hospital in Pathum Wan, ...\n",
       "217     I'm at stronghold boardgame cafe https://t.co/...\n",
       "221     I'm at Butcher Beef &amp; Beer in Bang Kho Lae...\n",
       "265     I'm at Asiatique The Riverfront in Bang Kho La...\n",
       "276     I'm at K.S.RESIDENCE in Bang Phlat, Bangkok ht...\n",
       "368     I'm at CTH Dormitory in Bangkok, Thailand http...\n",
       "468     I'm at Prime Sathorn Residence in Bangkok http...\n",
       "1125    I'm at @BigCThailand in Pathum Wan, Bangkok ht...\n",
       "1445         I'm at Bar Next Door https://t.co/qNs1znDdnj\n",
       "1476    I'm at The Sense Pinklao in Bangkok Noi, Thail...\n",
       "1627    I'm at Scratch Dog in Khlong Toei, Bangkok htt...\n",
       "1792    I'm at The Street in Din Daeng, Bangkok https:...\n",
       "1985    I'm at Foodland in Din Daeng, Bangkok https://...\n",
       "2042    I'm at Bangkok Marriott Hotel The Surawongse i...\n",
       "2116    I'm at Bang Phlat Intersection in Bang Phlat, ...\n",
       "2137    I'm at Wattana Wittaya Academy in Vadhana, Ban...\n",
       "2188    I'm at Rajinibon School in Dusit, Bangkok w / ...\n",
       "2192    I'm at Wattana Wittaya Academy in Vadhana, Ban...\n",
       "2221    I'm at Victory Monument in Ratchathewi, Bangko...\n",
       "2237    I'm at Taksin Intersection in Thon Buri, Bangk...\n",
       "2247    I'm at BTS Pho Nimit - @bts_skytrain in Thon B...\n",
       "2266    I'm at Y Rooms &amp; Spa in Khlong Toei https:...\n",
       "2291    I'm at BRT Thanon Chan - @bangkokbrt in Sathon...\n",
       "2312    I'm at Embassy of the United States of America...\n",
       "2316    I'm at Assumption Convent School in Bang Rak, ...\n",
       "2334    I'm at Rajavithi Hospital in Ratchathewi, Bang...\n",
       "2340    I'm at Faculty of Education in Pathum Wan, Ban...\n",
       "2382    I'm at BDS Performance in Bangkok https://t.co...\n",
       "2389    I'm at BTS สยาม - @bts_skytrain in Pathum Wan,...\n",
       "2393    I'm at Vatel International Business School in ...\n",
       "2394    I'm at Bank of Thailand in Bangrak, Bangkok ht...\n",
       "2407    I'm at M.O.P | Art &amp; Design Studio in Bang...\n",
       "2410    I'm at Freshdrinkcafe in Thapha, Bangkok https...\n",
       "2434      I'm at M.6/8 art-social https://t.co/3e6Zkr5HVs\n",
       "2443    I'm at Interchange 21 in Vadhana, Bangkok http...\n",
       "2453    I'm at Ploenchit Building in Pathum Wan, Bangk...\n",
       "2459    I'm at Chartered Square Building in Bang Rak, ...\n",
       "2532    I'm at Starbucks in Pathum Wan, Bangkok https:...\n",
       "2536    I'm at Lido in Pathum Wan, Bangkok https://t.c...\n",
       "2538    I'm at VRX - Ultimate VR Experience in Bangkok...\n",
       "2563    I'm at วราภรณ์ (MANTOU PASSION) https://t.co/e...\n",
       "2565    I'm at วราภรณ์ (MANTOU PASSION) w/ @punchpcp h...\n",
       "2646    I'm at Siam Square in Pathum Wan, Bangkok http...\n",
       "2659    I'm at Thailand Convention and Exhibition Bure...\n",
       "Name: text, dtype: object"
      ]
     },
     "execution_count": 128,
     "metadata": {},
     "output_type": "execute_result"
    }
   ],
   "source": [
    "tweet_en[tweet_en['text'].apply(lambda x: \"I'm at\" in x)]['text']"
   ]
  },
  {
   "cell_type": "code",
   "execution_count": null,
   "metadata": {},
   "outputs": [],
   "source": []
  }
 ],
 "metadata": {
  "kernelspec": {
   "display_name": "Python 3",
   "language": "python",
   "name": "python3"
  },
  "language_info": {
   "codemirror_mode": {
    "name": "ipython",
    "version": 3
   },
   "file_extension": ".py",
   "mimetype": "text/x-python",
   "name": "python",
   "nbconvert_exporter": "python",
   "pygments_lexer": "ipython3",
   "version": "3.6.4"
  }
 },
 "nbformat": 4,
 "nbformat_minor": 2
}
